{
 "cells": [
  {
   "cell_type": "markdown",
   "metadata": {},
   "source": [
    "# Data Cleaning"
   ]
  },
  {
   "cell_type": "markdown",
   "metadata": {},
   "source": [
    "### 0. Import necessary libraries"
   ]
  },
  {
   "cell_type": "code",
   "execution_count": 1,
   "metadata": {},
   "outputs": [],
   "source": [
    "import gc\n",
    "import os\n",
    "from datetime import datetime\n",
    "import pandas as pd\n",
    "import numpy as np\n",
    "import matplotlib.pyplot as plt\n",
    "import seaborn as sns\n",
    "import warnings\n",
    "\n",
    "from tqdm import tqdm_notebook\n",
    "\n",
    "\n",
    "DATA_FOLDER = '../data/'\n",
    "d_parser = lambda x: pd.datetime.strptime(x,'%d.%m.%Y')\n",
    "\n",
    "warnings.filterwarnings(\"ignore\")\n",
    "import utils"
   ]
  },
  {
   "cell_type": "markdown",
   "metadata": {},
   "source": [
    "### 1. Read the data"
   ]
  },
  {
   "cell_type": "code",
   "execution_count": 2,
   "metadata": {},
   "outputs": [
    {
     "name": "stdout",
     "output_type": "stream",
     "text": [
      "Wall time: 1min 46s\n"
     ]
    }
   ],
   "source": [
    "%%time\n",
    "\n",
    "df_sales           = pd.read_csv(os.path.join(DATA_FOLDER, 'sales_train.csv'), parse_dates =[\"date\"],date_parser=d_parser)\n",
    "df_items           = pd.read_csv(os.path.join(DATA_FOLDER, 'items.csv'))\n",
    "df_item_categories = pd.read_csv(os.path.join(DATA_FOLDER, 'item_categories.csv'))\n",
    "df_shops           = pd.read_csv(os.path.join(DATA_FOLDER, 'shops.csv'))"
   ]
  },
  {
   "cell_type": "markdown",
   "metadata": {},
   "source": [
    "### 2. Check for outliers\n",
    "Since, the outliers, can be found in item_cnt_day, that is the total quantity sold, and item_price, so will check both"
   ]
  },
  {
   "cell_type": "code",
   "execution_count": 3,
   "metadata": {},
   "outputs": [
    {
     "data": {
      "text/html": [
       "<div>\n",
       "<style scoped>\n",
       "    .dataframe tbody tr th:only-of-type {\n",
       "        vertical-align: middle;\n",
       "    }\n",
       "\n",
       "    .dataframe tbody tr th {\n",
       "        vertical-align: top;\n",
       "    }\n",
       "\n",
       "    .dataframe thead th {\n",
       "        text-align: right;\n",
       "    }\n",
       "</style>\n",
       "<table border=\"1\" class=\"dataframe\">\n",
       "  <thead>\n",
       "    <tr style=\"text-align: right;\">\n",
       "      <th></th>\n",
       "      <th>date</th>\n",
       "      <th>date_block_num</th>\n",
       "      <th>shop_id</th>\n",
       "      <th>item_id</th>\n",
       "      <th>item_price</th>\n",
       "      <th>item_cnt_day</th>\n",
       "    </tr>\n",
       "  </thead>\n",
       "  <tbody>\n",
       "    <tr>\n",
       "      <th>0</th>\n",
       "      <td>2013-01-02</td>\n",
       "      <td>0</td>\n",
       "      <td>59</td>\n",
       "      <td>22154</td>\n",
       "      <td>999.0</td>\n",
       "      <td>1.0</td>\n",
       "    </tr>\n",
       "    <tr>\n",
       "      <th>1</th>\n",
       "      <td>2013-01-03</td>\n",
       "      <td>0</td>\n",
       "      <td>25</td>\n",
       "      <td>2552</td>\n",
       "      <td>899.0</td>\n",
       "      <td>1.0</td>\n",
       "    </tr>\n",
       "    <tr>\n",
       "      <th>2</th>\n",
       "      <td>2013-01-05</td>\n",
       "      <td>0</td>\n",
       "      <td>25</td>\n",
       "      <td>2552</td>\n",
       "      <td>899.0</td>\n",
       "      <td>-1.0</td>\n",
       "    </tr>\n",
       "  </tbody>\n",
       "</table>\n",
       "</div>"
      ],
      "text/plain": [
       "        date  date_block_num  shop_id  item_id  item_price  item_cnt_day\n",
       "0 2013-01-02               0       59    22154       999.0           1.0\n",
       "1 2013-01-03               0       25     2552       899.0           1.0\n",
       "2 2013-01-05               0       25     2552       899.0          -1.0"
      ]
     },
     "execution_count": 3,
     "metadata": {},
     "output_type": "execute_result"
    }
   ],
   "source": [
    "df_sales.head(3)"
   ]
  },
  {
   "cell_type": "code",
   "execution_count": 4,
   "metadata": {},
   "outputs": [
    {
     "name": "stdout",
     "output_type": "stream",
     "text": [
      "Outliers for item_cnt_day :  [1000.  624.  637.  669. 2169.]\n",
      "Wall time: 288 ms\n"
     ]
    },
    {
     "data": {
      "image/png": "[encoded data removed]",
      "text/plain": [
       "<Figure size 1080x360 with 1 Axes>"
      ]
     },
     "metadata": {
      "needs_background": "light"
     },
     "output_type": "display_data"
    }
   ],
   "source": [
    "%%time\n",
    "# for item quantity\n",
    "plt.figure(figsize=(15,5))\n",
    "sns.boxplot(x=df_sales['item_cnt_day'])\n",
    "print('Outliers for item_cnt_day : ', df_sales[df_sales['item_cnt_day']>600]['item_cnt_day'].unique())"
   ]
  },
  {
   "cell_type": "code",
   "execution_count": 5,
   "metadata": {},
   "outputs": [
    {
     "name": "stdout",
     "output_type": "stream",
     "text": [
      "Wall time: 275 ms\n"
     ]
    }
   ],
   "source": [
    "%%time\n",
    "# deleting the quantities which are greater than 600\n",
    "df_sales = df_sales[df_sales['item_cnt_day']<=600]"
   ]
  },
  {
   "cell_type": "code",
   "execution_count": 6,
   "metadata": {},
   "outputs": [
    {
     "name": "stdout",
     "output_type": "stream",
     "text": [
      "Outliers for item_price :  [ 59200. 307980.]\n",
      "Wall time: 335 ms\n"
     ]
    },
    {
     "data": {
      "image/png": "[encoded data removed]",
      "text/plain": [
       "<Figure size 1080x360 with 1 Axes>"
      ]
     },
     "metadata": {
      "needs_background": "light"
     },
     "output_type": "display_data"
    }
   ],
   "source": [
    "%%time\n",
    "# checking for price\n",
    "plt.figure(figsize=(15,5))\n",
    "sns.boxplot(x=df_sales['item_price'])\n",
    "print('Outliers for item_price : ', df_sales[df_sales['item_price']>55000]['item_price'].unique())"
   ]
  },
  {
   "cell_type": "code",
   "execution_count": 7,
   "metadata": {},
   "outputs": [
    {
     "name": "stdout",
     "output_type": "stream",
     "text": [
      "Wall time: 290 ms\n"
     ]
    }
   ],
   "source": [
    "%%time\n",
    "# values more than 55k could be outliers, so deleting all above 55k\n",
    "df_sales = df_sales[df_sales['item_price']<= 55000]"
   ]
  },
  {
   "cell_type": "markdown",
   "metadata": {},
   "source": [
    "### 3. Re-Checking after deletion of Outliers"
   ]
  },
  {
   "cell_type": "code",
   "execution_count": 8,
   "metadata": {},
   "outputs": [
    {
     "name": "stdout",
     "output_type": "stream",
     "text": [
      "Wall time: 262 ms\n"
     ]
    },
    {
     "data": {
      "text/plain": [
       "<matplotlib.axes._subplots.AxesSubplot at 0x1cc00d5b088>"
      ]
     },
     "execution_count": 8,
     "metadata": {},
     "output_type": "execute_result"
    },
    {
     "data": {
      "image/png": "[encoded data removed]",
      "text/plain": [
       "<Figure size 1080x360 with 1 Axes>"
      ]
     },
     "metadata": {
      "needs_background": "light"
     },
     "output_type": "display_data"
    }
   ],
   "source": [
    "%%time\n",
    "plt.figure(figsize=(15,5))\n",
    "sns.boxplot(x=df_sales['item_cnt_day'])"
   ]
  },
  {
   "cell_type": "code",
   "execution_count": 9,
   "metadata": {},
   "outputs": [
    {
     "name": "stdout",
     "output_type": "stream",
     "text": [
      "Wall time: 281 ms\n"
     ]
    },
    {
     "data": {
      "text/plain": [
       "<matplotlib.axes._subplots.AxesSubplot at 0x1cc00dcf088>"
      ]
     },
     "execution_count": 9,
     "metadata": {},
     "output_type": "execute_result"
    },
    {
     "data": {
      "image/png": "[encoded data removed]",
      "text/plain": [
       "<Figure size 1080x360 with 1 Axes>"
      ]
     },
     "metadata": {
      "needs_background": "light"
     },
     "output_type": "display_data"
    }
   ],
   "source": [
    "%%time\n",
    "plt.figure(figsize=(15,5))\n",
    "sns.boxplot(x=df_sales['item_price'])"
   ]
  },
  {
   "cell_type": "code",
   "execution_count": 10,
   "metadata": {},
   "outputs": [],
   "source": [
    "#instantiate the object (all important functions are gathered in this class)\n",
    "sales_util = utils.SalesUtils('')"
   ]
  },
  {
   "cell_type": "code",
   "execution_count": 11,
   "metadata": {},
   "outputs": [
    {
     "data": {
      "text/html": [
       "<div>\n",
       "<style scoped>\n",
       "    .dataframe tbody tr th:only-of-type {\n",
       "        vertical-align: middle;\n",
       "    }\n",
       "\n",
       "    .dataframe tbody tr th {\n",
       "        vertical-align: top;\n",
       "    }\n",
       "\n",
       "    .dataframe thead th {\n",
       "        text-align: right;\n",
       "    }\n",
       "</style>\n",
       "<table border=\"1\" class=\"dataframe\">\n",
       "  <thead>\n",
       "    <tr style=\"text-align: right;\">\n",
       "      <th></th>\n",
       "      <th>shop_name</th>\n",
       "      <th>shop_id</th>\n",
       "    </tr>\n",
       "  </thead>\n",
       "  <tbody>\n",
       "    <tr>\n",
       "      <th>0</th>\n",
       "      <td>!Якутск Орджоникидзе, 56 фран</td>\n",
       "      <td>0</td>\n",
       "    </tr>\n",
       "    <tr>\n",
       "      <th>1</th>\n",
       "      <td>!Якутск ТЦ \"Центральный\" фран</td>\n",
       "      <td>1</td>\n",
       "    </tr>\n",
       "    <tr>\n",
       "      <th>2</th>\n",
       "      <td>Адыгея ТЦ \"Мега\"</td>\n",
       "      <td>2</td>\n",
       "    </tr>\n",
       "  </tbody>\n",
       "</table>\n",
       "</div>"
      ],
      "text/plain": [
       "                       shop_name  shop_id\n",
       "0  !Якутск Орджоникидзе, 56 фран        0\n",
       "1  !Якутск ТЦ \"Центральный\" фран        1\n",
       "2               Адыгея ТЦ \"Мега\"        2"
      ]
     },
     "execution_count": 11,
     "metadata": {},
     "output_type": "execute_result"
    }
   ],
   "source": [
    "df_shops.head(3)"
   ]
  },
  {
   "cell_type": "markdown",
   "metadata": {},
   "source": [
    "### 4. Combining all Data-Sets to make one master for our Analysis"
   ]
  },
  {
   "cell_type": "code",
   "execution_count": 12,
   "metadata": {},
   "outputs": [
    {
     "name": "stdout",
     "output_type": "stream",
     "text": [
      "Wall time: 7.76 s\n"
     ]
    }
   ],
   "source": [
    "%%time\n",
    "\n",
    "# Adding the date time attributes (like week day, month number, etc.)\n",
    "df_sales = sales_util.add_date_attributes(df_sales)\n",
    "\n",
    "############    ITEMS      ##############\n",
    "# parsing the item categories (i.e. adding the parent category on top of the item_category)\n",
    "df_item_categories = sales_util.parse_item_categories(df_item_categories)\n",
    "# merging the items with item categories\n",
    "df_items = df_items.merge(df_item_categories, how='inner', on=['item_category_id'])\n",
    "\n",
    "############    SHOPS      ##############\n",
    "# Adding the city_id and city_name to the shops\n",
    "sales_util.parse_shop_names(df_shops)\n",
    "\n",
    "# merging the sales with the items\n",
    "df_sales = df_sales.merge(df_items[['item_id','item_category_id','parent_cat_id','parent_cat']].drop_duplicates(), how='inner')\n",
    "\n",
    "# merging the sales with the shops \n",
    "df_sales = df_sales.merge(df_shops[['shop_id','city_id','city_name']].drop_duplicates(), how='inner')"
   ]
  },
  {
   "cell_type": "markdown",
   "metadata": {},
   "source": [
    "### 5. Adding the public holidays to the dataset\n",
    "* I have gathered all the public holidays from google for the company's country of origin "
   ]
  },
  {
   "cell_type": "code",
   "execution_count": 13,
   "metadata": {},
   "outputs": [
    {
     "data": {
      "application/vnd.jupyter.widget-view+json": {
       "model_id": "1c0dc4c5e530448c8719871a2334b25d",
       "version_major": 2,
       "version_minor": 0
      },
      "text/plain": [
       "HBox(children=(FloatProgress(value=0.0, max=28.0), HTML(value='')))"
      ]
     },
     "metadata": {},
     "output_type": "display_data"
    },
    {
     "name": "stdout",
     "output_type": "stream",
     "text": [
      "\n",
      "Wall time: 9.28 s\n"
     ]
    }
   ],
   "source": [
    "%%time \n",
    "\n",
    "# adding the column\n",
    "df_sales['is_holiday'] = 0\n",
    "\n",
    "# adding 1 to the specified dates\n",
    "holidays_list = ['1:1','1:25','2:15','2:27','3:25','4:21','4:26','4:27','6:6','6:8','8:6','8:12','8:27','9:13','9:29','10:1',\n",
    "                '10:4','10:23','10:24','10:25','10:29','10:30','10:31','11:10','11:19','11:27','12:9','12:17']\n",
    "\n",
    "for holiday in tqdm_notebook(holidays_list):\n",
    "    \n",
    "    # getting the holiday month and day\n",
    "    m = holiday.split(':')[0] \n",
    "    d = holiday.split(':')[1]\n",
    "    \n",
    "    m = int(m)\n",
    "    d = int(d)\n",
    "    \n",
    "    # getting the indexes for the holidays    \n",
    "    dt = df_sales[(df_sales['day']==d) & (df_sales['month']==m)].index\n",
    "    \n",
    "    for idx in dt:\n",
    "        # updating the sales data        \n",
    "        df_sales.at[idx,'is_holiday'] = 1\n"
   ]
  },
  {
   "cell_type": "code",
   "execution_count": 14,
   "metadata": {},
   "outputs": [
    {
     "name": "stdout",
     "output_type": "stream",
     "text": [
      "total holidays in dataset are  208076\n"
     ]
    }
   ],
   "source": [
    "print('total holidays in dataset are ', len(df_sales[df_sales['is_holiday']==1]))"
   ]
  },
  {
   "cell_type": "markdown",
   "metadata": {},
   "source": [
    "### 6. Down-casting"
   ]
  },
  {
   "cell_type": "code",
   "execution_count": 15,
   "metadata": {},
   "outputs": [
    {
     "name": "stdout",
     "output_type": "stream",
     "text": [
      "<class 'pandas.core.frame.DataFrame'>\n",
      "Int64Index: 2935842 entries, 0 to 2935841\n",
      "Data columns (total 17 columns):\n",
      " #   Column            Dtype         \n",
      "---  ------            -----         \n",
      " 0   date              datetime64[ns]\n",
      " 1   date_block_num    int64         \n",
      " 2   shop_id           int64         \n",
      " 3   item_id           int64         \n",
      " 4   item_price        float64       \n",
      " 5   item_cnt_day      float64       \n",
      " 6   day               int64         \n",
      " 7   month             int64         \n",
      " 8   weekday           object        \n",
      " 9   weekdayno         int64         \n",
      " 10  year              int64         \n",
      " 11  item_category_id  int64         \n",
      " 12  parent_cat_id     int32         \n",
      " 13  parent_cat        object        \n",
      " 14  city_id           int64         \n",
      " 15  city_name         object        \n",
      " 16  is_holiday        int64         \n",
      "dtypes: datetime64[ns](1), float64(2), int32(1), int64(10), object(3)\n",
      "memory usage: 899.9 MB\n",
      "Wall time: 38.9 s\n"
     ]
    }
   ],
   "source": [
    "%%time\n",
    "df_sales.info(memory_usage='deep')"
   ]
  },
  {
   "cell_type": "code",
   "execution_count": 16,
   "metadata": {},
   "outputs": [
    {
     "name": "stdout",
     "output_type": "stream",
     "text": [
      "Wall time: 2.54 s\n"
     ]
    }
   ],
   "source": [
    "%%time\n",
    "# down casting\n",
    "df_sales['date_block_num'] = df_sales['date_block_num'].astype('int8')\n",
    "df_sales['shop_id'] = df_sales['shop_id'].astype('int8')\n",
    "df_sales['item_id'] = df_sales['item_id'].astype('int16')\n",
    "df_sales['item_price'] = df_sales['item_price'].astype('float16')\n",
    "df_sales['item_cnt_day'] = df_sales['item_cnt_day'].astype('int16')\n",
    "df_sales['day'] = df_sales['day'].astype('int8')\n",
    "df_sales['month'] = df_sales['month'].astype('int8')\n",
    "df_sales['weekdayno'] = df_sales['weekdayno'].astype('int8')\n",
    "df_sales['year'] = df_sales['year'].astype('int16')\n",
    "df_sales['item_category_id'] = df_sales['item_category_id'].astype('int8')\n",
    "df_sales['parent_cat_id'] = df_sales['parent_cat_id'].astype('int8')\n",
    "df_sales['parent_cat_id'] = df_sales['parent_cat_id'].astype('int8')\n",
    "df_sales['is_holiday'] = df_sales['is_holiday'].astype('int8')\n",
    "df_sales['city_id'] = df_sales['city_id'].astype('int8')\n",
    "\n",
    "# as we have number representations for both of the below, they will be deleted after eda\n",
    "df_sales['weekday'] = df_sales['weekday'].astype('category')\n",
    "df_sales['parent_cat'] = df_sales['parent_cat'].astype('category')"
   ]
  },
  {
   "cell_type": "code",
   "execution_count": 17,
   "metadata": {},
   "outputs": [
    {
     "name": "stdout",
     "output_type": "stream",
     "text": [
      "<class 'pandas.core.frame.DataFrame'>\n",
      "Int64Index: 2935842 entries, 0 to 2935841\n",
      "Data columns (total 17 columns):\n",
      " #   Column            Dtype         \n",
      "---  ------            -----         \n",
      " 0   date              datetime64[ns]\n",
      " 1   date_block_num    int8          \n",
      " 2   shop_id           int8          \n",
      " 3   item_id           int16         \n",
      " 4   item_price        float16       \n",
      " 5   item_cnt_day      int16         \n",
      " 6   day               int8          \n",
      " 7   month             int8          \n",
      " 8   weekday           category      \n",
      " 9   weekdayno         int8          \n",
      " 10  year              int16         \n",
      " 11  item_category_id  int8          \n",
      " 12  parent_cat_id     int8          \n",
      " 13  parent_cat        category      \n",
      " 14  city_id           int8          \n",
      " 15  city_name         object        \n",
      " 16  is_holiday        int8          \n",
      "dtypes: category(2), datetime64[ns](1), float16(1), int16(3), int8(9), object(1)\n",
      "memory usage: 315.9 MB\n",
      "Wall time: 13 s\n"
     ]
    }
   ],
   "source": [
    "%%time\n",
    "df_sales.info(memory_usage='deep')"
   ]
  },
  {
   "cell_type": "markdown",
   "metadata": {},
   "source": [
    "##### we saved huge memory !!"
   ]
  },
  {
   "cell_type": "code",
   "execution_count": 18,
   "metadata": {},
   "outputs": [
    {
     "data": {
      "text/html": [
       "<div>\n",
       "<style scoped>\n",
       "    .dataframe tbody tr th:only-of-type {\n",
       "        vertical-align: middle;\n",
       "    }\n",
       "\n",
       "    .dataframe tbody tr th {\n",
       "        vertical-align: top;\n",
       "    }\n",
       "\n",
       "    .dataframe thead th {\n",
       "        text-align: right;\n",
       "    }\n",
       "</style>\n",
       "<table border=\"1\" class=\"dataframe\">\n",
       "  <thead>\n",
       "    <tr style=\"text-align: right;\">\n",
       "      <th></th>\n",
       "      <th>date</th>\n",
       "      <th>date_block_num</th>\n",
       "      <th>shop_id</th>\n",
       "      <th>item_id</th>\n",
       "      <th>item_price</th>\n",
       "      <th>item_cnt_day</th>\n",
       "      <th>day</th>\n",
       "      <th>month</th>\n",
       "      <th>weekday</th>\n",
       "      <th>weekdayno</th>\n",
       "      <th>year</th>\n",
       "      <th>item_category_id</th>\n",
       "      <th>parent_cat_id</th>\n",
       "      <th>parent_cat</th>\n",
       "      <th>city_id</th>\n",
       "      <th>city_name</th>\n",
       "      <th>is_holiday</th>\n",
       "    </tr>\n",
       "  </thead>\n",
       "  <tbody>\n",
       "    <tr>\n",
       "      <th>0</th>\n",
       "      <td>2013-01-02</td>\n",
       "      <td>0</td>\n",
       "      <td>59</td>\n",
       "      <td>22154</td>\n",
       "      <td>999.0</td>\n",
       "      <td>1</td>\n",
       "      <td>2</td>\n",
       "      <td>1</td>\n",
       "      <td>Wednesday</td>\n",
       "      <td>2</td>\n",
       "      <td>2013</td>\n",
       "      <td>37</td>\n",
       "      <td>6</td>\n",
       "      <td>cinema</td>\n",
       "      <td>31</td>\n",
       "      <td>Yaroslavl</td>\n",
       "      <td>0</td>\n",
       "    </tr>\n",
       "    <tr>\n",
       "      <th>1</th>\n",
       "      <td>2013-05-16</td>\n",
       "      <td>4</td>\n",
       "      <td>59</td>\n",
       "      <td>2573</td>\n",
       "      <td>249.0</td>\n",
       "      <td>1</td>\n",
       "      <td>16</td>\n",
       "      <td>5</td>\n",
       "      <td>Thursday</td>\n",
       "      <td>3</td>\n",
       "      <td>2013</td>\n",
       "      <td>55</td>\n",
       "      <td>13</td>\n",
       "      <td>music</td>\n",
       "      <td>31</td>\n",
       "      <td>Yaroslavl</td>\n",
       "      <td>0</td>\n",
       "    </tr>\n",
       "    <tr>\n",
       "      <th>2</th>\n",
       "      <td>2013-01-26</td>\n",
       "      <td>0</td>\n",
       "      <td>59</td>\n",
       "      <td>2574</td>\n",
       "      <td>399.0</td>\n",
       "      <td>1</td>\n",
       "      <td>26</td>\n",
       "      <td>1</td>\n",
       "      <td>Saturday</td>\n",
       "      <td>5</td>\n",
       "      <td>2013</td>\n",
       "      <td>55</td>\n",
       "      <td>13</td>\n",
       "      <td>music</td>\n",
       "      <td>31</td>\n",
       "      <td>Yaroslavl</td>\n",
       "      <td>0</td>\n",
       "    </tr>\n",
       "    <tr>\n",
       "      <th>3</th>\n",
       "      <td>2013-01-09</td>\n",
       "      <td>0</td>\n",
       "      <td>59</td>\n",
       "      <td>2574</td>\n",
       "      <td>399.0</td>\n",
       "      <td>1</td>\n",
       "      <td>9</td>\n",
       "      <td>1</td>\n",
       "      <td>Wednesday</td>\n",
       "      <td>2</td>\n",
       "      <td>2013</td>\n",
       "      <td>55</td>\n",
       "      <td>13</td>\n",
       "      <td>music</td>\n",
       "      <td>31</td>\n",
       "      <td>Yaroslavl</td>\n",
       "      <td>0</td>\n",
       "    </tr>\n",
       "    <tr>\n",
       "      <th>4</th>\n",
       "      <td>2013-02-24</td>\n",
       "      <td>1</td>\n",
       "      <td>59</td>\n",
       "      <td>2574</td>\n",
       "      <td>399.0</td>\n",
       "      <td>1</td>\n",
       "      <td>24</td>\n",
       "      <td>2</td>\n",
       "      <td>Sunday</td>\n",
       "      <td>6</td>\n",
       "      <td>2013</td>\n",
       "      <td>55</td>\n",
       "      <td>13</td>\n",
       "      <td>music</td>\n",
       "      <td>31</td>\n",
       "      <td>Yaroslavl</td>\n",
       "      <td>0</td>\n",
       "    </tr>\n",
       "  </tbody>\n",
       "</table>\n",
       "</div>"
      ],
      "text/plain": [
       "        date  date_block_num  shop_id  item_id  item_price  item_cnt_day  day  \\\n",
       "0 2013-01-02               0       59    22154       999.0             1    2   \n",
       "1 2013-05-16               4       59     2573       249.0             1   16   \n",
       "2 2013-01-26               0       59     2574       399.0             1   26   \n",
       "3 2013-01-09               0       59     2574       399.0             1    9   \n",
       "4 2013-02-24               1       59     2574       399.0             1   24   \n",
       "\n",
       "   month    weekday  weekdayno  year  item_category_id  parent_cat_id  \\\n",
       "0      1  Wednesday          2  2013                37              6   \n",
       "1      5   Thursday          3  2013                55             13   \n",
       "2      1   Saturday          5  2013                55             13   \n",
       "3      1  Wednesday          2  2013                55             13   \n",
       "4      2     Sunday          6  2013                55             13   \n",
       "\n",
       "  parent_cat  city_id  city_name  is_holiday  \n",
       "0     cinema       31  Yaroslavl           0  \n",
       "1      music       31  Yaroslavl           0  \n",
       "2      music       31  Yaroslavl           0  \n",
       "3      music       31  Yaroslavl           0  \n",
       "4      music       31  Yaroslavl           0  "
      ]
     },
     "execution_count": 18,
     "metadata": {},
     "output_type": "execute_result"
    }
   ],
   "source": [
    "df_sales.head()"
   ]
  },
  {
   "cell_type": "markdown",
   "metadata": {},
   "source": [
    "### 7. Saving the master data-set for \n",
    "\n",
    "- EDA\n",
    "- Feature Extraction/Creation\n",
    "\n",
    "we will start our work from sales combined for EDA"
   ]
  },
  {
   "cell_type": "code",
   "execution_count": 19,
   "metadata": {},
   "outputs": [
    {
     "name": "stdout",
     "output_type": "stream",
     "text": [
      "Wall time: 1min 12s\n"
     ]
    },
    {
     "data": {
      "text/plain": [
       "4957"
      ]
     },
     "execution_count": 19,
     "metadata": {},
     "output_type": "execute_result"
    }
   ],
   "source": [
    "%%time\n",
    "del df_item_categories, df_items, df_shops\n",
    "#df_sales.to_csv('sales_combined.csv', index=False)\n",
    "df_sales.to_csv(os.path.join(DATA_FOLDER, 'sales_combined.csv'), index=False)\n",
    "del df_sales\n",
    "gc.collect()"
   ]
  },
  {
   "cell_type": "code",
   "execution_count": null,
   "metadata": {},
   "outputs": [],
   "source": []
  }
 ],
 "metadata": {
  "kernelspec": {
   "display_name": "Python 3",
   "language": "python",
   "name": "python3"
  },
  "language_info": {
   "codemirror_mode": {
    "name": "ipython",
    "version": 3
   },
   "file_extension": ".py",
   "mimetype": "text/x-python",
   "name": "python",
   "nbconvert_exporter": "python",
   "pygments_lexer": "ipython3",
   "version": "3.7.6"
  }
 },
 "nbformat": 4,
 "nbformat_minor": 4
}
