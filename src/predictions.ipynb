{
 "cells": [
  {
   "cell_type": "markdown",
   "metadata": {},
   "source": [
    "# Applying the model on the data"
   ]
  },
  {
   "cell_type": "code",
   "execution_count": 1,
   "metadata": {},
   "outputs": [
    {
     "name": "stderr",
     "output_type": "stream",
     "text": [
      "C:\\ProgramData\\Anaconda3\\lib\\site-packages\\fuzzywuzzy\\fuzz.py:11: UserWarning: Using slow pure-python SequenceMatcher. Install python-Levenshtein to remove this warning\n",
      "  warnings.warn('Using slow pure-python SequenceMatcher. Install python-Levenshtein to remove this warning')\n"
     ]
    }
   ],
   "source": [
    "from sklearn.metrics import r2_score\n",
    "from sklearn.metrics import mean_squared_error\n",
    "from sklearn.linear_model import LinearRegression\n",
    "import lightgbm as lgb\n",
    "\n",
    "import pandas as pd\n",
    "import numpy as np\n",
    "import matplotlib.pyplot as plt\n",
    "import seaborn as sns\n",
    "import datetime\n",
    "%matplotlib inline\n",
    "import utils\n",
    "\n",
    "\n",
    "import os\n",
    "import warnings\n",
    "warnings.filterwarnings(\"ignore\")\n",
    "DATA_FOLDER = '../data/'\n",
    "sales_util = utils.SalesUtils('../submissions')"
   ]
  },
  {
   "cell_type": "code",
   "execution_count": 2,
   "metadata": {},
   "outputs": [],
   "source": [
    "dfmain  = pd.read_csv(os.path.join(DATA_FOLDER, 'df_main_with_test.csv'))\n",
    "df_test  = pd.read_csv(os.path.join(DATA_FOLDER, 'test.csv'))"
   ]
  },
  {
   "cell_type": "code",
   "execution_count": 3,
   "metadata": {},
   "outputs": [
    {
     "name": "stdout",
     "output_type": "stream",
     "text": [
      "Test `date_block_num` is 34\n"
     ]
    }
   ],
   "source": [
    "dates = dfmain['date_block_num']\n",
    "\n",
    "#define the index cols\n",
    "index_cols = ['shop_id', 'item_id', 'date_block_num']\n",
    "\n",
    "last_block = dates.max()\n",
    "print('Test `date_block_num` is %d' % last_block)"
   ]
  },
  {
   "cell_type": "code",
   "execution_count": 7,
   "metadata": {},
   "outputs": [],
   "source": [
    "# List of all lagged features\n",
    "index_cols = ['shop_id', 'item_id', 'date_block_num']\n",
    "shift_range = [1,2,3,4,5,6,7,12]\n",
    "mean_enc_cols = [col for col in dfmain.columns if 'mean' in str(col)]\n",
    "fit_cols = [col for col in dfmain.columns if col[-1] in [str(item) for item in shift_range]] \n",
    "fit_cols = fit_cols + mean_enc_cols + ['city_id','item_category_id','num_days'] #'num_sun'\n",
    "# We will drop these at fitting stage\n",
    "to_drop_cols = list(set(list(dfmain.columns)) - (set(fit_cols)|set(index_cols))) \n",
    "# + ['date_block_num', 'city_id_mean_target','item_cat_mean_target'] "
   ]
  },
  {
   "cell_type": "code",
   "execution_count": 8,
   "metadata": {},
   "outputs": [
    {
     "data": {
      "text/plain": [
       "['revenue_lag_1',\n",
       " 'revenue_item_lag_1',\n",
       " 'revenue_shop_lag_1',\n",
       " 'target_lag_1',\n",
       " 'target_item_lag_1',\n",
       " 'target_shop_lag_1',\n",
       " 'revenue_lag_2',\n",
       " 'revenue_item_lag_2',\n",
       " 'revenue_shop_lag_2',\n",
       " 'target_lag_2',\n",
       " 'target_item_lag_2',\n",
       " 'target_shop_lag_2',\n",
       " 'revenue_lag_3',\n",
       " 'revenue_item_lag_3',\n",
       " 'revenue_shop_lag_3',\n",
       " 'target_lag_3',\n",
       " 'target_item_lag_3',\n",
       " 'target_shop_lag_3',\n",
       " 'revenue_lag_11',\n",
       " 'revenue_item_lag_11',\n",
       " 'revenue_shop_lag_11',\n",
       " 'target_lag_11',\n",
       " 'target_item_lag_11',\n",
       " 'target_shop_lag_11',\n",
       " 'revenue_lag_12',\n",
       " 'revenue_item_lag_12',\n",
       " 'revenue_shop_lag_12',\n",
       " 'target_lag_12',\n",
       " 'target_item_lag_12',\n",
       " 'target_shop_lag_12',\n",
       " 'shop_id_exp_y_mean',\n",
       " 'month_mean_target',\n",
       " 'item_cat_mean_target',\n",
       " 'item_cat_db_mean_target',\n",
       " 'shop_id_mean_target',\n",
       " 'shop_id_db_mean_target',\n",
       " 'city_id_mean_target',\n",
       " 'city_db_mean_target',\n",
       " 'shop_city_mean',\n",
       " 'city_id',\n",
       " 'item_category_id',\n",
       " 'num_days']"
      ]
     },
     "execution_count": 8,
     "metadata": {},
     "output_type": "execute_result"
    }
   ],
   "source": [
    "fit_cols"
   ]
  },
  {
   "cell_type": "code",
   "execution_count": 9,
   "metadata": {},
   "outputs": [
    {
     "data": {
      "text/plain": [
       "['revenue',\n",
       " 'month',\n",
       " 'target_shop',\n",
       " 'revenue_item',\n",
       " 'target_item',\n",
       " 'parent_cat_id',\n",
       " 'revenue_shop',\n",
       " 'num_sun',\n",
       " 'target']"
      ]
     },
     "execution_count": 9,
     "metadata": {},
     "output_type": "execute_result"
    }
   ],
   "source": [
    "to_drop_cols"
   ]
  },
  {
   "cell_type": "code",
   "execution_count": 10,
   "metadata": {},
   "outputs": [
    {
     "name": "stdout",
     "output_type": "stream",
     "text": [
      "<class 'pandas.core.frame.DataFrame'>\n",
      "RangeIndex: 5818986 entries, 0 to 5818985\n",
      "Data columns (total 54 columns):\n",
      " #   Column                   Dtype  \n",
      "---  ------                   -----  \n",
      " 0   shop_id                  int64  \n",
      " 1   item_id                  int64  \n",
      " 2   date_block_num           int64  \n",
      " 3   month                    int64  \n",
      " 4   target                   float64\n",
      " 5   revenue                  float64\n",
      " 6   target_shop              float64\n",
      " 7   revenue_shop             float64\n",
      " 8   target_item              float64\n",
      " 9   revenue_item             float64\n",
      " 10  item_category_id         int64  \n",
      " 11  parent_cat_id            int64  \n",
      " 12  city_id                  int64  \n",
      " 13  num_sun                  int64  \n",
      " 14  num_days                 int64  \n",
      " 15  revenue_lag_1            float64\n",
      " 16  revenue_item_lag_1       float64\n",
      " 17  revenue_shop_lag_1       float64\n",
      " 18  target_lag_1             float64\n",
      " 19  target_item_lag_1        float64\n",
      " 20  target_shop_lag_1        float64\n",
      " 21  revenue_lag_2            float64\n",
      " 22  revenue_item_lag_2       float64\n",
      " 23  revenue_shop_lag_2       float64\n",
      " 24  target_lag_2             float64\n",
      " 25  target_item_lag_2        float64\n",
      " 26  target_shop_lag_2        float64\n",
      " 27  revenue_lag_3            float64\n",
      " 28  revenue_item_lag_3       float64\n",
      " 29  revenue_shop_lag_3       float64\n",
      " 30  target_lag_3             float64\n",
      " 31  target_item_lag_3        float64\n",
      " 32  target_shop_lag_3        float64\n",
      " 33  revenue_lag_11           float64\n",
      " 34  revenue_item_lag_11      float64\n",
      " 35  revenue_shop_lag_11      float64\n",
      " 36  target_lag_11            float64\n",
      " 37  target_item_lag_11       float64\n",
      " 38  target_shop_lag_11       float64\n",
      " 39  revenue_lag_12           float64\n",
      " 40  revenue_item_lag_12      float64\n",
      " 41  revenue_shop_lag_12      float64\n",
      " 42  target_lag_12            float64\n",
      " 43  target_item_lag_12       float64\n",
      " 44  target_shop_lag_12       float64\n",
      " 45  shop_id_exp_y_mean       float64\n",
      " 46  month_mean_target        float64\n",
      " 47  item_cat_mean_target     float64\n",
      " 48  item_cat_db_mean_target  float64\n",
      " 49  shop_id_mean_target      float64\n",
      " 50  shop_id_db_mean_target   float64\n",
      " 51  city_id_mean_target      float64\n",
      " 52  city_db_mean_target      float64\n",
      " 53  shop_city_mean           float64\n",
      "dtypes: float64(45), int64(9)\n",
      "memory usage: 2.3 GB\n"
     ]
    }
   ],
   "source": [
    "dfmain.info()"
   ]
  },
  {
   "cell_type": "code",
   "execution_count": 14,
   "metadata": {},
   "outputs": [],
   "source": [
    "dfmain['date_block_num'] = dfmain['date_block_num'].astype('int8')\n",
    "dfmain['shop_id'] = dfmain['shop_id'].astype('category')\n",
    "dfmain['item_id'] = dfmain['item_id'].astype('category')\n",
    "dfmain['num_sun'] = dfmain['num_sun'].astype('category')\n",
    "dfmain['month'] = dfmain['month'].astype('category')\n",
    "dfmain['item_category_id'] = dfmain['item_category_id'].astype('category')\n",
    "dfmain['parent_cat_id'] = dfmain['parent_cat_id'].astype('category')\n",
    "dfmain['city_id'] = dfmain['city_id'].astype('category')\n",
    "dfmain['num_days'] = dfmain['num_days'].astype('category')\n",
    "\n",
    "target_cols = [col for col in dfmain.columns if 'target' in str(col)]\n",
    "for col in target_cols:\n",
    "    dfmain[col] = dfmain[col].astype('float16')\n",
    "\n",
    "# getting the mean attributes\n",
    "mean_enc_cols = [col for col in dfmain.columns if 'mean' in str(col)]\n",
    "for col in mean_enc_cols:\n",
    "    dfmain[col] = dfmain[col].astype('float16')\n",
    "    \n",
    "# getting the mean attributes\n",
    "revenue_cols = [col for col in dfmain.columns if 'revenue' in str(col)]\n",
    "for col in revenue_cols:\n",
    "    dfmain[col] = dfmain[col].astype('float32')"
   ]
  },
  {
   "cell_type": "code",
   "execution_count": 15,
   "metadata": {},
   "outputs": [
    {
     "name": "stdout",
     "output_type": "stream",
     "text": [
      "<class 'pandas.core.frame.DataFrame'>\n",
      "RangeIndex: 5818986 entries, 0 to 5818985\n",
      "Data columns (total 54 columns):\n",
      " #   Column                   Dtype   \n",
      "---  ------                   -----   \n",
      " 0   shop_id                  category\n",
      " 1   item_id                  category\n",
      " 2   date_block_num           int8    \n",
      " 3   month                    category\n",
      " 4   target                   float16 \n",
      " 5   revenue                  float32 \n",
      " 6   target_shop              float16 \n",
      " 7   revenue_shop             float32 \n",
      " 8   target_item              float16 \n",
      " 9   revenue_item             float32 \n",
      " 10  item_category_id         category\n",
      " 11  parent_cat_id            category\n",
      " 12  city_id                  category\n",
      " 13  num_sun                  category\n",
      " 14  num_days                 category\n",
      " 15  revenue_lag_1            float32 \n",
      " 16  revenue_item_lag_1       float32 \n",
      " 17  revenue_shop_lag_1       float32 \n",
      " 18  target_lag_1             float16 \n",
      " 19  target_item_lag_1        float16 \n",
      " 20  target_shop_lag_1        float16 \n",
      " 21  revenue_lag_2            float32 \n",
      " 22  revenue_item_lag_2       float32 \n",
      " 23  revenue_shop_lag_2       float32 \n",
      " 24  target_lag_2             float16 \n",
      " 25  target_item_lag_2        float16 \n",
      " 26  target_shop_lag_2        float16 \n",
      " 27  revenue_lag_3            float32 \n",
      " 28  revenue_item_lag_3       float32 \n",
      " 29  revenue_shop_lag_3       float32 \n",
      " 30  target_lag_3             float16 \n",
      " 31  target_item_lag_3        float16 \n",
      " 32  target_shop_lag_3        float16 \n",
      " 33  revenue_lag_11           float32 \n",
      " 34  revenue_item_lag_11      float32 \n",
      " 35  revenue_shop_lag_11      float32 \n",
      " 36  target_lag_11            float16 \n",
      " 37  target_item_lag_11       float16 \n",
      " 38  target_shop_lag_11       float16 \n",
      " 39  revenue_lag_12           float32 \n",
      " 40  revenue_item_lag_12      float32 \n",
      " 41  revenue_shop_lag_12      float32 \n",
      " 42  target_lag_12            float16 \n",
      " 43  target_item_lag_12       float16 \n",
      " 44  target_shop_lag_12       float16 \n",
      " 45  shop_id_exp_y_mean       float16 \n",
      " 46  month_mean_target        float16 \n",
      " 47  item_cat_mean_target     float16 \n",
      " 48  item_cat_db_mean_target  float16 \n",
      " 49  shop_id_mean_target      float16 \n",
      " 50  shop_id_db_mean_target   float16 \n",
      " 51  city_id_mean_target      float16 \n",
      " 52  city_db_mean_target      float16 \n",
      " 53  shop_city_mean           float16 \n",
      "dtypes: category(8), float16(27), float32(18), int8(1)\n",
      "memory usage: 755.5 MB\n"
     ]
    }
   ],
   "source": [
    "dfmain.info(memory_usage='deep')"
   ]
  },
  {
   "cell_type": "code",
   "execution_count": 16,
   "metadata": {},
   "outputs": [],
   "source": [
    "#split\n",
    "dates_train = dates[dates <  last_block]\n",
    "dates_test  = dates[dates == last_block]\n",
    "\n",
    "X_train = dfmain.loc[dates <  last_block-1].drop(to_drop_cols, axis=1)\n",
    "X_test =  dfmain.loc[dates == last_block].drop(to_drop_cols, axis=1)\n",
    "X_valid = dfmain.loc[dates == last_block-1].drop(to_drop_cols, axis=1)\n",
    "\n",
    "y_train = dfmain.loc[dates <  last_block-1, 'target'].values\n",
    "y_test =  dfmain.loc[dates == last_block, 'target'].values\n",
    "y_valid =  dfmain.loc[dates == last_block-1, 'target'].values\n",
    "\n",
    "y_train = y_train.clip(0,20)\n",
    "y_valid = y_valid.clip(0,20)"
   ]
  },
  {
   "cell_type": "code",
   "execution_count": 19,
   "metadata": {},
   "outputs": [
    {
     "name": "stdout",
     "output_type": "stream",
     "text": [
      "<class 'pandas.core.frame.DataFrame'>\n",
      "Int64Index: 5366614 entries, 0 to 5366613\n",
      "Data columns (total 45 columns):\n",
      " #   Column                   Dtype   \n",
      "---  ------                   -----   \n",
      " 0   shop_id                  category\n",
      " 1   item_id                  category\n",
      " 2   date_block_num           int8    \n",
      " 3   item_category_id         category\n",
      " 4   city_id                  category\n",
      " 5   num_days                 category\n",
      " 6   revenue_lag_1            float32 \n",
      " 7   revenue_item_lag_1       float32 \n",
      " 8   revenue_shop_lag_1       float32 \n",
      " 9   target_lag_1             float16 \n",
      " 10  target_item_lag_1        float16 \n",
      " 11  target_shop_lag_1        float16 \n",
      " 12  revenue_lag_2            float32 \n",
      " 13  revenue_item_lag_2       float32 \n",
      " 14  revenue_shop_lag_2       float32 \n",
      " 15  target_lag_2             float16 \n",
      " 16  target_item_lag_2        float16 \n",
      " 17  target_shop_lag_2        float16 \n",
      " 18  revenue_lag_3            float32 \n",
      " 19  revenue_item_lag_3       float32 \n",
      " 20  revenue_shop_lag_3       float32 \n",
      " 21  target_lag_3             float16 \n",
      " 22  target_item_lag_3        float16 \n",
      " 23  target_shop_lag_3        float16 \n",
      " 24  revenue_lag_11           float32 \n",
      " 25  revenue_item_lag_11      float32 \n",
      " 26  revenue_shop_lag_11      float32 \n",
      " 27  target_lag_11            float16 \n",
      " 28  target_item_lag_11       float16 \n",
      " 29  target_shop_lag_11       float16 \n",
      " 30  revenue_lag_12           float32 \n",
      " 31  revenue_item_lag_12      float32 \n",
      " 32  revenue_shop_lag_12      float32 \n",
      " 33  target_lag_12            float16 \n",
      " 34  target_item_lag_12       float16 \n",
      " 35  target_shop_lag_12       float16 \n",
      " 36  shop_id_exp_y_mean       float16 \n",
      " 37  month_mean_target        float16 \n",
      " 38  item_cat_mean_target     float16 \n",
      " 39  item_cat_db_mean_target  float16 \n",
      " 40  shop_id_mean_target      float16 \n",
      " 41  shop_id_db_mean_target   float16 \n",
      " 42  city_id_mean_target      float16 \n",
      " 43  city_db_mean_target      float16 \n",
      " 44  shop_city_mean           float16 \n",
      "dtypes: category(5), float16(24), float32(15), int8(1)\n",
      "memory usage: 630.3 MB\n"
     ]
    }
   ],
   "source": [
    "X_train.info()"
   ]
  },
  {
   "cell_type": "code",
   "execution_count": 30,
   "metadata": {},
   "outputs": [],
   "source": [
    "cat_features = list(X_train.select_dtypes(include=['category']).columns)"
   ]
  },
  {
   "cell_type": "code",
   "execution_count": 31,
   "metadata": {
    "scrolled": false
   },
   "outputs": [
    {
     "name": "stdout",
     "output_type": "stream",
     "text": [
      "[1]\tvalid_0's rmse: 1.12617\n",
      "[2]\tvalid_0's rmse: 1.11648\n",
      "[3]\tvalid_0's rmse: 1.10769\n",
      "[4]\tvalid_0's rmse: 1.09774\n",
      "[5]\tvalid_0's rmse: 1.08905\n",
      "[6]\tvalid_0's rmse: 1.08156\n",
      "[7]\tvalid_0's rmse: 1.07461\n",
      "[8]\tvalid_0's rmse: 1.06793\n",
      "[9]\tvalid_0's rmse: 1.06169\n",
      "[10]\tvalid_0's rmse: 1.05586\n",
      "[11]\tvalid_0's rmse: 1.04916\n",
      "[12]\tvalid_0's rmse: 1.04401\n",
      "[13]\tvalid_0's rmse: 1.0385\n",
      "[14]\tvalid_0's rmse: 1.03412\n",
      "[15]\tvalid_0's rmse: 1.02838\n",
      "[16]\tvalid_0's rmse: 1.02451\n",
      "[17]\tvalid_0's rmse: 1.02086\n",
      "[18]\tvalid_0's rmse: 1.01761\n",
      "[19]\tvalid_0's rmse: 1.01437\n",
      "[20]\tvalid_0's rmse: 1.01118\n",
      "[21]\tvalid_0's rmse: 1.00876\n",
      "[22]\tvalid_0's rmse: 1.00433\n",
      "[23]\tvalid_0's rmse: 1.00223\n",
      "[24]\tvalid_0's rmse: 0.999733\n",
      "[25]\tvalid_0's rmse: 0.997948\n",
      "[26]\tvalid_0's rmse: 0.994169\n",
      "[27]\tvalid_0's rmse: 0.992609\n",
      "[28]\tvalid_0's rmse: 0.991098\n",
      "[29]\tvalid_0's rmse: 0.989431\n",
      "[30]\tvalid_0's rmse: 0.988323\n",
      "[31]\tvalid_0's rmse: 0.985373\n",
      "[32]\tvalid_0's rmse: 0.982652\n",
      "[33]\tvalid_0's rmse: 0.981805\n",
      "[34]\tvalid_0's rmse: 0.980782\n",
      "[35]\tvalid_0's rmse: 0.980083\n",
      "[36]\tvalid_0's rmse: 0.979353\n",
      "[37]\tvalid_0's rmse: 0.978942\n",
      "[38]\tvalid_0's rmse: 0.97858\n",
      "[39]\tvalid_0's rmse: 0.978332\n",
      "[40]\tvalid_0's rmse: 0.977803\n",
      "[41]\tvalid_0's rmse: 0.977763\n",
      "[42]\tvalid_0's rmse: 0.977031\n",
      "[43]\tvalid_0's rmse: 0.975862\n",
      "[44]\tvalid_0's rmse: 0.974192\n",
      "[45]\tvalid_0's rmse: 0.972298\n",
      "[46]\tvalid_0's rmse: 0.970568\n",
      "[47]\tvalid_0's rmse: 0.970388\n",
      "[48]\tvalid_0's rmse: 0.970283\n",
      "[49]\tvalid_0's rmse: 0.970455\n",
      "[50]\tvalid_0's rmse: 0.969905\n",
      "[51]\tvalid_0's rmse: 0.970111\n",
      "[52]\tvalid_0's rmse: 0.969943\n",
      "[53]\tvalid_0's rmse: 0.970018\n",
      "[54]\tvalid_0's rmse: 0.969924\n",
      "[55]\tvalid_0's rmse: 0.969762\n",
      "[56]\tvalid_0's rmse: 0.969313\n",
      "[57]\tvalid_0's rmse: 0.9693\n",
      "[58]\tvalid_0's rmse: 0.969399\n",
      "[59]\tvalid_0's rmse: 0.969642\n",
      "[60]\tvalid_0's rmse: 0.969517\n",
      "[61]\tvalid_0's rmse: 0.969907\n",
      "[62]\tvalid_0's rmse: 0.97033\n",
      "[63]\tvalid_0's rmse: 0.96921\n",
      "[64]\tvalid_0's rmse: 0.969701\n",
      "[65]\tvalid_0's rmse: 0.969994\n",
      "[66]\tvalid_0's rmse: 0.970322\n",
      "[67]\tvalid_0's rmse: 0.970483\n",
      "[68]\tvalid_0's rmse: 0.969845\n",
      "[69]\tvalid_0's rmse: 0.970097\n",
      "[70]\tvalid_0's rmse: 0.970564\n",
      "[71]\tvalid_0's rmse: 0.970928\n",
      "[72]\tvalid_0's rmse: 0.971275\n",
      "[73]\tvalid_0's rmse: 0.971532\n",
      "[74]\tvalid_0's rmse: 0.971826\n",
      "[75]\tvalid_0's rmse: 0.972353\n",
      "[76]\tvalid_0's rmse: 0.973072\n",
      "[77]\tvalid_0's rmse: 0.973175\n",
      "[78]\tvalid_0's rmse: 0.973399\n",
      "[79]\tvalid_0's rmse: 0.972555\n",
      "[80]\tvalid_0's rmse: 0.972767\n",
      "[81]\tvalid_0's rmse: 0.972847\n",
      "[82]\tvalid_0's rmse: 0.972422\n",
      "[83]\tvalid_0's rmse: 0.97242\n",
      "[84]\tvalid_0's rmse: 0.972741\n",
      "[85]\tvalid_0's rmse: 0.973071\n",
      "[86]\tvalid_0's rmse: 0.973358\n",
      "[87]\tvalid_0's rmse: 0.972996\n",
      "[88]\tvalid_0's rmse: 0.973299\n",
      "[89]\tvalid_0's rmse: 0.973637\n",
      "[90]\tvalid_0's rmse: 0.973814\n",
      "[91]\tvalid_0's rmse: 0.973544\n",
      "[92]\tvalid_0's rmse: 0.973735\n",
      "[93]\tvalid_0's rmse: 0.973996\n",
      "[94]\tvalid_0's rmse: 0.973581\n",
      "[95]\tvalid_0's rmse: 0.973837\n",
      "[96]\tvalid_0's rmse: 0.974216\n",
      "[97]\tvalid_0's rmse: 0.974376\n",
      "[98]\tvalid_0's rmse: 0.974338\n",
      "[99]\tvalid_0's rmse: 0.974501\n",
      "[100]\tvalid_0's rmse: 0.974831\n",
      "[101]\tvalid_0's rmse: 0.975123\n",
      "[102]\tvalid_0's rmse: 0.975232\n",
      "[103]\tvalid_0's rmse: 0.975622\n",
      "[104]\tvalid_0's rmse: 0.974168\n",
      "[105]\tvalid_0's rmse: 0.974161\n",
      "[106]\tvalid_0's rmse: 0.974276\n",
      "[107]\tvalid_0's rmse: 0.974239\n",
      "[108]\tvalid_0's rmse: 0.974694\n",
      "[109]\tvalid_0's rmse: 0.973954\n",
      "[110]\tvalid_0's rmse: 0.973952\n",
      "[111]\tvalid_0's rmse: 0.974027\n",
      "[112]\tvalid_0's rmse: 0.973881\n",
      "[113]\tvalid_0's rmse: 0.973355\n",
      "[114]\tvalid_0's rmse: 0.973429\n",
      "[115]\tvalid_0's rmse: 0.973605\n",
      "[116]\tvalid_0's rmse: 0.973821\n",
      "[117]\tvalid_0's rmse: 0.973918\n",
      "[118]\tvalid_0's rmse: 0.974135\n",
      "[119]\tvalid_0's rmse: 0.974197\n",
      "[120]\tvalid_0's rmse: 0.974217\n",
      "[121]\tvalid_0's rmse: 0.974319\n",
      "[122]\tvalid_0's rmse: 0.973726\n",
      "[123]\tvalid_0's rmse: 0.973772\n",
      "[124]\tvalid_0's rmse: 0.973792\n",
      "[125]\tvalid_0's rmse: 0.97376\n",
      "[126]\tvalid_0's rmse: 0.973318\n",
      "[127]\tvalid_0's rmse: 0.973416\n",
      "[128]\tvalid_0's rmse: 0.97346\n",
      "[129]\tvalid_0's rmse: 0.973321\n",
      "[130]\tvalid_0's rmse: 0.972011\n",
      "[131]\tvalid_0's rmse: 0.972014\n",
      "[132]\tvalid_0's rmse: 0.971942\n",
      "[133]\tvalid_0's rmse: 0.971654\n",
      "[134]\tvalid_0's rmse: 0.971777\n",
      "[135]\tvalid_0's rmse: 0.971745\n",
      "[136]\tvalid_0's rmse: 0.971815\n",
      "[137]\tvalid_0's rmse: 0.971792\n",
      "[138]\tvalid_0's rmse: 0.971903\n",
      "[139]\tvalid_0's rmse: 0.971882\n",
      "[140]\tvalid_0's rmse: 0.971952\n",
      "[141]\tvalid_0's rmse: 0.971971\n",
      "[142]\tvalid_0's rmse: 0.972056\n",
      "[143]\tvalid_0's rmse: 0.971964\n",
      "[144]\tvalid_0's rmse: 0.971963\n",
      "[145]\tvalid_0's rmse: 0.972021\n",
      "[146]\tvalid_0's rmse: 0.971881\n",
      "[147]\tvalid_0's rmse: 0.971863\n",
      "[148]\tvalid_0's rmse: 0.971579\n",
      "[149]\tvalid_0's rmse: 0.971596\n",
      "[150]\tvalid_0's rmse: 0.971506\n"
     ]
    }
   ],
   "source": [
    "#training the LGB\n",
    "lgb_params = {\n",
    "               'feature_fraction': 0.75,\n",
    "               'metric': 'rmse',\n",
    "               'nthread':-1, \n",
    "               'min_data_in_leaf': 2**7, \n",
    "               'bagging_fraction': 0.75, \n",
    "               'learning_rate': 0.03, \n",
    "               'objective': 'mse', \n",
    "               'bagging_seed': 2**7, \n",
    "               'num_leaves': 2**7,\n",
    "               'bagging_freq':1,\n",
    "               'verbose':0 \n",
    "              }\n",
    "\n",
    "model = lgb.train(lgb_params, \n",
    "                  lgb.Dataset(X_train,label=y_train), \n",
    "                  150, categorical_feature=cat_features, \n",
    "                  valid_sets=lgb.Dataset(X_valid,label=y_valid), verbose_eval=True)\n",
    "pred_lgb = model.predict(X_test)"
   ]
  },
  {
   "cell_type": "code",
   "execution_count": 32,
   "metadata": {
    "scrolled": false
   },
   "outputs": [
    {
     "data": {
      "text/plain": [
       "<matplotlib.axes._subplots.AxesSubplot at 0x27f369b6908>"
      ]
     },
     "execution_count": 32,
     "metadata": {},
     "output_type": "execute_result"
    },
    {
     "data": {
      "image/png": "[encoded data removed]",
      "text/plain": [
       "<Figure size 1080x792 with 1 Axes>"
      ]
     },
     "metadata": {
      "needs_background": "light"
     },
     "output_type": "display_data"
    }
   ],
   "source": [
    "lgb.plot_importance(model, figsize=(15,11))"
   ]
  },
  {
   "cell_type": "code",
   "execution_count": 71,
   "metadata": {},
   "outputs": [
    {
     "name": "stdout",
     "output_type": "stream",
     "text": [
      "Submission file saved as ../submissions\\sub_24jul2020_edx_lgb_6_2020-07-24.csv\n"
     ]
    }
   ],
   "source": [
    "df_test['item_cnt_month'] = pred_lgb.clip(0,20)\n",
    "df_submission= df_test[['ID','item_cnt_month']]\n",
    "sales_util.save_submission('25jul2020_edx_lgb_6',df_submission)"
   ]
  },
  {
   "cell_type": "code",
   "execution_count": null,
   "metadata": {},
   "outputs": [],
   "source": []
  }
 ],
 "metadata": {
  "kernelspec": {
   "display_name": "Python 3",
   "language": "python",
   "name": "python3"
  },
  "language_info": {
   "codemirror_mode": {
    "name": "ipython",
    "version": 3
   },
   "file_extension": ".py",
   "mimetype": "text/x-python",
   "name": "python",
   "nbconvert_exporter": "python",
   "pygments_lexer": "ipython3",
   "version": "3.7.6"
  }
 },
 "nbformat": 4,
 "nbformat_minor": 4
}
