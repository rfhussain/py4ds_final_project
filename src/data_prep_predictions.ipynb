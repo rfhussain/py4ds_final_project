{
 "cells": [
  {
   "cell_type": "code",
   "execution_count": 1,
   "metadata": {},
   "outputs": [
    {
     "name": "stderr",
     "output_type": "stream",
     "text": [
      "C:\\ProgramData\\Anaconda3\\lib\\site-packages\\fuzzywuzzy\\fuzz.py:11: UserWarning: Using slow pure-python SequenceMatcher. Install python-Levenshtein to remove this warning\n",
      "  warnings.warn('Using slow pure-python SequenceMatcher. Install python-Levenshtein to remove this warning')\n"
     ]
    }
   ],
   "source": [
    "import lightgbm as lgb\n",
    "import numpy as np\n",
    "import pandas as pd\n",
    "import utils\n",
    "\n",
    "import matplotlib.pyplot as plt\n",
    "\n",
    "import os\n",
    "import warnings\n",
    "warnings.filterwarnings(\"ignore\")\n",
    "\n",
    "working_folder = '../working/'\n",
    "data_folder = '../data/'\n",
    "sales_util = utils.SalesUtils('../submissions')"
   ]
  },
  {
   "cell_type": "code",
   "execution_count": 2,
   "metadata": {},
   "outputs": [],
   "source": [
    "dfmain  = pd.read_csv(os.path.join(working_folder, 'df_main_with_test.csv'))\n",
    "df_test  = pd.read_csv(os.path.join(data_folder, 'test.csv'))"
   ]
  },
  {
   "cell_type": "code",
   "execution_count": 3,
   "metadata": {},
   "outputs": [
    {
     "data": {
      "text/html": [
       "<div>\n",
       "<style scoped>\n",
       "    .dataframe tbody tr th:only-of-type {\n",
       "        vertical-align: middle;\n",
       "    }\n",
       "\n",
       "    .dataframe tbody tr th {\n",
       "        vertical-align: top;\n",
       "    }\n",
       "\n",
       "    .dataframe thead th {\n",
       "        text-align: right;\n",
       "    }\n",
       "</style>\n",
       "<table border=\"1\" class=\"dataframe\">\n",
       "  <thead>\n",
       "    <tr style=\"text-align: right;\">\n",
       "      <th></th>\n",
       "      <th>ID</th>\n",
       "      <th>shop_id</th>\n",
       "      <th>item_id</th>\n",
       "    </tr>\n",
       "  </thead>\n",
       "  <tbody>\n",
       "    <tr>\n",
       "      <th>0</th>\n",
       "      <td>0</td>\n",
       "      <td>5</td>\n",
       "      <td>5037</td>\n",
       "    </tr>\n",
       "    <tr>\n",
       "      <th>1</th>\n",
       "      <td>1</td>\n",
       "      <td>5</td>\n",
       "      <td>5320</td>\n",
       "    </tr>\n",
       "    <tr>\n",
       "      <th>2</th>\n",
       "      <td>2</td>\n",
       "      <td>5</td>\n",
       "      <td>5233</td>\n",
       "    </tr>\n",
       "    <tr>\n",
       "      <th>3</th>\n",
       "      <td>3</td>\n",
       "      <td>5</td>\n",
       "      <td>5232</td>\n",
       "    </tr>\n",
       "    <tr>\n",
       "      <th>4</th>\n",
       "      <td>4</td>\n",
       "      <td>5</td>\n",
       "      <td>5268</td>\n",
       "    </tr>\n",
       "  </tbody>\n",
       "</table>\n",
       "</div>"
      ],
      "text/plain": [
       "   ID  shop_id  item_id\n",
       "0   0        5     5037\n",
       "1   1        5     5320\n",
       "2   2        5     5233\n",
       "3   3        5     5232\n",
       "4   4        5     5268"
      ]
     },
     "execution_count": 3,
     "metadata": {},
     "output_type": "execute_result"
    }
   ],
   "source": [
    "df_test.head()"
   ]
  },
  {
   "cell_type": "code",
   "execution_count": 4,
   "metadata": {},
   "outputs": [
    {
     "name": "stdout",
     "output_type": "stream",
     "text": [
      "Test `date_block_num` is 34\n"
     ]
    }
   ],
   "source": [
    "dates = dfmain['date_block_num']\n",
    "\n",
    "#define the index cols\n",
    "index_cols = ['shop_id', 'item_id', 'date_block_num']\n",
    "\n",
    "last_block = dates.max()\n",
    "print('Test `date_block_num` is %d' % last_block)"
   ]
  },
  {
   "cell_type": "code",
   "execution_count": 23,
   "metadata": {},
   "outputs": [],
   "source": [
    "# List of all lagged features\n",
    "index_cols = ['shop_id', 'item_id', 'date_block_num']\n",
    "shift_range = [1,2,3,4,5,12]\n",
    "mean_enc_cols = [col for col in dfmain.columns if 'mean' in str(col)]\n",
    "fit_cols = [col for col in dfmain.columns if col[-1] in [str(item) for item in shift_range]] \n",
    "fit_cols = fit_cols + mean_enc_cols + ['city_id','item_category_id','num_days','num_sun'] #\n",
    "# We will drop these at fitting stage\n",
    "to_drop_cols = list(set(list(dfmain.columns)) - (set(fit_cols)|set(index_cols)))  \n",
    "to_drop_cols = to_drop_cols + ['item_id_db_mean_target','revenue_lag_3','revenue_lag_2','revenue_shop_lag_2',\n",
    "                               'revenue_shop_lag_3','revenue_item_lag_2','revenue_item_lag_3',\n",
    "                              'revenue_lag_12', 'revenue_item_lag_12','revenue_shop_lag_12',\n",
    "                              'revenue_lag_4','revenue_shop_lag_4','revenue_item_lag_4',\n",
    "                              'city_id','shop_id_exp_y_mean','revenue_lag_5',\n",
    "                              'revenue_item_lag_5', 'revenue_shop_lag_5',\n",
    "                              'revenue_item_lag_1','revenue_shop_lag_1',\n",
    "                              'shop_id_db_mean_target','shop_item_db_mean',\n",
    "                              'item_id_exp_y_mean','item_cat_db_mean_target',\n",
    "                               'city_db_mean_target','date_block_num','num_sun'] \n",
    "\n",
    "#,'db_target_mean','parent_cat_db_mean_target','item_category_id','city_db_mean_target','date_block_num'"
   ]
  },
  {
   "cell_type": "markdown",
   "metadata": {},
   "source": [
    "# Best Combination so far....\n",
    "\n",
    "['shop_id', 'item_id', 'item_category_id', 'name_2', 'name_3',\n",
    "       'num_days', 'revenue_lag_1', 'target_lag_1', 'target_item_lag_1',\n",
    "       'target_shop_lag_1', 'target_lag_2', 'target_item_lag_2',\n",
    "       'target_shop_lag_2', 'target_lag_3', 'target_item_lag_3',\n",
    "       'target_shop_lag_3', 'target_lag_12', 'target_item_lag_12',\n",
    "       'target_shop_lag_12', 'month_mean_target', 'parent_cat_db_mean_target',\n",
    "       'shop_city_mean', 'db_target_mean'] \n",
    "       \n",
    "Score...: 0.939209 and 0.943882.   10/10     \n",
    "\n",
    "\n",
    "lgb_params = {\n",
    "               'feature_fraction': 0.5,\n",
    "               'metric': 'rmse',\n",
    "               'nthread':-1, \n",
    "               'min_data_in_leaf': 71, \n",
    "               'bagging_fraction': 0.5, \n",
    "               'learning_rate': 0.03, \n",
    "               'objective': 'mse', \n",
    "               'bagging_seed': 2**7, \n",
    "               'num_leaves': 71,\n",
    "               'bagging_freq':1,\n",
    "               'verbose':1,\n",
    "               'lambda_l1': 0.001,\n",
    "               'lambda_l2': 0.001,\n",
    "               'extra_trees': True,\n",
    "               'max_bin': 22\n",
    "              }\n",
    "\n",
    "model = lgb.train(lgb_params, \n",
    "                  lgb.Dataset(X_train,label=y_train), \n",
    "                  300 , #categorical_feature=cat_features, \n",
    "                  valid_sets=lgb.Dataset(X_valid,label=y_valid), verbose_eval=True,\n",
    "                 early_stopping_rounds=15)"
   ]
  },
  {
   "cell_type": "code",
   "execution_count": 9,
   "metadata": {},
   "outputs": [
    {
     "data": {
      "text/plain": [
       "['name_2',\n",
       " 'name_3',\n",
       " 'revenue_lag_1',\n",
       " 'revenue_item_lag_1',\n",
       " 'revenue_shop_lag_1',\n",
       " 'target_lag_1',\n",
       " 'target_item_lag_1',\n",
       " 'target_shop_lag_1',\n",
       " 'revenue_lag_2',\n",
       " 'revenue_item_lag_2',\n",
       " 'revenue_shop_lag_2',\n",
       " 'target_lag_2',\n",
       " 'target_item_lag_2',\n",
       " 'target_shop_lag_2',\n",
       " 'revenue_lag_3',\n",
       " 'revenue_item_lag_3',\n",
       " 'revenue_shop_lag_3',\n",
       " 'target_lag_3',\n",
       " 'target_item_lag_3',\n",
       " 'target_shop_lag_3',\n",
       " 'revenue_lag_4',\n",
       " 'revenue_item_lag_4',\n",
       " 'revenue_shop_lag_4',\n",
       " 'target_lag_4',\n",
       " 'target_item_lag_4',\n",
       " 'target_shop_lag_4',\n",
       " 'revenue_lag_5',\n",
       " 'revenue_item_lag_5',\n",
       " 'revenue_shop_lag_5',\n",
       " 'target_lag_5',\n",
       " 'target_item_lag_5',\n",
       " 'target_shop_lag_5',\n",
       " 'revenue_lag_12',\n",
       " 'revenue_item_lag_12',\n",
       " 'revenue_shop_lag_12',\n",
       " 'target_lag_12',\n",
       " 'target_item_lag_12',\n",
       " 'target_shop_lag_12',\n",
       " 'shop_id_exp_y_mean',\n",
       " 'item_id_exp_y_mean',\n",
       " 'shop_item_db_mean',\n",
       " 'item_id_db_mean_target',\n",
       " 'month_mean_target',\n",
       " 'parent_cat_id_mean_target',\n",
       " 'parent_cat_db_mean_target',\n",
       " 'item_cat_mean_target',\n",
       " 'item_cat_db_mean_target',\n",
       " 'shop_id_mean_target',\n",
       " 'shop_id_db_mean_target',\n",
       " 'city_db_mean_target',\n",
       " 'shop_city_mean',\n",
       " 'db_target_mean',\n",
       " 'city_id',\n",
       " 'item_category_id',\n",
       " 'num_days',\n",
       " 'num_sun']"
      ]
     },
     "execution_count": 9,
     "metadata": {},
     "output_type": "execute_result"
    }
   ],
   "source": [
    "fit_cols"
   ]
  },
  {
   "cell_type": "code",
   "execution_count": 10,
   "metadata": {},
   "outputs": [
    {
     "name": "stdout",
     "output_type": "stream",
     "text": [
      "<class 'pandas.core.frame.DataFrame'>\n",
      "RangeIndex: 8272050 entries, 0 to 8272049\n",
      "Data columns (total 68 columns):\n",
      " #   Column                     Dtype  \n",
      "---  ------                     -----  \n",
      " 0   shop_id                    int64  \n",
      " 1   item_id                    int64  \n",
      " 2   date_block_num             int64  \n",
      " 3   month                      int64  \n",
      " 4   target                     float64\n",
      " 5   revenue                    float64\n",
      " 6   target_shop                float64\n",
      " 7   revenue_shop               float64\n",
      " 8   target_item                float64\n",
      " 9   revenue_item               float64\n",
      " 10  item_category_id           int64  \n",
      " 11  name_2                     int64  \n",
      " 12  name_3                     int64  \n",
      " 13  parent_cat_id              int64  \n",
      " 14  city_id                    int64  \n",
      " 15  num_sat                    int64  \n",
      " 16  num_sun                    int64  \n",
      " 17  num_days                   int64  \n",
      " 18  revenue_lag_1              float64\n",
      " 19  revenue_item_lag_1         float64\n",
      " 20  revenue_shop_lag_1         float64\n",
      " 21  target_lag_1               float64\n",
      " 22  target_item_lag_1          float64\n",
      " 23  target_shop_lag_1          float64\n",
      " 24  revenue_lag_2              float64\n",
      " 25  revenue_item_lag_2         float64\n",
      " 26  revenue_shop_lag_2         float64\n",
      " 27  target_lag_2               float64\n",
      " 28  target_item_lag_2          float64\n",
      " 29  target_shop_lag_2          float64\n",
      " 30  revenue_lag_3              float64\n",
      " 31  revenue_item_lag_3         float64\n",
      " 32  revenue_shop_lag_3         float64\n",
      " 33  target_lag_3               float64\n",
      " 34  target_item_lag_3          float64\n",
      " 35  target_shop_lag_3          float64\n",
      " 36  revenue_lag_4              float64\n",
      " 37  revenue_item_lag_4         float64\n",
      " 38  revenue_shop_lag_4         float64\n",
      " 39  target_lag_4               float64\n",
      " 40  target_item_lag_4          float64\n",
      " 41  target_shop_lag_4          float64\n",
      " 42  revenue_lag_5              float64\n",
      " 43  revenue_item_lag_5         float64\n",
      " 44  revenue_shop_lag_5         float64\n",
      " 45  target_lag_5               float64\n",
      " 46  target_item_lag_5          float64\n",
      " 47  target_shop_lag_5          float64\n",
      " 48  revenue_lag_12             float64\n",
      " 49  revenue_item_lag_12        float64\n",
      " 50  revenue_shop_lag_12        float64\n",
      " 51  target_lag_12              float64\n",
      " 52  target_item_lag_12         float64\n",
      " 53  target_shop_lag_12         float64\n",
      " 54  shop_id_exp_y_mean         float64\n",
      " 55  item_id_exp_y_mean         float64\n",
      " 56  shop_item_db_mean          float64\n",
      " 57  item_id_db_mean_target     float64\n",
      " 58  month_mean_target          float64\n",
      " 59  parent_cat_id_mean_target  float64\n",
      " 60  parent_cat_db_mean_target  float64\n",
      " 61  item_cat_mean_target       float64\n",
      " 62  item_cat_db_mean_target    float64\n",
      " 63  shop_id_mean_target        float64\n",
      " 64  shop_id_db_mean_target     float64\n",
      " 65  city_db_mean_target        float64\n",
      " 66  shop_city_mean             float64\n",
      " 67  db_target_mean             float64\n",
      "dtypes: float64(56), int64(12)\n",
      "memory usage: 4.2 GB\n"
     ]
    }
   ],
   "source": [
    "dfmain.info()"
   ]
  },
  {
   "cell_type": "code",
   "execution_count": 11,
   "metadata": {},
   "outputs": [],
   "source": [
    "def down_cast_dataframe(df_matrix):\n",
    "    df_matrix['date_block_num'] = df_matrix['date_block_num'].astype('int8')\n",
    "    df_matrix['shop_id'] = df_matrix['shop_id'].astype('int8')\n",
    "    df_matrix['item_id'] = df_matrix['item_id'].astype('int16')\n",
    "    df_matrix['target'] = df_matrix['target'].astype('float16')\n",
    "    df_matrix['target_shop'] = df_matrix['target_shop'].astype('float16')\n",
    "    df_matrix['target_item'] = df_matrix['target_item'].astype('float16')\n",
    "    df_matrix['month'] = df_matrix['month'].astype('int8')\n",
    "    df_matrix['item_category_id'] = df_matrix['item_category_id'].astype('int8')\n",
    "    df_matrix['parent_cat_id'] = df_matrix['parent_cat_id'].astype('int8')\n",
    "    df_matrix['city_id'] = df_matrix['city_id'].astype('int8')\n",
    "    df_matrix['num_days'] = df_matrix['num_days'].astype('int8')\n",
    "    df_matrix['num_sun'] = df_matrix['num_sun'].astype('int8')\n",
    "    df_matrix['num_sat'] = df_matrix['num_sat'].astype('int8')\n",
    "    df_matrix['name_2'] = df_matrix['name_2'].astype('int16')\n",
    "    df_matrix['name_3'] = df_matrix['name_3'].astype('int16')\n",
    "\n",
    "    # getting the mean attributes\n",
    "    mean_enc_cols = [col for col in df_matrix.columns if 'mean' in str(col)]\n",
    "    for col in mean_enc_cols:\n",
    "        df_matrix[col] = df_matrix[col].astype('float16')\n",
    "\n",
    "    # getting the mean attributes\n",
    "    revenue_cols = [col for col in df_matrix.columns if 'revenue' in str(col)]\n",
    "    for col in revenue_cols:\n",
    "        df_matrix[col] = df_matrix[col].astype('float32')\n",
    "    \n",
    "\n",
    "    # getting the lag cols\n",
    "    target_cols = [col for col in df_matrix.columns if 'target' in str(col)]\n",
    "    for col in target_cols:\n",
    "        df_matrix[col] = df_matrix[col].astype('float16')\n",
    "    \n",
    "    \n",
    "    return df_matrix"
   ]
  },
  {
   "cell_type": "code",
   "execution_count": 12,
   "metadata": {},
   "outputs": [],
   "source": [
    "dfmain = down_cast_dataframe(dfmain)"
   ]
  },
  {
   "cell_type": "code",
   "execution_count": 13,
   "metadata": {},
   "outputs": [
    {
     "name": "stdout",
     "output_type": "stream",
     "text": [
      "<class 'pandas.core.frame.DataFrame'>\n",
      "RangeIndex: 8272050 entries, 0 to 8272049\n",
      "Data columns (total 68 columns):\n",
      " #   Column                     Dtype  \n",
      "---  ------                     -----  \n",
      " 0   shop_id                    int8   \n",
      " 1   item_id                    int16  \n",
      " 2   date_block_num             int8   \n",
      " 3   month                      int8   \n",
      " 4   target                     float16\n",
      " 5   revenue                    float32\n",
      " 6   target_shop                float16\n",
      " 7   revenue_shop               float32\n",
      " 8   target_item                float16\n",
      " 9   revenue_item               float32\n",
      " 10  item_category_id           int8   \n",
      " 11  name_2                     int16  \n",
      " 12  name_3                     int16  \n",
      " 13  parent_cat_id              int8   \n",
      " 14  city_id                    int8   \n",
      " 15  num_sat                    int8   \n",
      " 16  num_sun                    int8   \n",
      " 17  num_days                   int8   \n",
      " 18  revenue_lag_1              float32\n",
      " 19  revenue_item_lag_1         float32\n",
      " 20  revenue_shop_lag_1         float32\n",
      " 21  target_lag_1               float16\n",
      " 22  target_item_lag_1          float16\n",
      " 23  target_shop_lag_1          float16\n",
      " 24  revenue_lag_2              float32\n",
      " 25  revenue_item_lag_2         float32\n",
      " 26  revenue_shop_lag_2         float32\n",
      " 27  target_lag_2               float16\n",
      " 28  target_item_lag_2          float16\n",
      " 29  target_shop_lag_2          float16\n",
      " 30  revenue_lag_3              float32\n",
      " 31  revenue_item_lag_3         float32\n",
      " 32  revenue_shop_lag_3         float32\n",
      " 33  target_lag_3               float16\n",
      " 34  target_item_lag_3          float16\n",
      " 35  target_shop_lag_3          float16\n",
      " 36  revenue_lag_4              float32\n",
      " 37  revenue_item_lag_4         float32\n",
      " 38  revenue_shop_lag_4         float32\n",
      " 39  target_lag_4               float16\n",
      " 40  target_item_lag_4          float16\n",
      " 41  target_shop_lag_4          float16\n",
      " 42  revenue_lag_5              float32\n",
      " 43  revenue_item_lag_5         float32\n",
      " 44  revenue_shop_lag_5         float32\n",
      " 45  target_lag_5               float16\n",
      " 46  target_item_lag_5          float16\n",
      " 47  target_shop_lag_5          float16\n",
      " 48  revenue_lag_12             float32\n",
      " 49  revenue_item_lag_12        float32\n",
      " 50  revenue_shop_lag_12        float32\n",
      " 51  target_lag_12              float16\n",
      " 52  target_item_lag_12         float16\n",
      " 53  target_shop_lag_12         float16\n",
      " 54  shop_id_exp_y_mean         float16\n",
      " 55  item_id_exp_y_mean         float16\n",
      " 56  shop_item_db_mean          float16\n",
      " 57  item_id_db_mean_target     float16\n",
      " 58  month_mean_target          float16\n",
      " 59  parent_cat_id_mean_target  float16\n",
      " 60  parent_cat_db_mean_target  float16\n",
      " 61  item_cat_mean_target       float16\n",
      " 62  item_cat_db_mean_target    float16\n",
      " 63  shop_id_mean_target        float16\n",
      " 64  shop_id_db_mean_target     float16\n",
      " 65  city_db_mean_target        float16\n",
      " 66  shop_city_mean             float16\n",
      " 67  db_target_mean             float16\n",
      "dtypes: float16(35), float32(21), int16(3), int8(9)\n",
      "memory usage: 1.3 GB\n"
     ]
    }
   ],
   "source": [
    "dfmain.info()"
   ]
  },
  {
   "cell_type": "code",
   "execution_count": 24,
   "metadata": {},
   "outputs": [],
   "source": [
    "#split\n",
    "dates_train = dates[dates <  last_block]\n",
    "dates_test  = dates[dates == last_block]\n",
    "\n",
    "X_train = dfmain.loc[dates <  last_block-1].drop(to_drop_cols, axis=1)\n",
    "X_test =  dfmain.loc[dates == last_block].drop(to_drop_cols, axis=1)\n",
    "X_valid = dfmain.loc[dates == last_block-1].drop(to_drop_cols, axis=1)\n",
    "\n",
    "y_train = dfmain.loc[dates <  last_block-1, 'target'].values\n",
    "y_test =  dfmain.loc[dates == last_block, 'target'].values\n",
    "y_valid =  dfmain.loc[dates == last_block-1, 'target'].values\n",
    "\n",
    "y_train = y_train.clip(0,20)\n",
    "y_valid = y_valid.clip(0,20)\n",
    "\n",
    "X_train_all = dfmain.loc[dates <  last_block].drop(to_drop_cols, axis=1)\n",
    "y_train_all = dfmain.loc[dates <  last_block, 'target'].values"
   ]
  },
  {
   "cell_type": "code",
   "execution_count": 25,
   "metadata": {},
   "outputs": [
    {
     "data": {
      "text/plain": [
       "Index(['shop_id', 'item_id', 'item_category_id', 'name_2', 'name_3',\n",
       "       'num_days', 'revenue_lag_1', 'target_lag_1', 'target_item_lag_1',\n",
       "       'target_shop_lag_1', 'target_lag_2', 'target_item_lag_2',\n",
       "       'target_shop_lag_2', 'target_lag_3', 'target_item_lag_3',\n",
       "       'target_shop_lag_3', 'target_lag_4', 'target_item_lag_4',\n",
       "       'target_shop_lag_4', 'target_lag_5', 'target_item_lag_5',\n",
       "       'target_shop_lag_5', 'target_lag_12', 'target_item_lag_12',\n",
       "       'target_shop_lag_12', 'month_mean_target', 'parent_cat_id_mean_target',\n",
       "       'parent_cat_db_mean_target', 'item_cat_mean_target',\n",
       "       'shop_id_mean_target', 'shop_city_mean', 'db_target_mean'],\n",
       "      dtype='object')"
      ]
     },
     "execution_count": 25,
     "metadata": {},
     "output_type": "execute_result"
    }
   ],
   "source": [
    "X_train.columns"
   ]
  },
  {
   "cell_type": "code",
   "execution_count": 26,
   "metadata": {},
   "outputs": [],
   "source": [
    "best_cols = ['shop_id', 'item_id', 'item_category_id', 'name_2', 'name_3',\n",
    "'num_days', 'revenue_lag_1', 'target_lag_1', 'target_item_lag_1',\n",
    "'target_shop_lag_1', 'target_lag_2', 'target_item_lag_2',\n",
    "'target_shop_lag_2', 'target_lag_3', 'target_item_lag_3',\n",
    "'target_shop_lag_3', 'target_lag_4', 'target_item_lag_4',\n",
    "'target_shop_lag_4', 'target_lag_12', 'target_item_lag_12',\n",
    "'target_shop_lag_12', 'month_mean_target', 'parent_cat_id_mean_target',\n",
    "'parent_cat_db_mean_target', 'item_cat_mean_target',\n",
    "'shop_id_mean_target', 'shop_city_mean', 'db_target_mean']"
   ]
  },
  {
   "cell_type": "code",
   "execution_count": 27,
   "metadata": {},
   "outputs": [
    {
     "data": {
      "text/plain": [
       "{'target_item_lag_5', 'target_lag_5', 'target_shop_lag_5'}"
      ]
     },
     "execution_count": 27,
     "metadata": {},
     "output_type": "execute_result"
    }
   ],
   "source": [
    "set(X_train.columns) - set(best_cols)"
   ]
  },
  {
   "cell_type": "code",
   "execution_count": 28,
   "metadata": {},
   "outputs": [
    {
     "data": {
      "text/plain": [
       "set()"
      ]
     },
     "execution_count": 28,
     "metadata": {},
     "output_type": "execute_result"
    }
   ],
   "source": [
    "set(best_cols) - set(X_train.columns)"
   ]
  },
  {
   "cell_type": "code",
   "execution_count": 74,
   "metadata": {},
   "outputs": [
    {
     "data": {
      "text/plain": [
       "31"
      ]
     },
     "execution_count": 74,
     "metadata": {},
     "output_type": "execute_result"
    }
   ],
   "source": [
    "len(X_train.columns)"
   ]
  },
  {
   "cell_type": "code",
   "execution_count": null,
   "metadata": {},
   "outputs": [],
   "source": [
    "2**7"
   ]
  },
  {
   "cell_type": "code",
   "execution_count": 29,
   "metadata": {
    "scrolled": false
   },
   "outputs": [
    {
     "name": "stdout",
     "output_type": "stream",
     "text": [
      "[1]\tvalid_0's rmse: 1.12695\n",
      "Training until validation scores don't improve for 15 rounds\n",
      "[2]\tvalid_0's rmse: 1.11657\n",
      "[3]\tvalid_0's rmse: 1.10557\n",
      "[4]\tvalid_0's rmse: 1.09642\n",
      "[5]\tvalid_0's rmse: 1.08685\n",
      "[6]\tvalid_0's rmse: 1.07745\n",
      "[7]\tvalid_0's rmse: 1.06886\n",
      "[8]\tvalid_0's rmse: 1.06016\n",
      "[9]\tvalid_0's rmse: 1.05292\n",
      "[10]\tvalid_0's rmse: 1.04507\n",
      "[11]\tvalid_0's rmse: 1.03914\n",
      "[12]\tvalid_0's rmse: 1.03175\n",
      "[13]\tvalid_0's rmse: 1.02518\n",
      "[14]\tvalid_0's rmse: 1.01944\n",
      "[15]\tvalid_0's rmse: 1.01366\n",
      "[16]\tvalid_0's rmse: 1.00794\n",
      "[17]\tvalid_0's rmse: 1.00316\n",
      "[18]\tvalid_0's rmse: 0.998503\n",
      "[19]\tvalid_0's rmse: 0.993962\n",
      "[20]\tvalid_0's rmse: 0.990008\n",
      "[21]\tvalid_0's rmse: 0.985758\n",
      "[22]\tvalid_0's rmse: 0.981839\n",
      "[23]\tvalid_0's rmse: 0.977661\n",
      "[24]\tvalid_0's rmse: 0.97459\n",
      "[25]\tvalid_0's rmse: 0.971028\n",
      "[26]\tvalid_0's rmse: 0.967707\n",
      "[27]\tvalid_0's rmse: 0.964973\n",
      "[28]\tvalid_0's rmse: 0.961763\n",
      "[29]\tvalid_0's rmse: 0.959323\n",
      "[30]\tvalid_0's rmse: 0.95708\n",
      "[31]\tvalid_0's rmse: 0.954916\n",
      "[32]\tvalid_0's rmse: 0.952497\n",
      "[33]\tvalid_0's rmse: 0.95041\n",
      "[34]\tvalid_0's rmse: 0.948537\n",
      "[35]\tvalid_0's rmse: 0.946474\n",
      "[36]\tvalid_0's rmse: 0.944414\n",
      "[37]\tvalid_0's rmse: 0.94256\n",
      "[38]\tvalid_0's rmse: 0.940968\n",
      "[39]\tvalid_0's rmse: 0.93942\n",
      "[40]\tvalid_0's rmse: 0.938076\n",
      "[41]\tvalid_0's rmse: 0.936471\n",
      "[42]\tvalid_0's rmse: 0.935218\n",
      "[43]\tvalid_0's rmse: 0.934075\n",
      "[44]\tvalid_0's rmse: 0.933102\n",
      "[45]\tvalid_0's rmse: 0.931839\n",
      "[46]\tvalid_0's rmse: 0.930712\n",
      "[47]\tvalid_0's rmse: 0.929612\n",
      "[48]\tvalid_0's rmse: 0.92873\n",
      "[49]\tvalid_0's rmse: 0.927829\n",
      "[50]\tvalid_0's rmse: 0.927089\n",
      "[51]\tvalid_0's rmse: 0.926363\n",
      "[52]\tvalid_0's rmse: 0.925501\n",
      "[53]\tvalid_0's rmse: 0.924983\n",
      "[54]\tvalid_0's rmse: 0.924214\n",
      "[55]\tvalid_0's rmse: 0.923647\n",
      "[56]\tvalid_0's rmse: 0.923114\n",
      "[57]\tvalid_0's rmse: 0.922426\n",
      "[58]\tvalid_0's rmse: 0.921907\n",
      "[59]\tvalid_0's rmse: 0.921324\n",
      "[60]\tvalid_0's rmse: 0.920732\n",
      "[61]\tvalid_0's rmse: 0.920199\n",
      "[62]\tvalid_0's rmse: 0.919852\n",
      "[63]\tvalid_0's rmse: 0.919283\n",
      "[64]\tvalid_0's rmse: 0.918562\n",
      "[65]\tvalid_0's rmse: 0.918041\n",
      "[66]\tvalid_0's rmse: 0.917549\n",
      "[67]\tvalid_0's rmse: 0.917115\n",
      "[68]\tvalid_0's rmse: 0.916593\n",
      "[69]\tvalid_0's rmse: 0.916031\n",
      "[70]\tvalid_0's rmse: 0.9156\n",
      "[71]\tvalid_0's rmse: 0.915146\n",
      "[72]\tvalid_0's rmse: 0.914906\n",
      "[73]\tvalid_0's rmse: 0.914587\n",
      "[74]\tvalid_0's rmse: 0.914239\n",
      "[75]\tvalid_0's rmse: 0.914012\n",
      "[76]\tvalid_0's rmse: 0.913864\n",
      "[77]\tvalid_0's rmse: 0.913576\n",
      "[78]\tvalid_0's rmse: 0.913367\n",
      "[79]\tvalid_0's rmse: 0.91298\n",
      "[80]\tvalid_0's rmse: 0.912527\n",
      "[81]\tvalid_0's rmse: 0.912485\n",
      "[82]\tvalid_0's rmse: 0.912508\n",
      "[83]\tvalid_0's rmse: 0.91231\n",
      "[84]\tvalid_0's rmse: 0.911716\n",
      "[85]\tvalid_0's rmse: 0.911502\n",
      "[86]\tvalid_0's rmse: 0.911166\n",
      "[87]\tvalid_0's rmse: 0.910998\n",
      "[88]\tvalid_0's rmse: 0.910759\n",
      "[89]\tvalid_0's rmse: 0.910565\n",
      "[90]\tvalid_0's rmse: 0.910433\n",
      "[91]\tvalid_0's rmse: 0.910206\n",
      "[92]\tvalid_0's rmse: 0.910019\n",
      "[93]\tvalid_0's rmse: 0.909866\n",
      "[94]\tvalid_0's rmse: 0.909748\n",
      "[95]\tvalid_0's rmse: 0.909613\n",
      "[96]\tvalid_0's rmse: 0.909522\n",
      "[97]\tvalid_0's rmse: 0.909603\n",
      "[98]\tvalid_0's rmse: 0.909374\n",
      "[99]\tvalid_0's rmse: 0.909135\n",
      "[100]\tvalid_0's rmse: 0.909054\n",
      "[101]\tvalid_0's rmse: 0.909212\n",
      "[102]\tvalid_0's rmse: 0.909161\n",
      "[103]\tvalid_0's rmse: 0.909128\n",
      "[104]\tvalid_0's rmse: 0.908989\n",
      "[105]\tvalid_0's rmse: 0.908928\n",
      "[106]\tvalid_0's rmse: 0.908757\n",
      "[107]\tvalid_0's rmse: 0.908532\n",
      "[108]\tvalid_0's rmse: 0.908486\n",
      "[109]\tvalid_0's rmse: 0.908403\n",
      "[110]\tvalid_0's rmse: 0.908168\n",
      "[111]\tvalid_0's rmse: 0.908109\n",
      "[112]\tvalid_0's rmse: 0.908032\n",
      "[113]\tvalid_0's rmse: 0.907986\n",
      "[114]\tvalid_0's rmse: 0.907908\n",
      "[115]\tvalid_0's rmse: 0.907685\n",
      "[116]\tvalid_0's rmse: 0.907628\n",
      "[117]\tvalid_0's rmse: 0.907405\n",
      "[118]\tvalid_0's rmse: 0.907385\n",
      "[119]\tvalid_0's rmse: 0.907377\n",
      "[120]\tvalid_0's rmse: 0.907265\n",
      "[121]\tvalid_0's rmse: 0.907197\n",
      "[122]\tvalid_0's rmse: 0.907135\n",
      "[123]\tvalid_0's rmse: 0.906898\n",
      "[124]\tvalid_0's rmse: 0.906767\n",
      "[125]\tvalid_0's rmse: 0.90672\n",
      "[126]\tvalid_0's rmse: 0.906614\n",
      "[127]\tvalid_0's rmse: 0.906598\n",
      "[128]\tvalid_0's rmse: 0.90652\n",
      "[129]\tvalid_0's rmse: 0.90642\n",
      "[130]\tvalid_0's rmse: 0.906348\n",
      "[131]\tvalid_0's rmse: 0.906269\n",
      "[132]\tvalid_0's rmse: 0.906159\n",
      "[133]\tvalid_0's rmse: 0.906092\n",
      "[134]\tvalid_0's rmse: 0.906311\n",
      "[135]\tvalid_0's rmse: 0.906197\n",
      "[136]\tvalid_0's rmse: 0.90605\n",
      "[137]\tvalid_0's rmse: 0.906087\n",
      "[138]\tvalid_0's rmse: 0.905982\n",
      "[139]\tvalid_0's rmse: 0.905845\n",
      "[140]\tvalid_0's rmse: 0.905815\n",
      "[141]\tvalid_0's rmse: 0.905756\n",
      "[142]\tvalid_0's rmse: 0.905639\n",
      "[143]\tvalid_0's rmse: 0.905577\n",
      "[144]\tvalid_0's rmse: 0.905482\n",
      "[145]\tvalid_0's rmse: 0.905434\n",
      "[146]\tvalid_0's rmse: 0.905313\n",
      "[147]\tvalid_0's rmse: 0.905396\n",
      "[148]\tvalid_0's rmse: 0.90532\n",
      "[149]\tvalid_0's rmse: 0.905321\n",
      "[150]\tvalid_0's rmse: 0.905297\n",
      "[151]\tvalid_0's rmse: 0.905306\n",
      "[152]\tvalid_0's rmse: 0.905253\n",
      "[153]\tvalid_0's rmse: 0.905195\n",
      "[154]\tvalid_0's rmse: 0.904654\n",
      "[155]\tvalid_0's rmse: 0.904705\n",
      "[156]\tvalid_0's rmse: 0.904624\n",
      "[157]\tvalid_0's rmse: 0.904558\n",
      "[158]\tvalid_0's rmse: 0.904511\n",
      "[159]\tvalid_0's rmse: 0.904303\n",
      "[160]\tvalid_0's rmse: 0.904419\n",
      "[161]\tvalid_0's rmse: 0.904398\n",
      "[162]\tvalid_0's rmse: 0.904422\n",
      "[163]\tvalid_0's rmse: 0.904359\n",
      "[164]\tvalid_0's rmse: 0.904342\n",
      "[165]\tvalid_0's rmse: 0.904329\n",
      "[166]\tvalid_0's rmse: 0.904305\n",
      "[167]\tvalid_0's rmse: 0.904232\n",
      "[168]\tvalid_0's rmse: 0.904216\n",
      "[169]\tvalid_0's rmse: 0.904145\n",
      "[170]\tvalid_0's rmse: 0.904116\n",
      "[171]\tvalid_0's rmse: 0.904053\n",
      "[172]\tvalid_0's rmse: 0.903871\n",
      "[173]\tvalid_0's rmse: 0.90366\n",
      "[174]\tvalid_0's rmse: 0.903688\n",
      "[175]\tvalid_0's rmse: 0.903658\n",
      "[176]\tvalid_0's rmse: 0.903626\n",
      "[177]\tvalid_0's rmse: 0.903672\n",
      "[178]\tvalid_0's rmse: 0.903622\n",
      "[179]\tvalid_0's rmse: 0.903571\n",
      "[180]\tvalid_0's rmse: 0.903447\n",
      "[181]\tvalid_0's rmse: 0.903299\n",
      "[182]\tvalid_0's rmse: 0.903223\n",
      "[183]\tvalid_0's rmse: 0.903188\n",
      "[184]\tvalid_0's rmse: 0.903191\n",
      "[185]\tvalid_0's rmse: 0.903107\n",
      "[186]\tvalid_0's rmse: 0.90309\n",
      "[187]\tvalid_0's rmse: 0.903026\n",
      "[188]\tvalid_0's rmse: 0.902983\n",
      "[189]\tvalid_0's rmse: 0.902936\n",
      "[190]\tvalid_0's rmse: 0.902896\n",
      "[191]\tvalid_0's rmse: 0.902951\n",
      "[192]\tvalid_0's rmse: 0.902913\n",
      "[193]\tvalid_0's rmse: 0.902861\n",
      "[194]\tvalid_0's rmse: 0.902693\n",
      "[195]\tvalid_0's rmse: 0.90266\n",
      "[196]\tvalid_0's rmse: 0.902662\n",
      "[197]\tvalid_0's rmse: 0.902621\n",
      "[198]\tvalid_0's rmse: 0.90262\n",
      "[199]\tvalid_0's rmse: 0.90255\n",
      "[200]\tvalid_0's rmse: 0.902523\n",
      "[201]\tvalid_0's rmse: 0.90252\n",
      "[202]\tvalid_0's rmse: 0.902453\n",
      "[203]\tvalid_0's rmse: 0.90243\n",
      "[204]\tvalid_0's rmse: 0.902433\n",
      "[205]\tvalid_0's rmse: 0.902433\n",
      "[206]\tvalid_0's rmse: 0.902445\n",
      "[207]\tvalid_0's rmse: 0.902454\n",
      "[208]\tvalid_0's rmse: 0.902435\n",
      "[209]\tvalid_0's rmse: 0.90237\n",
      "[210]\tvalid_0's rmse: 0.902327\n",
      "[211]\tvalid_0's rmse: 0.901936\n",
      "[212]\tvalid_0's rmse: 0.901925\n",
      "[213]\tvalid_0's rmse: 0.90186\n",
      "[214]\tvalid_0's rmse: 0.901909\n",
      "[215]\tvalid_0's rmse: 0.901843\n",
      "[216]\tvalid_0's rmse: 0.901844\n",
      "[217]\tvalid_0's rmse: 0.901799\n",
      "[218]\tvalid_0's rmse: 0.901792\n",
      "[219]\tvalid_0's rmse: 0.901873\n",
      "[220]\tvalid_0's rmse: 0.90187\n",
      "[221]\tvalid_0's rmse: 0.901859\n",
      "[222]\tvalid_0's rmse: 0.901851\n",
      "[223]\tvalid_0's rmse: 0.90208\n",
      "[224]\tvalid_0's rmse: 0.902063\n",
      "[225]\tvalid_0's rmse: 0.902025\n",
      "[226]\tvalid_0's rmse: 0.902114\n",
      "[227]\tvalid_0's rmse: 0.902178\n",
      "[228]\tvalid_0's rmse: 0.902121\n",
      "[229]\tvalid_0's rmse: 0.902109\n",
      "[230]\tvalid_0's rmse: 0.902075\n",
      "[231]\tvalid_0's rmse: 0.902051\n",
      "[232]\tvalid_0's rmse: 0.902045\n",
      "[233]\tvalid_0's rmse: 0.902075\n",
      "Early stopping, best iteration is:\n",
      "[218]\tvalid_0's rmse: 0.901792\n"
     ]
    }
   ],
   "source": [
    "lgb_params = {\n",
    "               'feature_fraction': 0.75,\n",
    "               'metric': 'rmse',\n",
    "               'nthread':-1, \n",
    "               'min_data_in_leaf': 2**7, \n",
    "               'bagging_fraction': 0.75, \n",
    "               'learning_rate': 0.03, \n",
    "               'objective': 'mse', \n",
    "               'bagging_seed': 2**7, \n",
    "               'num_leaves': 2**7,\n",
    "               'bagging_freq':1,\n",
    "               'verbose':1,\n",
    "               'lambda_l1': 0.001,\n",
    "               'lambda_l2': 0.001\n",
    "              }\n",
    "\n",
    "model = lgb.train(lgb_params, \n",
    "                  lgb.Dataset(X_train,label=y_train), \n",
    "                  300 , #categorical_feature=cat_features, \n",
    "                  valid_sets=lgb.Dataset(X_valid,label=y_valid), verbose_eval=True,\n",
    "                 early_stopping_rounds=15)"
   ]
  },
  {
   "cell_type": "code",
   "execution_count": 30,
   "metadata": {},
   "outputs": [
    {
     "data": {
      "text/plain": [
       "<matplotlib.axes._subplots.AxesSubplot at 0x1eb6e1ab9c8>"
      ]
     },
     "execution_count": 30,
     "metadata": {},
     "output_type": "execute_result"
    },
    {
     "data": {
      "image/png": "[encoded data removed]",
      "text/plain": [
       "<Figure size 1080x792 with 1 Axes>"
      ]
     },
     "metadata": {
      "needs_background": "light"
     },
     "output_type": "display_data"
    }
   ],
   "source": [
    "lgb.plot_importance(model, figsize=(15,11))"
   ]
  },
  {
   "cell_type": "code",
   "execution_count": 31,
   "metadata": {},
   "outputs": [],
   "source": [
    "pred_lgb = model.predict(X_test).clip(0,20)\n",
    "pred_lgb_valid = model.predict(X_valid).clip(0,20)"
   ]
  },
  {
   "cell_type": "code",
   "execution_count": 32,
   "metadata": {},
   "outputs": [
    {
     "data": {
      "text/plain": [
       "(20.0, 20.0)"
      ]
     },
     "execution_count": 32,
     "metadata": {},
     "output_type": "execute_result"
    }
   ],
   "source": [
    "pred_lgb_valid.max(), pred_lgb.max()"
   ]
  },
  {
   "cell_type": "code",
   "execution_count": 33,
   "metadata": {},
   "outputs": [],
   "source": [
    "df_test['item_cnt_month'] = pred_lgb\n",
    "df_submission= df_test[['ID','item_cnt_month']]\n",
    "df_submission.to_csv('29jul2020_lgb_all_feat_22.csv', index=False)\n",
    "#sales_util.save_submission('25jul2020_edx_lgb_2',df_submission)"
   ]
  },
  {
   "cell_type": "code",
   "execution_count": 34,
   "metadata": {},
   "outputs": [
    {
     "data": {
      "text/plain": [
       "<matplotlib.legend.Legend at 0x1ec23913cc8>"
      ]
     },
     "execution_count": 34,
     "metadata": {},
     "output_type": "execute_result"
    },
    {
     "data": {
      "image/png": "[encoded data removed]",
      "text/plain": [
       "<Figure size 1080x360 with 1 Axes>"
      ]
     },
     "metadata": {
      "needs_background": "light"
     },
     "output_type": "display_data"
    }
   ],
   "source": [
    "ytarget = y_valid[10:250]\n",
    "ypred = pred_lgb_valid[10:250]\n",
    "fig, ax = plt.subplots(figsize=(15,5))\n",
    "ax.plot(ytarget, label='target')\n",
    "ax.plot(ypred, label='pred')\n",
    "ax.legend(loc='upper right')"
   ]
  },
  {
   "cell_type": "code",
   "execution_count": null,
   "metadata": {},
   "outputs": [],
   "source": [
    "from sklearn.metrics import r2_score\n",
    "from sklearn.metrics import mean_squared_error"
   ]
  },
  {
   "cell_type": "markdown",
   "metadata": {},
   "source": [
    "# Averaging"
   ]
  },
  {
   "cell_type": "code",
   "execution_count": 34,
   "metadata": {},
   "outputs": [],
   "source": [
    "df_submission_17 = pd.read_csv('29jul2020_lgb_all_feat_17.csv')"
   ]
  },
  {
   "cell_type": "code",
   "execution_count": 36,
   "metadata": {},
   "outputs": [],
   "source": [
    "df_submission_17.rename(columns={'item_cnt_month':'item_cnt_month_17'}, inplace=True)\n",
    "df_submission.rename(columns={'item_cnt_month':'item_cnt_month_18'}, inplace=True)\n",
    "df_avg = df_submission.merge(df_submission_17, how='inner')"
   ]
  },
  {
   "cell_type": "code",
   "execution_count": 37,
   "metadata": {},
   "outputs": [
    {
     "data": {
      "text/html": [
       "<div>\n",
       "<style scoped>\n",
       "    .dataframe tbody tr th:only-of-type {\n",
       "        vertical-align: middle;\n",
       "    }\n",
       "\n",
       "    .dataframe tbody tr th {\n",
       "        vertical-align: top;\n",
       "    }\n",
       "\n",
       "    .dataframe thead th {\n",
       "        text-align: right;\n",
       "    }\n",
       "</style>\n",
       "<table border=\"1\" class=\"dataframe\">\n",
       "  <thead>\n",
       "    <tr style=\"text-align: right;\">\n",
       "      <th></th>\n",
       "      <th>ID</th>\n",
       "      <th>item_cnt_month_18</th>\n",
       "      <th>item_cnt_month_17</th>\n",
       "    </tr>\n",
       "  </thead>\n",
       "  <tbody>\n",
       "    <tr>\n",
       "      <th>0</th>\n",
       "      <td>0</td>\n",
       "      <td>0.345730</td>\n",
       "      <td>0.374155</td>\n",
       "    </tr>\n",
       "    <tr>\n",
       "      <th>1</th>\n",
       "      <td>1</td>\n",
       "      <td>0.166516</td>\n",
       "      <td>0.228877</td>\n",
       "    </tr>\n",
       "    <tr>\n",
       "      <th>2</th>\n",
       "      <td>2</td>\n",
       "      <td>0.614248</td>\n",
       "      <td>0.609159</td>\n",
       "    </tr>\n",
       "    <tr>\n",
       "      <th>3</th>\n",
       "      <td>3</td>\n",
       "      <td>0.253090</td>\n",
       "      <td>0.277104</td>\n",
       "    </tr>\n",
       "    <tr>\n",
       "      <th>4</th>\n",
       "      <td>4</td>\n",
       "      <td>1.936822</td>\n",
       "      <td>1.824504</td>\n",
       "    </tr>\n",
       "  </tbody>\n",
       "</table>\n",
       "</div>"
      ],
      "text/plain": [
       "   ID  item_cnt_month_18  item_cnt_month_17\n",
       "0   0           0.345730           0.374155\n",
       "1   1           0.166516           0.228877\n",
       "2   2           0.614248           0.609159\n",
       "3   3           0.253090           0.277104\n",
       "4   4           1.936822           1.824504"
      ]
     },
     "execution_count": 37,
     "metadata": {},
     "output_type": "execute_result"
    }
   ],
   "source": [
    "df_avg.head()"
   ]
  },
  {
   "cell_type": "code",
   "execution_count": 38,
   "metadata": {},
   "outputs": [],
   "source": [
    "df_avg['item_cnt_month'] = (df_avg['item_cnt_month_18'] + df_avg['item_cnt_month_17'])/2\n",
    "df_avg.drop(['item_cnt_month_17','item_cnt_month_18'], axis=1, inplace=True)"
   ]
  },
  {
   "cell_type": "code",
   "execution_count": 39,
   "metadata": {},
   "outputs": [
    {
     "data": {
      "text/plain": [
       "<matplotlib.legend.Legend at 0x26e652fdac8>"
      ]
     },
     "execution_count": 39,
     "metadata": {},
     "output_type": "execute_result"
    },
    {
     "data": {
      "image/png": "[encoded data removed]",
      "text/plain": [
       "<Figure size 1080x360 with 1 Axes>"
      ]
     },
     "metadata": {
      "needs_background": "light"
     },
     "output_type": "display_data"
    }
   ],
   "source": [
    "ytarget = y_valid[10:250]\n",
    "ypred = df_avg.iloc[10:250]['item_cnt_month']\n",
    "fig, ax = plt.subplots(figsize=(15,5))\n",
    "ax.plot(ytarget, label='target')\n",
    "ax.plot(ypred, label='pred')\n",
    "ax.legend(loc='upper right')"
   ]
  },
  {
   "cell_type": "code",
   "execution_count": 41,
   "metadata": {},
   "outputs": [],
   "source": [
    "df_avg.to_csv('29jul2020_lgb_all_feat_17_18_avg.csv', index=False)"
   ]
  },
  {
   "cell_type": "code",
   "execution_count": null,
   "metadata": {},
   "outputs": [],
   "source": []
  }
 ],
 "metadata": {
  "kernelspec": {
   "display_name": "Python 3",
   "language": "python",
   "name": "python3"
  },
  "language_info": {
   "codemirror_mode": {
    "name": "ipython",
    "version": 3
   },
   "file_extension": ".py",
   "mimetype": "text/x-python",
   "name": "python",
   "nbconvert_exporter": "python",
   "pygments_lexer": "ipython3",
   "version": "3.7.6"
  }
 },
 "nbformat": 4,
 "nbformat_minor": 4
}
