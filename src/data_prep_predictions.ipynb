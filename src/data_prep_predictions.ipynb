{
 "cells": [
  {
   "cell_type": "code",
   "execution_count": 1,
   "metadata": {},
   "outputs": [
    {
     "name": "stderr",
     "output_type": "stream",
     "text": [
      "C:\\ProgramData\\Anaconda3\\lib\\site-packages\\fuzzywuzzy\\fuzz.py:11: UserWarning: Using slow pure-python SequenceMatcher. Install python-Levenshtein to remove this warning\n",
      "  warnings.warn('Using slow pure-python SequenceMatcher. Install python-Levenshtein to remove this warning')\n"
     ]
    }
   ],
   "source": [
    "import lightgbm as lgb\n",
    "import numpy as np\n",
    "import pandas as pd\n",
    "import utils\n",
    "\n",
    "import matplotlib.pyplot as plt\n",
    "\n",
    "import os\n",
    "import warnings\n",
    "warnings.filterwarnings(\"ignore\")\n",
    "\n",
    "working_folder = '../working/'\n",
    "data_folder = '../data/'\n",
    "sales_util = utils.SalesUtils('../submissions')"
   ]
  },
  {
   "cell_type": "code",
   "execution_count": 2,
   "metadata": {},
   "outputs": [],
   "source": [
    "dfmain  = pd.read_csv(os.path.join(working_folder, 'df_main_with_test.csv'))\n",
    "df_test  = pd.read_csv(os.path.join(data_folder, 'test.csv'))"
   ]
  },
  {
   "cell_type": "code",
   "execution_count": 3,
   "metadata": {},
   "outputs": [
    {
     "name": "stdout",
     "output_type": "stream",
     "text": [
      "Test `date_block_num` is 34\n"
     ]
    }
   ],
   "source": [
    "dates = dfmain['date_block_num']\n",
    "\n",
    "#define the index cols\n",
    "index_cols = ['shop_id', 'item_id', 'date_block_num']\n",
    "\n",
    "last_block = dates.max()\n",
    "print('Test `date_block_num` is %d' % last_block)"
   ]
  },
  {
   "cell_type": "code",
   "execution_count": 25,
   "metadata": {},
   "outputs": [],
   "source": [
    "# List of all lagged features\n",
    "index_cols = ['shop_id', 'item_id', 'date_block_num']\n",
    "shift_range = [1,2,3,4,12]\n",
    "mean_enc_cols = [col for col in dfmain.columns if 'mean' in str(col)]\n",
    "fit_cols = [col for col in dfmain.columns if col[-1] in [str(item) for item in shift_range]] \n",
    "fit_cols = fit_cols + mean_enc_cols + ['city_id','item_category_id','num_days'] #'num_sun'\n",
    "# We will drop these at fitting stage\n",
    "to_drop_cols = list(set(list(dfmain.columns)) - (set(fit_cols)|set(index_cols)))  \n",
    "to_drop_cols = to_drop_cols + ['item_id_db_mean_target','revenue_lag_3','revenue_lag_2','revenue_shop_lag_2',\n",
    "                               'revenue_shop_lag_3','revenue_item_lag_2','revenue_item_lag_3',\n",
    "                              'revenue_lag_12', 'revenue_item_lag_12','revenue_shop_lag_12',\n",
    "                              'revenue_lag_4','revenue_shop_lag_4','revenue_item_lag_4',\n",
    "                              'city_id',\n",
    "                              'revenue_item_lag_1','revenue_shop_lag_1','city_db_mean_target',\n",
    "                              'shop_id_db_mean_target','date_block_num','shop_item_db_mean',\n",
    "                              'item_id_exp_y_mean','item_cat_db_mean_target'] \n",
    "#,'db_target_mean','parent_cat_db_mean_target','item_category_id','shop_id_exp_y_mean'"
   ]
  },
  {
   "cell_type": "markdown",
   "metadata": {},
   "source": [
    "# Best Combination so far....\n",
    "\n",
    "['shop_id', 'item_id', 'item_category_id', 'name_2', 'name_3',\n",
    "       'num_days', 'revenue_lag_1', 'target_lag_1', 'target_item_lag_1',\n",
    "       'target_shop_lag_1', 'target_lag_2', 'target_item_lag_2',\n",
    "       'target_shop_lag_2', 'target_lag_3', 'target_item_lag_3',\n",
    "       'target_shop_lag_3', 'target_lag_12', 'target_item_lag_12',\n",
    "       'target_shop_lag_12', 'month_mean_target', 'parent_cat_db_mean_target',\n",
    "       'shop_city_mean', 'db_target_mean'] \n",
    "       \n",
    "Score...: 0.939209 and 0.943882.   10/10     \n",
    "\n",
    "\n",
    "lgb_params = {\n",
    "               'feature_fraction': 0.5,\n",
    "               'metric': 'rmse',\n",
    "               'nthread':-1, \n",
    "               'min_data_in_leaf': 71, \n",
    "               'bagging_fraction': 0.5, \n",
    "               'learning_rate': 0.03, \n",
    "               'objective': 'mse', \n",
    "               'bagging_seed': 2**7, \n",
    "               'num_leaves': 71,\n",
    "               'bagging_freq':1,\n",
    "               'verbose':1,\n",
    "               'lambda_l1': 0.001,\n",
    "               'lambda_l2': 0.001,\n",
    "               'extra_trees': True,\n",
    "               'max_bin': 22\n",
    "              }\n",
    "\n",
    "model = lgb.train(lgb_params, \n",
    "                  lgb.Dataset(X_train,label=y_train), \n",
    "                  300 , #categorical_feature=cat_features, \n",
    "                  valid_sets=lgb.Dataset(X_valid,label=y_valid), verbose_eval=True,\n",
    "                 early_stopping_rounds=15)"
   ]
  },
  {
   "cell_type": "code",
   "execution_count": 15,
   "metadata": {},
   "outputs": [
    {
     "data": {
      "text/plain": [
       "['name_2',\n",
       " 'name_3',\n",
       " 'revenue_lag_1',\n",
       " 'revenue_item_lag_1',\n",
       " 'revenue_shop_lag_1',\n",
       " 'target_lag_1',\n",
       " 'target_item_lag_1',\n",
       " 'target_shop_lag_1',\n",
       " 'revenue_lag_2',\n",
       " 'revenue_item_lag_2',\n",
       " 'revenue_shop_lag_2',\n",
       " 'target_lag_2',\n",
       " 'target_item_lag_2',\n",
       " 'target_shop_lag_2',\n",
       " 'revenue_lag_3',\n",
       " 'revenue_item_lag_3',\n",
       " 'revenue_shop_lag_3',\n",
       " 'target_lag_3',\n",
       " 'target_item_lag_3',\n",
       " 'target_shop_lag_3',\n",
       " 'revenue_lag_4',\n",
       " 'revenue_item_lag_4',\n",
       " 'revenue_shop_lag_4',\n",
       " 'target_lag_4',\n",
       " 'target_item_lag_4',\n",
       " 'target_shop_lag_4',\n",
       " 'revenue_lag_12',\n",
       " 'revenue_item_lag_12',\n",
       " 'revenue_shop_lag_12',\n",
       " 'target_lag_12',\n",
       " 'target_item_lag_12',\n",
       " 'target_shop_lag_12',\n",
       " 'shop_id_exp_y_mean',\n",
       " 'item_id_exp_y_mean',\n",
       " 'shop_item_db_mean',\n",
       " 'item_id_db_mean_target',\n",
       " 'month_mean_target',\n",
       " 'parent_cat_id_mean_target',\n",
       " 'parent_cat_db_mean_target',\n",
       " 'item_cat_mean_target',\n",
       " 'item_cat_db_mean_target',\n",
       " 'shop_id_mean_target',\n",
       " 'shop_id_db_mean_target',\n",
       " 'city_db_mean_target',\n",
       " 'shop_city_mean',\n",
       " 'db_target_mean',\n",
       " 'city_id',\n",
       " 'item_category_id',\n",
       " 'num_days']"
      ]
     },
     "execution_count": 15,
     "metadata": {},
     "output_type": "execute_result"
    }
   ],
   "source": [
    "fit_cols"
   ]
  },
  {
   "cell_type": "code",
   "execution_count": 6,
   "metadata": {},
   "outputs": [
    {
     "name": "stdout",
     "output_type": "stream",
     "text": [
      "<class 'pandas.core.frame.DataFrame'>\n",
      "RangeIndex: 8272050 entries, 0 to 8272049\n",
      "Data columns (total 62 columns):\n",
      " #   Column                     Dtype  \n",
      "---  ------                     -----  \n",
      " 0   shop_id                    int64  \n",
      " 1   item_id                    int64  \n",
      " 2   date_block_num             int64  \n",
      " 3   month                      int64  \n",
      " 4   target                     float64\n",
      " 5   revenue                    float64\n",
      " 6   target_shop                float64\n",
      " 7   revenue_shop               float64\n",
      " 8   target_item                float64\n",
      " 9   revenue_item               float64\n",
      " 10  item_category_id           int64  \n",
      " 11  name_2                     int64  \n",
      " 12  name_3                     int64  \n",
      " 13  parent_cat_id              int64  \n",
      " 14  city_id                    int64  \n",
      " 15  num_sat                    int64  \n",
      " 16  num_sun                    int64  \n",
      " 17  num_days                   int64  \n",
      " 18  revenue_lag_1              float64\n",
      " 19  revenue_item_lag_1         float64\n",
      " 20  revenue_shop_lag_1         float64\n",
      " 21  target_lag_1               float64\n",
      " 22  target_item_lag_1          float64\n",
      " 23  target_shop_lag_1          float64\n",
      " 24  revenue_lag_2              float64\n",
      " 25  revenue_item_lag_2         float64\n",
      " 26  revenue_shop_lag_2         float64\n",
      " 27  target_lag_2               float64\n",
      " 28  target_item_lag_2          float64\n",
      " 29  target_shop_lag_2          float64\n",
      " 30  revenue_lag_3              float64\n",
      " 31  revenue_item_lag_3         float64\n",
      " 32  revenue_shop_lag_3         float64\n",
      " 33  target_lag_3               float64\n",
      " 34  target_item_lag_3          float64\n",
      " 35  target_shop_lag_3          float64\n",
      " 36  revenue_lag_4              float64\n",
      " 37  revenue_item_lag_4         float64\n",
      " 38  revenue_shop_lag_4         float64\n",
      " 39  target_lag_4               float64\n",
      " 40  target_item_lag_4          float64\n",
      " 41  target_shop_lag_4          float64\n",
      " 42  revenue_lag_12             float64\n",
      " 43  revenue_item_lag_12        float64\n",
      " 44  revenue_shop_lag_12        float64\n",
      " 45  target_lag_12              float64\n",
      " 46  target_item_lag_12         float64\n",
      " 47  target_shop_lag_12         float64\n",
      " 48  shop_id_exp_y_mean         float64\n",
      " 49  item_id_exp_y_mean         float64\n",
      " 50  shop_item_db_mean          float64\n",
      " 51  item_id_db_mean_target     float64\n",
      " 52  month_mean_target          float64\n",
      " 53  parent_cat_id_mean_target  float64\n",
      " 54  parent_cat_db_mean_target  float64\n",
      " 55  item_cat_mean_target       float64\n",
      " 56  item_cat_db_mean_target    float64\n",
      " 57  shop_id_mean_target        float64\n",
      " 58  shop_id_db_mean_target     float64\n",
      " 59  city_db_mean_target        float64\n",
      " 60  shop_city_mean             float64\n",
      " 61  db_target_mean             float64\n",
      "dtypes: float64(50), int64(12)\n",
      "memory usage: 3.8 GB\n"
     ]
    }
   ],
   "source": [
    "dfmain.info()"
   ]
  },
  {
   "cell_type": "code",
   "execution_count": 7,
   "metadata": {},
   "outputs": [],
   "source": [
    "def down_cast_dataframe(df_matrix):\n",
    "    df_matrix['date_block_num'] = df_matrix['date_block_num'].astype('int8')\n",
    "    df_matrix['shop_id'] = df_matrix['shop_id'].astype('int8')\n",
    "    df_matrix['item_id'] = df_matrix['item_id'].astype('int16')\n",
    "    df_matrix['target'] = df_matrix['target'].astype('float16')\n",
    "    df_matrix['target_shop'] = df_matrix['target_shop'].astype('float16')\n",
    "    df_matrix['target_item'] = df_matrix['target_item'].astype('float16')\n",
    "    df_matrix['month'] = df_matrix['month'].astype('int8')\n",
    "    df_matrix['item_category_id'] = df_matrix['item_category_id'].astype('int8')\n",
    "    df_matrix['parent_cat_id'] = df_matrix['parent_cat_id'].astype('int8')\n",
    "    df_matrix['city_id'] = df_matrix['city_id'].astype('int8')\n",
    "    df_matrix['num_days'] = df_matrix['num_days'].astype('int8')\n",
    "    df_matrix['num_sun'] = df_matrix['num_sun'].astype('int8')\n",
    "    df_matrix['num_sat'] = df_matrix['num_sat'].astype('int8')\n",
    "    df_matrix['name_2'] = df_matrix['name_2'].astype('int16')\n",
    "    df_matrix['name_3'] = df_matrix['name_3'].astype('int16')\n",
    "\n",
    "    # getting the mean attributes\n",
    "    mean_enc_cols = [col for col in df_matrix.columns if 'mean' in str(col)]\n",
    "    for col in mean_enc_cols:\n",
    "        df_matrix[col] = df_matrix[col].astype('float16')\n",
    "\n",
    "    # getting the mean attributes\n",
    "    revenue_cols = [col for col in df_matrix.columns if 'revenue' in str(col)]\n",
    "    for col in revenue_cols:\n",
    "        df_matrix[col] = df_matrix[col].astype('float32')\n",
    "    \n",
    "\n",
    "    # getting the lag cols\n",
    "    target_cols = [col for col in df_matrix.columns if 'target' in str(col)]\n",
    "    for col in target_cols:\n",
    "        df_matrix[col] = df_matrix[col].astype('float16')\n",
    "    \n",
    "    \n",
    "    return df_matrix"
   ]
  },
  {
   "cell_type": "code",
   "execution_count": 8,
   "metadata": {},
   "outputs": [],
   "source": [
    "dfmain = down_cast_dataframe(dfmain)"
   ]
  },
  {
   "cell_type": "code",
   "execution_count": 9,
   "metadata": {},
   "outputs": [
    {
     "name": "stdout",
     "output_type": "stream",
     "text": [
      "<class 'pandas.core.frame.DataFrame'>\n",
      "RangeIndex: 8272050 entries, 0 to 8272049\n",
      "Data columns (total 62 columns):\n",
      " #   Column                     Dtype  \n",
      "---  ------                     -----  \n",
      " 0   shop_id                    int8   \n",
      " 1   item_id                    int16  \n",
      " 2   date_block_num             int8   \n",
      " 3   month                      int8   \n",
      " 4   target                     float16\n",
      " 5   revenue                    float32\n",
      " 6   target_shop                float16\n",
      " 7   revenue_shop               float32\n",
      " 8   target_item                float16\n",
      " 9   revenue_item               float32\n",
      " 10  item_category_id           int8   \n",
      " 11  name_2                     int16  \n",
      " 12  name_3                     int16  \n",
      " 13  parent_cat_id              int8   \n",
      " 14  city_id                    int8   \n",
      " 15  num_sat                    int8   \n",
      " 16  num_sun                    int8   \n",
      " 17  num_days                   int8   \n",
      " 18  revenue_lag_1              float32\n",
      " 19  revenue_item_lag_1         float32\n",
      " 20  revenue_shop_lag_1         float32\n",
      " 21  target_lag_1               float16\n",
      " 22  target_item_lag_1          float16\n",
      " 23  target_shop_lag_1          float16\n",
      " 24  revenue_lag_2              float32\n",
      " 25  revenue_item_lag_2         float32\n",
      " 26  revenue_shop_lag_2         float32\n",
      " 27  target_lag_2               float16\n",
      " 28  target_item_lag_2          float16\n",
      " 29  target_shop_lag_2          float16\n",
      " 30  revenue_lag_3              float32\n",
      " 31  revenue_item_lag_3         float32\n",
      " 32  revenue_shop_lag_3         float32\n",
      " 33  target_lag_3               float16\n",
      " 34  target_item_lag_3          float16\n",
      " 35  target_shop_lag_3          float16\n",
      " 36  revenue_lag_4              float32\n",
      " 37  revenue_item_lag_4         float32\n",
      " 38  revenue_shop_lag_4         float32\n",
      " 39  target_lag_4               float16\n",
      " 40  target_item_lag_4          float16\n",
      " 41  target_shop_lag_4          float16\n",
      " 42  revenue_lag_12             float32\n",
      " 43  revenue_item_lag_12        float32\n",
      " 44  revenue_shop_lag_12        float32\n",
      " 45  target_lag_12              float16\n",
      " 46  target_item_lag_12         float16\n",
      " 47  target_shop_lag_12         float16\n",
      " 48  shop_id_exp_y_mean         float16\n",
      " 49  item_id_exp_y_mean         float16\n",
      " 50  shop_item_db_mean          float16\n",
      " 51  item_id_db_mean_target     float16\n",
      " 52  month_mean_target          float16\n",
      " 53  parent_cat_id_mean_target  float16\n",
      " 54  parent_cat_db_mean_target  float16\n",
      " 55  item_cat_mean_target       float16\n",
      " 56  item_cat_db_mean_target    float16\n",
      " 57  shop_id_mean_target        float16\n",
      " 58  shop_id_db_mean_target     float16\n",
      " 59  city_db_mean_target        float16\n",
      " 60  shop_city_mean             float16\n",
      " 61  db_target_mean             float16\n",
      "dtypes: float16(32), float32(18), int16(3), int8(9)\n",
      "memory usage: 1.2 GB\n"
     ]
    }
   ],
   "source": [
    "dfmain.info()"
   ]
  },
  {
   "cell_type": "code",
   "execution_count": 26,
   "metadata": {},
   "outputs": [],
   "source": [
    "#split\n",
    "dates_train = dates[dates <  last_block]\n",
    "dates_test  = dates[dates == last_block]\n",
    "\n",
    "X_train = dfmain.loc[dates <  last_block-1].drop(to_drop_cols, axis=1)\n",
    "X_test =  dfmain.loc[dates == last_block].drop(to_drop_cols, axis=1)\n",
    "X_valid = dfmain.loc[dates == last_block-1].drop(to_drop_cols, axis=1)\n",
    "\n",
    "y_train = dfmain.loc[dates <  last_block-1, 'target'].values\n",
    "y_test =  dfmain.loc[dates == last_block, 'target'].values\n",
    "y_valid =  dfmain.loc[dates == last_block-1, 'target'].values\n",
    "\n",
    "y_train = y_train.clip(0,20)\n",
    "y_valid = y_valid.clip(0,20)\n",
    "\n",
    "X_train_all = dfmain.loc[dates <  last_block].drop(to_drop_cols, axis=1)\n",
    "y_train_all = dfmain.loc[dates <  last_block, 'target'].values"
   ]
  },
  {
   "cell_type": "code",
   "execution_count": 17,
   "metadata": {},
   "outputs": [
    {
     "data": {
      "text/plain": [
       "Index(['shop_id', 'item_id', 'item_category_id', 'name_2', 'name_3',\n",
       "       'num_days', 'revenue_lag_1', 'target_lag_1', 'target_item_lag_1',\n",
       "       'target_shop_lag_1', 'target_lag_2', 'target_item_lag_2',\n",
       "       'target_shop_lag_2', 'target_lag_3', 'target_item_lag_3',\n",
       "       'target_shop_lag_3', 'target_lag_4', 'target_item_lag_4',\n",
       "       'target_shop_lag_4', 'target_lag_12', 'target_item_lag_12',\n",
       "       'target_shop_lag_12', 'month_mean_target', 'parent_cat_id_mean_target',\n",
       "       'parent_cat_db_mean_target', 'item_cat_mean_target',\n",
       "       'shop_id_mean_target', 'shop_city_mean', 'db_target_mean'],\n",
       "      dtype='object')"
      ]
     },
     "execution_count": 17,
     "metadata": {},
     "output_type": "execute_result"
    }
   ],
   "source": [
    "X_train.columns"
   ]
  },
  {
   "cell_type": "code",
   "execution_count": 18,
   "metadata": {},
   "outputs": [
    {
     "data": {
      "text/plain": [
       "29"
      ]
     },
     "execution_count": 18,
     "metadata": {},
     "output_type": "execute_result"
    }
   ],
   "source": [
    "len(X_train.columns)"
   ]
  },
  {
   "cell_type": "code",
   "execution_count": null,
   "metadata": {},
   "outputs": [],
   "source": [
    "2**7"
   ]
  },
  {
   "cell_type": "code",
   "execution_count": 27,
   "metadata": {
    "scrolled": false
   },
   "outputs": [
    {
     "name": "stdout",
     "output_type": "stream",
     "text": [
      "[1]\tvalid_0's rmse: 1.12722\n",
      "Training until validation scores don't improve for 15 rounds\n",
      "[2]\tvalid_0's rmse: 1.11575\n",
      "[3]\tvalid_0's rmse: 1.10534\n",
      "[4]\tvalid_0's rmse: 1.09572\n",
      "[5]\tvalid_0's rmse: 1.08684\n",
      "[6]\tvalid_0's rmse: 1.0776\n",
      "[7]\tvalid_0's rmse: 1.06968\n",
      "[8]\tvalid_0's rmse: 1.06144\n",
      "[9]\tvalid_0's rmse: 1.05358\n",
      "[10]\tvalid_0's rmse: 1.0461\n",
      "[11]\tvalid_0's rmse: 1.03905\n",
      "[12]\tvalid_0's rmse: 1.03197\n",
      "[13]\tvalid_0's rmse: 1.0258\n",
      "[14]\tvalid_0's rmse: 1.01994\n",
      "[15]\tvalid_0's rmse: 1.01448\n",
      "[16]\tvalid_0's rmse: 1.00889\n",
      "[17]\tvalid_0's rmse: 1.00363\n",
      "[18]\tvalid_0's rmse: 0.99876\n",
      "[19]\tvalid_0's rmse: 0.994686\n",
      "[20]\tvalid_0's rmse: 0.99012\n",
      "[21]\tvalid_0's rmse: 0.985006\n",
      "[22]\tvalid_0's rmse: 0.981119\n",
      "[23]\tvalid_0's rmse: 0.977676\n",
      "[24]\tvalid_0's rmse: 0.974284\n",
      "[25]\tvalid_0's rmse: 0.970898\n",
      "[26]\tvalid_0's rmse: 0.967731\n",
      "[27]\tvalid_0's rmse: 0.964373\n",
      "[28]\tvalid_0's rmse: 0.961695\n",
      "[29]\tvalid_0's rmse: 0.959164\n",
      "[30]\tvalid_0's rmse: 0.956748\n",
      "[31]\tvalid_0's rmse: 0.954262\n",
      "[32]\tvalid_0's rmse: 0.952388\n",
      "[33]\tvalid_0's rmse: 0.950304\n",
      "[34]\tvalid_0's rmse: 0.948376\n",
      "[35]\tvalid_0's rmse: 0.946502\n",
      "[36]\tvalid_0's rmse: 0.944764\n",
      "[37]\tvalid_0's rmse: 0.94314\n",
      "[38]\tvalid_0's rmse: 0.941512\n",
      "[39]\tvalid_0's rmse: 0.939766\n",
      "[40]\tvalid_0's rmse: 0.938371\n",
      "[41]\tvalid_0's rmse: 0.936896\n",
      "[42]\tvalid_0's rmse: 0.935515\n",
      "[43]\tvalid_0's rmse: 0.934278\n",
      "[44]\tvalid_0's rmse: 0.933306\n",
      "[45]\tvalid_0's rmse: 0.932288\n",
      "[46]\tvalid_0's rmse: 0.931328\n",
      "[47]\tvalid_0's rmse: 0.930582\n",
      "[48]\tvalid_0's rmse: 0.929384\n",
      "[49]\tvalid_0's rmse: 0.928357\n",
      "[50]\tvalid_0's rmse: 0.927512\n",
      "[51]\tvalid_0's rmse: 0.926754\n",
      "[52]\tvalid_0's rmse: 0.925838\n",
      "[53]\tvalid_0's rmse: 0.925238\n",
      "[54]\tvalid_0's rmse: 0.924644\n",
      "[55]\tvalid_0's rmse: 0.923969\n",
      "[56]\tvalid_0's rmse: 0.923409\n",
      "[57]\tvalid_0's rmse: 0.922769\n",
      "[58]\tvalid_0's rmse: 0.922107\n",
      "[59]\tvalid_0's rmse: 0.92126\n",
      "[60]\tvalid_0's rmse: 0.920516\n",
      "[61]\tvalid_0's rmse: 0.91999\n",
      "[62]\tvalid_0's rmse: 0.919487\n",
      "[63]\tvalid_0's rmse: 0.919127\n",
      "[64]\tvalid_0's rmse: 0.919091\n",
      "[65]\tvalid_0's rmse: 0.918601\n",
      "[66]\tvalid_0's rmse: 0.918319\n",
      "[67]\tvalid_0's rmse: 0.91782\n",
      "[68]\tvalid_0's rmse: 0.917686\n",
      "[69]\tvalid_0's rmse: 0.917068\n",
      "[70]\tvalid_0's rmse: 0.916638\n",
      "[71]\tvalid_0's rmse: 0.916425\n",
      "[72]\tvalid_0's rmse: 0.916194\n",
      "[73]\tvalid_0's rmse: 0.916025\n",
      "[74]\tvalid_0's rmse: 0.915812\n",
      "[75]\tvalid_0's rmse: 0.915587\n",
      "[76]\tvalid_0's rmse: 0.915368\n",
      "[77]\tvalid_0's rmse: 0.915156\n",
      "[78]\tvalid_0's rmse: 0.914982\n",
      "[79]\tvalid_0's rmse: 0.914562\n",
      "[80]\tvalid_0's rmse: 0.914407\n",
      "[81]\tvalid_0's rmse: 0.914064\n",
      "[82]\tvalid_0's rmse: 0.913697\n",
      "[83]\tvalid_0's rmse: 0.91361\n",
      "[84]\tvalid_0's rmse: 0.913432\n",
      "[85]\tvalid_0's rmse: 0.913172\n",
      "[86]\tvalid_0's rmse: 0.912952\n",
      "[87]\tvalid_0's rmse: 0.912894\n",
      "[88]\tvalid_0's rmse: 0.912635\n",
      "[89]\tvalid_0's rmse: 0.91232\n",
      "[90]\tvalid_0's rmse: 0.912091\n",
      "[91]\tvalid_0's rmse: 0.912009\n",
      "[92]\tvalid_0's rmse: 0.911839\n",
      "[93]\tvalid_0's rmse: 0.91179\n",
      "[94]\tvalid_0's rmse: 0.911634\n",
      "[95]\tvalid_0's rmse: 0.91145\n",
      "[96]\tvalid_0's rmse: 0.911403\n",
      "[97]\tvalid_0's rmse: 0.911345\n",
      "[98]\tvalid_0's rmse: 0.911193\n",
      "[99]\tvalid_0's rmse: 0.910926\n",
      "[100]\tvalid_0's rmse: 0.910832\n",
      "[101]\tvalid_0's rmse: 0.910494\n",
      "[102]\tvalid_0's rmse: 0.910402\n",
      "[103]\tvalid_0's rmse: 0.910243\n",
      "[104]\tvalid_0's rmse: 0.910157\n",
      "[105]\tvalid_0's rmse: 0.910094\n",
      "[106]\tvalid_0's rmse: 0.909972\n",
      "[107]\tvalid_0's rmse: 0.909902\n",
      "[108]\tvalid_0's rmse: 0.909816\n",
      "[109]\tvalid_0's rmse: 0.909827\n",
      "[110]\tvalid_0's rmse: 0.909604\n",
      "[111]\tvalid_0's rmse: 0.909561\n",
      "[112]\tvalid_0's rmse: 0.909646\n",
      "[113]\tvalid_0's rmse: 0.909499\n",
      "[114]\tvalid_0's rmse: 0.909281\n",
      "[115]\tvalid_0's rmse: 0.909283\n",
      "[116]\tvalid_0's rmse: 0.90914\n",
      "[117]\tvalid_0's rmse: 0.909096\n",
      "[118]\tvalid_0's rmse: 0.909042\n",
      "[119]\tvalid_0's rmse: 0.909203\n",
      "[120]\tvalid_0's rmse: 0.909143\n",
      "[121]\tvalid_0's rmse: 0.909292\n",
      "[122]\tvalid_0's rmse: 0.9094\n",
      "[123]\tvalid_0's rmse: 0.908938\n",
      "[124]\tvalid_0's rmse: 0.908746\n",
      "[125]\tvalid_0's rmse: 0.90859\n",
      "[126]\tvalid_0's rmse: 0.908499\n",
      "[127]\tvalid_0's rmse: 0.908403\n",
      "[128]\tvalid_0's rmse: 0.908369\n",
      "[129]\tvalid_0's rmse: 0.908335\n",
      "[130]\tvalid_0's rmse: 0.90828\n",
      "[131]\tvalid_0's rmse: 0.908442\n",
      "[132]\tvalid_0's rmse: 0.908454\n",
      "[133]\tvalid_0's rmse: 0.908155\n",
      "[134]\tvalid_0's rmse: 0.908093\n",
      "[135]\tvalid_0's rmse: 0.908008\n",
      "[136]\tvalid_0's rmse: 0.907894\n",
      "[137]\tvalid_0's rmse: 0.907991\n",
      "[138]\tvalid_0's rmse: 0.907995\n",
      "[139]\tvalid_0's rmse: 0.907863\n",
      "[140]\tvalid_0's rmse: 0.907813\n",
      "[141]\tvalid_0's rmse: 0.907748\n",
      "[142]\tvalid_0's rmse: 0.907685\n",
      "[143]\tvalid_0's rmse: 0.90752\n",
      "[144]\tvalid_0's rmse: 0.907499\n",
      "[145]\tvalid_0's rmse: 0.907351\n",
      "[146]\tvalid_0's rmse: 0.907281\n",
      "[147]\tvalid_0's rmse: 0.907175\n",
      "[148]\tvalid_0's rmse: 0.907112\n",
      "[149]\tvalid_0's rmse: 0.907084\n",
      "[150]\tvalid_0's rmse: 0.907054\n",
      "[151]\tvalid_0's rmse: 0.907007\n",
      "[152]\tvalid_0's rmse: 0.906837\n",
      "[153]\tvalid_0's rmse: 0.906841\n",
      "[154]\tvalid_0's rmse: 0.906868\n",
      "[155]\tvalid_0's rmse: 0.906827\n",
      "[156]\tvalid_0's rmse: 0.90683\n",
      "[157]\tvalid_0's rmse: 0.906804\n",
      "[158]\tvalid_0's rmse: 0.906762\n",
      "[159]\tvalid_0's rmse: 0.906768\n",
      "[160]\tvalid_0's rmse: 0.906674\n",
      "[161]\tvalid_0's rmse: 0.906602\n",
      "[162]\tvalid_0's rmse: 0.906447\n",
      "[163]\tvalid_0's rmse: 0.906433\n",
      "[164]\tvalid_0's rmse: 0.906365\n",
      "[165]\tvalid_0's rmse: 0.906259\n",
      "[166]\tvalid_0's rmse: 0.90613\n",
      "[167]\tvalid_0's rmse: 0.906123\n",
      "[168]\tvalid_0's rmse: 0.906078\n",
      "[169]\tvalid_0's rmse: 0.906089\n",
      "[170]\tvalid_0's rmse: 0.906172\n",
      "[171]\tvalid_0's rmse: 0.906124\n",
      "[172]\tvalid_0's rmse: 0.906068\n",
      "[173]\tvalid_0's rmse: 0.905969\n",
      "[174]\tvalid_0's rmse: 0.905956\n",
      "[175]\tvalid_0's rmse: 0.905952\n",
      "[176]\tvalid_0's rmse: 0.905799\n",
      "[177]\tvalid_0's rmse: 0.905693\n",
      "[178]\tvalid_0's rmse: 0.905678\n",
      "[179]\tvalid_0's rmse: 0.905674\n",
      "[180]\tvalid_0's rmse: 0.905602\n",
      "[181]\tvalid_0's rmse: 0.905569\n",
      "[182]\tvalid_0's rmse: 0.905398\n",
      "[183]\tvalid_0's rmse: 0.905322\n",
      "[184]\tvalid_0's rmse: 0.905276\n",
      "[185]\tvalid_0's rmse: 0.905251\n",
      "[186]\tvalid_0's rmse: 0.905227\n",
      "[187]\tvalid_0's rmse: 0.905314\n",
      "[188]\tvalid_0's rmse: 0.905327\n",
      "[189]\tvalid_0's rmse: 0.905345\n",
      "[190]\tvalid_0's rmse: 0.905341\n",
      "[191]\tvalid_0's rmse: 0.905274\n",
      "[192]\tvalid_0's rmse: 0.905296\n",
      "[193]\tvalid_0's rmse: 0.9053\n",
      "[194]\tvalid_0's rmse: 0.905273\n",
      "[195]\tvalid_0's rmse: 0.905206\n",
      "[196]\tvalid_0's rmse: 0.905164\n",
      "[197]\tvalid_0's rmse: 0.90521\n",
      "[198]\tvalid_0's rmse: 0.905117\n",
      "[199]\tvalid_0's rmse: 0.905102\n",
      "[200]\tvalid_0's rmse: 0.904957\n",
      "[201]\tvalid_0's rmse: 0.90497\n",
      "[202]\tvalid_0's rmse: 0.904896\n",
      "[203]\tvalid_0's rmse: 0.904838\n",
      "[204]\tvalid_0's rmse: 0.904836\n",
      "[205]\tvalid_0's rmse: 0.904831\n",
      "[206]\tvalid_0's rmse: 0.904766\n",
      "[207]\tvalid_0's rmse: 0.904761\n",
      "[208]\tvalid_0's rmse: 0.904813\n",
      "[209]\tvalid_0's rmse: 0.904799\n",
      "[210]\tvalid_0's rmse: 0.90475\n",
      "[211]\tvalid_0's rmse: 0.904748\n",
      "[212]\tvalid_0's rmse: 0.904679\n",
      "[213]\tvalid_0's rmse: 0.904724\n",
      "[214]\tvalid_0's rmse: 0.9047\n",
      "[215]\tvalid_0's rmse: 0.904668\n",
      "[216]\tvalid_0's rmse: 0.904685\n",
      "[217]\tvalid_0's rmse: 0.90463\n",
      "[218]\tvalid_0's rmse: 0.904635\n",
      "[219]\tvalid_0's rmse: 0.904643\n",
      "[220]\tvalid_0's rmse: 0.904466\n",
      "[221]\tvalid_0's rmse: 0.904428\n",
      "[222]\tvalid_0's rmse: 0.904411\n",
      "[223]\tvalid_0's rmse: 0.904337\n",
      "[224]\tvalid_0's rmse: 0.904286\n",
      "[225]\tvalid_0's rmse: 0.90423\n",
      "[226]\tvalid_0's rmse: 0.904197\n",
      "[227]\tvalid_0's rmse: 0.904158\n",
      "[228]\tvalid_0's rmse: 0.904121\n",
      "[229]\tvalid_0's rmse: 0.904145\n",
      "[230]\tvalid_0's rmse: 0.904161\n",
      "[231]\tvalid_0's rmse: 0.904138\n",
      "[232]\tvalid_0's rmse: 0.9041\n",
      "[233]\tvalid_0's rmse: 0.904065\n",
      "[234]\tvalid_0's rmse: 0.904039\n",
      "[235]\tvalid_0's rmse: 0.904003\n",
      "[236]\tvalid_0's rmse: 0.903976\n",
      "[237]\tvalid_0's rmse: 0.903925\n",
      "[238]\tvalid_0's rmse: 0.903938\n",
      "[239]\tvalid_0's rmse: 0.903942\n",
      "[240]\tvalid_0's rmse: 0.903926\n",
      "[241]\tvalid_0's rmse: 0.903892\n",
      "[242]\tvalid_0's rmse: 0.903848\n",
      "[243]\tvalid_0's rmse: 0.903829\n",
      "[244]\tvalid_0's rmse: 0.903871\n",
      "[245]\tvalid_0's rmse: 0.903893\n",
      "[246]\tvalid_0's rmse: 0.903864\n",
      "[247]\tvalid_0's rmse: 0.903903\n",
      "[248]\tvalid_0's rmse: 0.903902\n",
      "[249]\tvalid_0's rmse: 0.903852\n",
      "[250]\tvalid_0's rmse: 0.903802\n",
      "[251]\tvalid_0's rmse: 0.903774\n",
      "[252]\tvalid_0's rmse: 0.903761\n",
      "[253]\tvalid_0's rmse: 0.903711\n",
      "[254]\tvalid_0's rmse: 0.9037\n",
      "[255]\tvalid_0's rmse: 0.903774\n",
      "[256]\tvalid_0's rmse: 0.903755\n",
      "[257]\tvalid_0's rmse: 0.903715\n",
      "[258]\tvalid_0's rmse: 0.903847\n",
      "[259]\tvalid_0's rmse: 0.903857\n",
      "[260]\tvalid_0's rmse: 0.903804\n",
      "[261]\tvalid_0's rmse: 0.903788\n",
      "[262]\tvalid_0's rmse: 0.90378\n",
      "[263]\tvalid_0's rmse: 0.903756\n",
      "[264]\tvalid_0's rmse: 0.903831\n",
      "[265]\tvalid_0's rmse: 0.90378\n",
      "[266]\tvalid_0's rmse: 0.90374\n",
      "[267]\tvalid_0's rmse: 0.903765\n",
      "[268]\tvalid_0's rmse: 0.903737\n"
     ]
    },
    {
     "name": "stdout",
     "output_type": "stream",
     "text": [
      "[269]\tvalid_0's rmse: 0.903695\n",
      "[270]\tvalid_0's rmse: 0.90375\n",
      "[271]\tvalid_0's rmse: 0.903845\n",
      "[272]\tvalid_0's rmse: 0.903836\n",
      "[273]\tvalid_0's rmse: 0.903973\n",
      "[274]\tvalid_0's rmse: 0.90396\n",
      "[275]\tvalid_0's rmse: 0.903977\n",
      "[276]\tvalid_0's rmse: 0.903994\n",
      "[277]\tvalid_0's rmse: 0.903974\n",
      "[278]\tvalid_0's rmse: 0.903991\n",
      "[279]\tvalid_0's rmse: 0.903947\n",
      "[280]\tvalid_0's rmse: 0.903911\n",
      "[281]\tvalid_0's rmse: 0.903873\n",
      "[282]\tvalid_0's rmse: 0.903718\n",
      "[283]\tvalid_0's rmse: 0.903755\n",
      "[284]\tvalid_0's rmse: 0.903832\n",
      "Early stopping, best iteration is:\n",
      "[269]\tvalid_0's rmse: 0.903695\n"
     ]
    }
   ],
   "source": [
    "lgb_params = {\n",
    "               'feature_fraction': 0.75,\n",
    "               'metric': 'rmse',\n",
    "               'nthread':-1, \n",
    "               'min_data_in_leaf': 2**7, \n",
    "               'bagging_fraction': 0.75, \n",
    "               'learning_rate': 0.03, \n",
    "               'objective': 'mse', \n",
    "               'bagging_seed': 2**7, \n",
    "               'num_leaves': 2**7,\n",
    "               'bagging_freq':1,\n",
    "               'verbose':1,\n",
    "               'lambda_l1': 0.001,\n",
    "               'lambda_l2': 0.001\n",
    "              }\n",
    "\n",
    "model = lgb.train(lgb_params, \n",
    "                  lgb.Dataset(X_train,label=y_train), \n",
    "                  300 , #categorical_feature=cat_features, \n",
    "                  valid_sets=lgb.Dataset(X_valid,label=y_valid), verbose_eval=True,\n",
    "                 early_stopping_rounds=15)"
   ]
  },
  {
   "cell_type": "code",
   "execution_count": 28,
   "metadata": {},
   "outputs": [
    {
     "data": {
      "text/plain": [
       "<matplotlib.axes._subplots.AxesSubplot at 0x26f12f14ac8>"
      ]
     },
     "execution_count": 28,
     "metadata": {},
     "output_type": "execute_result"
    },
    {
     "data": {
      "image/png": "[encoded data removed]",
      "text/plain": [
       "<Figure size 1080x792 with 1 Axes>"
      ]
     },
     "metadata": {
      "needs_background": "light"
     },
     "output_type": "display_data"
    }
   ],
   "source": [
    "lgb.plot_importance(model, figsize=(15,11))"
   ]
  },
  {
   "cell_type": "code",
   "execution_count": 29,
   "metadata": {},
   "outputs": [],
   "source": [
    "pred_lgb = model.predict(X_test).clip(0,20)\n",
    "pred_lgb_valid = model.predict(X_valid).clip(0,20)"
   ]
  },
  {
   "cell_type": "code",
   "execution_count": 30,
   "metadata": {},
   "outputs": [
    {
     "data": {
      "text/plain": [
       "(20.0, 20.0)"
      ]
     },
     "execution_count": 30,
     "metadata": {},
     "output_type": "execute_result"
    }
   ],
   "source": [
    "pred_lgb_valid.max(), pred_lgb.max()"
   ]
  },
  {
   "cell_type": "code",
   "execution_count": 32,
   "metadata": {},
   "outputs": [],
   "source": [
    "df_test['item_cnt_month'] = pred_lgb\n",
    "df_submission= df_test[['ID','item_cnt_month']]\n",
    "df_submission.to_csv('29jul2020_lgb_all_feat_18.csv', index=False)\n",
    "#sales_util.save_submission('25jul2020_edx_lgb_2',df_submission)"
   ]
  },
  {
   "cell_type": "code",
   "execution_count": 31,
   "metadata": {},
   "outputs": [
    {
     "data": {
      "text/plain": [
       "<matplotlib.legend.Legend at 0x26f132fb648>"
      ]
     },
     "execution_count": 31,
     "metadata": {},
     "output_type": "execute_result"
    },
    {
     "data": {
      "image/png": "[encoded data removed]",
      "text/plain": [
       "<Figure size 1080x360 with 1 Axes>"
      ]
     },
     "metadata": {
      "needs_background": "light"
     },
     "output_type": "display_data"
    }
   ],
   "source": [
    "ytarget = y_valid[10:250]\n",
    "ypred = pred_lgb_valid[10:250]\n",
    "fig, ax = plt.subplots(figsize=(15,5))\n",
    "ax.plot(ytarget, label='target')\n",
    "ax.plot(ypred, label='pred')\n",
    "ax.legend(loc='upper right')"
   ]
  },
  {
   "cell_type": "code",
   "execution_count": null,
   "metadata": {},
   "outputs": [],
   "source": [
    "from sklearn.metrics import r2_score\n",
    "from sklearn.metrics import mean_squared_error"
   ]
  },
  {
   "cell_type": "markdown",
   "metadata": {},
   "source": [
    "# Averaging"
   ]
  },
  {
   "cell_type": "code",
   "execution_count": 34,
   "metadata": {},
   "outputs": [],
   "source": [
    "df_submission_17 = pd.read_csv('29jul2020_lgb_all_feat_17.csv')"
   ]
  },
  {
   "cell_type": "code",
   "execution_count": 36,
   "metadata": {},
   "outputs": [],
   "source": [
    "df_submission_17.rename(columns={'item_cnt_month':'item_cnt_month_17'}, inplace=True)\n",
    "df_submission.rename(columns={'item_cnt_month':'item_cnt_month_18'}, inplace=True)\n",
    "df_avg = df_submission.merge(df_submission_17, how='inner')"
   ]
  },
  {
   "cell_type": "code",
   "execution_count": 37,
   "metadata": {},
   "outputs": [
    {
     "data": {
      "text/html": [
       "<div>\n",
       "<style scoped>\n",
       "    .dataframe tbody tr th:only-of-type {\n",
       "        vertical-align: middle;\n",
       "    }\n",
       "\n",
       "    .dataframe tbody tr th {\n",
       "        vertical-align: top;\n",
       "    }\n",
       "\n",
       "    .dataframe thead th {\n",
       "        text-align: right;\n",
       "    }\n",
       "</style>\n",
       "<table border=\"1\" class=\"dataframe\">\n",
       "  <thead>\n",
       "    <tr style=\"text-align: right;\">\n",
       "      <th></th>\n",
       "      <th>ID</th>\n",
       "      <th>item_cnt_month_18</th>\n",
       "      <th>item_cnt_month_17</th>\n",
       "    </tr>\n",
       "  </thead>\n",
       "  <tbody>\n",
       "    <tr>\n",
       "      <th>0</th>\n",
       "      <td>0</td>\n",
       "      <td>0.345730</td>\n",
       "      <td>0.374155</td>\n",
       "    </tr>\n",
       "    <tr>\n",
       "      <th>1</th>\n",
       "      <td>1</td>\n",
       "      <td>0.166516</td>\n",
       "      <td>0.228877</td>\n",
       "    </tr>\n",
       "    <tr>\n",
       "      <th>2</th>\n",
       "      <td>2</td>\n",
       "      <td>0.614248</td>\n",
       "      <td>0.609159</td>\n",
       "    </tr>\n",
       "    <tr>\n",
       "      <th>3</th>\n",
       "      <td>3</td>\n",
       "      <td>0.253090</td>\n",
       "      <td>0.277104</td>\n",
       "    </tr>\n",
       "    <tr>\n",
       "      <th>4</th>\n",
       "      <td>4</td>\n",
       "      <td>1.936822</td>\n",
       "      <td>1.824504</td>\n",
       "    </tr>\n",
       "  </tbody>\n",
       "</table>\n",
       "</div>"
      ],
      "text/plain": [
       "   ID  item_cnt_month_18  item_cnt_month_17\n",
       "0   0           0.345730           0.374155\n",
       "1   1           0.166516           0.228877\n",
       "2   2           0.614248           0.609159\n",
       "3   3           0.253090           0.277104\n",
       "4   4           1.936822           1.824504"
      ]
     },
     "execution_count": 37,
     "metadata": {},
     "output_type": "execute_result"
    }
   ],
   "source": [
    "df_avg.head()"
   ]
  },
  {
   "cell_type": "code",
   "execution_count": 38,
   "metadata": {},
   "outputs": [],
   "source": [
    "df_avg['item_cnt_month'] = (df_avg['item_cnt_month_18'] + df_avg['item_cnt_month_17'])/2\n",
    "df_avg.drop(['item_cnt_month_17','item_cnt_month_18'], axis=1, inplace=True)"
   ]
  },
  {
   "cell_type": "code",
   "execution_count": 39,
   "metadata": {},
   "outputs": [
    {
     "data": {
      "text/plain": [
       "<matplotlib.legend.Legend at 0x26e652fdac8>"
      ]
     },
     "execution_count": 39,
     "metadata": {},
     "output_type": "execute_result"
    },
    {
     "data": {
      "image/png": "[encoded data removed]",
      "text/plain": [
       "<Figure size 1080x360 with 1 Axes>"
      ]
     },
     "metadata": {
      "needs_background": "light"
     },
     "output_type": "display_data"
    }
   ],
   "source": [
    "ytarget = y_valid[10:250]\n",
    "ypred = df_avg.iloc[10:250]['item_cnt_month']\n",
    "fig, ax = plt.subplots(figsize=(15,5))\n",
    "ax.plot(ytarget, label='target')\n",
    "ax.plot(ypred, label='pred')\n",
    "ax.legend(loc='upper right')"
   ]
  },
  {
   "cell_type": "code",
   "execution_count": 41,
   "metadata": {},
   "outputs": [],
   "source": [
    "df_avg.to_csv('29jul2020_lgb_all_feat_17_18_avg.csv', index=False)"
   ]
  },
  {
   "cell_type": "code",
   "execution_count": null,
   "metadata": {},
   "outputs": [],
   "source": []
  }
 ],
 "metadata": {
  "kernelspec": {
   "display_name": "Python 3",
   "language": "python",
   "name": "python3"
  },
  "language_info": {
   "codemirror_mode": {
    "name": "ipython",
    "version": 3
   },
   "file_extension": ".py",
   "mimetype": "text/x-python",
   "name": "python",
   "nbconvert_exporter": "python",
   "pygments_lexer": "ipython3",
   "version": "3.7.6"
  }
 },
 "nbformat": 4,
 "nbformat_minor": 4
}
