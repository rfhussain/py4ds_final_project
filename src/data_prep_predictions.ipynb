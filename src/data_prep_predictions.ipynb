{
 "cells": [
  {
   "cell_type": "code",
   "execution_count": 123,
   "metadata": {},
   "outputs": [],
   "source": [
    "import lightgbm as lgb\n",
    "import numpy as np\n",
    "import pandas as pd\n",
    "import utils\n",
    "\n",
    "import matplotlib.pyplot as plt\n",
    "\n",
    "import os\n",
    "import warnings\n",
    "warnings.filterwarnings(\"ignore\")\n",
    "\n",
    "working_folder = '../working/'\n",
    "data_folder = '../data/'\n",
    "sales_util = utils.SalesUtils('../submissions')"
   ]
  },
  {
   "cell_type": "code",
   "execution_count": 124,
   "metadata": {},
   "outputs": [],
   "source": [
    "dfmain  = pd.read_csv(os.path.join(working_folder, 'df_main_with_test.csv'))\n",
    "df_test  = pd.read_csv(os.path.join(data_folder, 'test.csv'))"
   ]
  },
  {
   "cell_type": "code",
   "execution_count": 125,
   "metadata": {},
   "outputs": [
    {
     "name": "stdout",
     "output_type": "stream",
     "text": [
      "Test `date_block_num` is 34\n"
     ]
    }
   ],
   "source": [
    "dates = dfmain['date_block_num']\n",
    "\n",
    "#define the index cols\n",
    "index_cols = ['shop_id', 'item_id', 'date_block_num']\n",
    "\n",
    "last_block = dates.max()\n",
    "print('Test `date_block_num` is %d' % last_block)"
   ]
  },
  {
   "cell_type": "code",
   "execution_count": 274,
   "metadata": {},
   "outputs": [],
   "source": [
    "# List of all lagged features\n",
    "index_cols = ['shop_id', 'item_id', 'date_block_num']\n",
    "shift_range = [1,2,3,12]\n",
    "mean_enc_cols = [col for col in dfmain.columns if 'mean' in str(col)]\n",
    "fit_cols = [col for col in dfmain.columns if col[-1] in [str(item) for item in shift_range]] \n",
    "fit_cols = fit_cols + mean_enc_cols + ['city_id','item_category_id','num_days'] #'num_sun'\n",
    "# We will drop these at fitting stage\n",
    "to_drop_cols = list(set(list(dfmain.columns)) - (set(fit_cols)|set(index_cols)))  \n",
    "to_drop_cols = to_drop_cols + ['item_id_db_mean_target','revenue_lag_3','revenue_lag_2','revenue_shop_lag_2',\n",
    "                               'revenue_shop_lag_3','revenue_item_lag_2','revenue_item_lag_3',\n",
    "                              'revenue_lag_12', 'revenue_item_lag_12','revenue_shop_lag_12',\n",
    "                              'city_id',\n",
    "                              'revenue_item_lag_1','revenue_shop_lag_1','shop_id_exp_y_mean','city_db_mean_target',\n",
    "                              'shop_id_db_mean_target','date_block_num','shop_item_db_mean',\n",
    "                              'item_id_exp_y_mean','item_cat_db_mean_target'] \n",
    "#,'db_target_mean','parent_cat_db_mean_target','item_category_id'"
   ]
  },
  {
   "cell_type": "markdown",
   "metadata": {},
   "source": [
    "# Best Combination so far....\n",
    "\n",
    "['shop_id', 'item_id', 'item_category_id', 'name_2', 'name_3',\n",
    "       'num_days', 'revenue_lag_1', 'target_lag_1', 'target_item_lag_1',\n",
    "       'target_shop_lag_1', 'target_lag_2', 'target_item_lag_2',\n",
    "       'target_shop_lag_2', 'target_lag_3', 'target_item_lag_3',\n",
    "       'target_shop_lag_3', 'target_lag_12', 'target_item_lag_12',\n",
    "       'target_shop_lag_12', 'month_mean_target', 'parent_cat_db_mean_target',\n",
    "       'shop_city_mean', 'db_target_mean'] \n",
    "       \n",
    "Score...: 0.939209 and 0.943882.   10/10     \n",
    "\n",
    "\n",
    "lgb_params = {\n",
    "               'feature_fraction': 0.5,\n",
    "               'metric': 'rmse',\n",
    "               'nthread':-1, \n",
    "               'min_data_in_leaf': 71, \n",
    "               'bagging_fraction': 0.5, \n",
    "               'learning_rate': 0.03, \n",
    "               'objective': 'mse', \n",
    "               'bagging_seed': 2**7, \n",
    "               'num_leaves': 71,\n",
    "               'bagging_freq':1,\n",
    "               'verbose':1,\n",
    "               'lambda_l1': 0.001,\n",
    "               'lambda_l2': 0.001,\n",
    "               'extra_trees': True,\n",
    "               'max_bin': 22\n",
    "              }\n",
    "\n",
    "model = lgb.train(lgb_params, \n",
    "                  lgb.Dataset(X_train,label=y_train), \n",
    "                  300 , #categorical_feature=cat_features, \n",
    "                  valid_sets=lgb.Dataset(X_valid,label=y_valid), verbose_eval=True,\n",
    "                 early_stopping_rounds=15)"
   ]
  },
  {
   "cell_type": "code",
   "execution_count": 247,
   "metadata": {},
   "outputs": [
    {
     "data": {
      "text/plain": [
       "Index(['shop_id', 'item_id', 'item_category_id', 'name_2', 'name_3',\n",
       "       'num_days', 'revenue_lag_1', 'target_lag_1', 'target_item_lag_1',\n",
       "       'target_shop_lag_1', 'target_lag_2', 'target_item_lag_2',\n",
       "       'target_shop_lag_2', 'target_lag_3', 'target_item_lag_3',\n",
       "       'target_shop_lag_3', 'target_lag_12', 'target_item_lag_12',\n",
       "       'target_shop_lag_12', 'month_mean_target', 'parent_cat_db_mean_target',\n",
       "       'shop_city_mean', 'db_target_mean'],\n",
       "      dtype='object')"
      ]
     },
     "execution_count": 247,
     "metadata": {},
     "output_type": "execute_result"
    }
   ],
   "source": [
    "X_train.columns"
   ]
  },
  {
   "cell_type": "code",
   "execution_count": 177,
   "metadata": {},
   "outputs": [
    {
     "name": "stdout",
     "output_type": "stream",
     "text": [
      "<class 'pandas.core.frame.DataFrame'>\n",
      "RangeIndex: 8272050 entries, 0 to 8272049\n",
      "Data columns (total 53 columns):\n",
      " #   Column                     Dtype  \n",
      "---  ------                     -----  \n",
      " 0   shop_id                    int8   \n",
      " 1   item_id                    int16  \n",
      " 2   date_block_num             int8   \n",
      " 3   month                      int8   \n",
      " 4   target                     float16\n",
      " 5   revenue                    float32\n",
      " 6   target_shop                float16\n",
      " 7   revenue_shop               float32\n",
      " 8   target_item                float16\n",
      " 9   revenue_item               float32\n",
      " 10  item_category_id           int8   \n",
      " 11  name_2                     int16  \n",
      " 12  name_3                     int16  \n",
      " 13  parent_cat_id              int8   \n",
      " 14  city_id                    int8   \n",
      " 15  num_sat                    int8   \n",
      " 16  num_sun                    int8   \n",
      " 17  num_days                   int8   \n",
      " 18  revenue_lag_1              float32\n",
      " 19  revenue_item_lag_1         float32\n",
      " 20  revenue_shop_lag_1         float32\n",
      " 21  target_lag_1               float16\n",
      " 22  target_item_lag_1          float16\n",
      " 23  target_shop_lag_1          float16\n",
      " 24  revenue_lag_2              float32\n",
      " 25  revenue_item_lag_2         float32\n",
      " 26  revenue_shop_lag_2         float32\n",
      " 27  target_lag_2               float16\n",
      " 28  target_item_lag_2          float16\n",
      " 29  target_shop_lag_2          float16\n",
      " 30  revenue_lag_3              float32\n",
      " 31  revenue_item_lag_3         float32\n",
      " 32  revenue_shop_lag_3         float32\n",
      " 33  target_lag_3               float16\n",
      " 34  target_item_lag_3          float16\n",
      " 35  target_shop_lag_3          float16\n",
      " 36  revenue_lag_12             float32\n",
      " 37  revenue_item_lag_12        float32\n",
      " 38  revenue_shop_lag_12        float32\n",
      " 39  target_lag_12              float16\n",
      " 40  target_item_lag_12         float16\n",
      " 41  target_shop_lag_12         float16\n",
      " 42  shop_id_exp_y_mean         float16\n",
      " 43  item_id_exp_y_mean         float16\n",
      " 44  shop_item_db_mean          float16\n",
      " 45  item_id_db_mean_target     float16\n",
      " 46  month_mean_target          float16\n",
      " 47  parent_cat_db_mean_target  float16\n",
      " 48  item_cat_db_mean_target    float16\n",
      " 49  shop_id_db_mean_target     float16\n",
      " 50  city_db_mean_target        float16\n",
      " 51  shop_city_mean             float16\n",
      " 52  db_target_mean             float16\n",
      "dtypes: float16(26), float32(15), int16(3), int8(9)\n",
      "memory usage: 1001.9 MB\n"
     ]
    }
   ],
   "source": [
    "dfmain.info()"
   ]
  },
  {
   "cell_type": "code",
   "execution_count": 128,
   "metadata": {},
   "outputs": [],
   "source": [
    "def down_cast_dataframe(df_matrix):\n",
    "    df_matrix['date_block_num'] = df_matrix['date_block_num'].astype('int8')\n",
    "    df_matrix['shop_id'] = df_matrix['shop_id'].astype('int8')\n",
    "    df_matrix['item_id'] = df_matrix['item_id'].astype('int16')\n",
    "    df_matrix['target'] = df_matrix['target'].astype('float16')\n",
    "    df_matrix['target_shop'] = df_matrix['target_shop'].astype('float16')\n",
    "    df_matrix['target_item'] = df_matrix['target_item'].astype('float16')\n",
    "    df_matrix['month'] = df_matrix['month'].astype('int8')\n",
    "    df_matrix['item_category_id'] = df_matrix['item_category_id'].astype('int8')\n",
    "    df_matrix['parent_cat_id'] = df_matrix['parent_cat_id'].astype('int8')\n",
    "    df_matrix['city_id'] = df_matrix['city_id'].astype('int8')\n",
    "    df_matrix['num_days'] = df_matrix['num_days'].astype('int8')\n",
    "    df_matrix['num_sun'] = df_matrix['num_sun'].astype('int8')\n",
    "    df_matrix['num_sat'] = df_matrix['num_sat'].astype('int8')\n",
    "    df_matrix['name_2'] = df_matrix['name_2'].astype('int16')\n",
    "    df_matrix['name_3'] = df_matrix['name_3'].astype('int16')\n",
    "\n",
    "    # getting the mean attributes\n",
    "    mean_enc_cols = [col for col in df_matrix.columns if 'mean' in str(col)]\n",
    "    for col in mean_enc_cols:\n",
    "        df_matrix[col] = df_matrix[col].astype('float16')\n",
    "\n",
    "    # getting the mean attributes\n",
    "    revenue_cols = [col for col in df_matrix.columns if 'revenue' in str(col)]\n",
    "    for col in revenue_cols:\n",
    "        df_matrix[col] = df_matrix[col].astype('float32')\n",
    "    \n",
    "\n",
    "    # getting the lag cols\n",
    "    target_cols = [col for col in df_matrix.columns if 'target' in str(col)]\n",
    "    for col in target_cols:\n",
    "        df_matrix[col] = df_matrix[col].astype('float16')\n",
    "    \n",
    "    \n",
    "    return df_matrix"
   ]
  },
  {
   "cell_type": "code",
   "execution_count": 129,
   "metadata": {},
   "outputs": [],
   "source": [
    "dfmain = down_cast_dataframe(dfmain)"
   ]
  },
  {
   "cell_type": "code",
   "execution_count": 130,
   "metadata": {},
   "outputs": [
    {
     "name": "stdout",
     "output_type": "stream",
     "text": [
      "<class 'pandas.core.frame.DataFrame'>\n",
      "RangeIndex: 8272050 entries, 0 to 8272049\n",
      "Data columns (total 53 columns):\n",
      " #   Column                     Dtype  \n",
      "---  ------                     -----  \n",
      " 0   shop_id                    int8   \n",
      " 1   item_id                    int16  \n",
      " 2   date_block_num             int8   \n",
      " 3   month                      int8   \n",
      " 4   target                     float16\n",
      " 5   revenue                    float32\n",
      " 6   target_shop                float16\n",
      " 7   revenue_shop               float32\n",
      " 8   target_item                float16\n",
      " 9   revenue_item               float32\n",
      " 10  item_category_id           int8   \n",
      " 11  name_2                     int16  \n",
      " 12  name_3                     int16  \n",
      " 13  parent_cat_id              int8   \n",
      " 14  city_id                    int8   \n",
      " 15  num_sat                    int8   \n",
      " 16  num_sun                    int8   \n",
      " 17  num_days                   int8   \n",
      " 18  revenue_lag_1              float32\n",
      " 19  revenue_item_lag_1         float32\n",
      " 20  revenue_shop_lag_1         float32\n",
      " 21  target_lag_1               float16\n",
      " 22  target_item_lag_1          float16\n",
      " 23  target_shop_lag_1          float16\n",
      " 24  revenue_lag_2              float32\n",
      " 25  revenue_item_lag_2         float32\n",
      " 26  revenue_shop_lag_2         float32\n",
      " 27  target_lag_2               float16\n",
      " 28  target_item_lag_2          float16\n",
      " 29  target_shop_lag_2          float16\n",
      " 30  revenue_lag_3              float32\n",
      " 31  revenue_item_lag_3         float32\n",
      " 32  revenue_shop_lag_3         float32\n",
      " 33  target_lag_3               float16\n",
      " 34  target_item_lag_3          float16\n",
      " 35  target_shop_lag_3          float16\n",
      " 36  revenue_lag_12             float32\n",
      " 37  revenue_item_lag_12        float32\n",
      " 38  revenue_shop_lag_12        float32\n",
      " 39  target_lag_12              float16\n",
      " 40  target_item_lag_12         float16\n",
      " 41  target_shop_lag_12         float16\n",
      " 42  shop_id_exp_y_mean         float16\n",
      " 43  item_id_exp_y_mean         float16\n",
      " 44  shop_item_db_mean          float16\n",
      " 45  item_id_db_mean_target     float16\n",
      " 46  month_mean_target          float16\n",
      " 47  parent_cat_db_mean_target  float16\n",
      " 48  item_cat_db_mean_target    float16\n",
      " 49  shop_id_db_mean_target     float16\n",
      " 50  city_db_mean_target        float16\n",
      " 51  shop_city_mean             float16\n",
      " 52  db_target_mean             float16\n",
      "dtypes: float16(26), float32(15), int16(3), int8(9)\n",
      "memory usage: 1001.9 MB\n"
     ]
    }
   ],
   "source": [
    "dfmain.info()"
   ]
  },
  {
   "cell_type": "code",
   "execution_count": 275,
   "metadata": {},
   "outputs": [],
   "source": [
    "#split\n",
    "dates_train = dates[dates <  last_block]\n",
    "dates_test  = dates[dates == last_block]\n",
    "\n",
    "X_train = dfmain.loc[dates <  last_block-1].drop(to_drop_cols, axis=1)\n",
    "X_test =  dfmain.loc[dates == last_block].drop(to_drop_cols, axis=1)\n",
    "X_valid = dfmain.loc[dates == last_block-1].drop(to_drop_cols, axis=1)\n",
    "\n",
    "y_train = dfmain.loc[dates <  last_block-1, 'target'].values\n",
    "y_test =  dfmain.loc[dates == last_block, 'target'].values\n",
    "y_valid =  dfmain.loc[dates == last_block-1, 'target'].values\n",
    "\n",
    "y_train = y_train.clip(0,20)\n",
    "y_valid = y_valid.clip(0,20)\n",
    "\n",
    "X_train_all = dfmain.loc[dates <  last_block].drop(to_drop_cols, axis=1)\n",
    "y_train_all = dfmain.loc[dates <  last_block, 'target'].values"
   ]
  },
  {
   "cell_type": "code",
   "execution_count": 276,
   "metadata": {},
   "outputs": [
    {
     "data": {
      "text/plain": [
       "Index(['shop_id', 'item_id', 'item_category_id', 'name_2', 'name_3',\n",
       "       'num_days', 'revenue_lag_1', 'target_lag_1', 'target_item_lag_1',\n",
       "       'target_shop_lag_1', 'target_lag_2', 'target_item_lag_2',\n",
       "       'target_shop_lag_2', 'target_lag_3', 'target_item_lag_3',\n",
       "       'target_shop_lag_3', 'month_mean_target', 'parent_cat_db_mean_target',\n",
       "       'shop_city_mean', 'db_target_mean'],\n",
       "      dtype='object')"
      ]
     },
     "execution_count": 276,
     "metadata": {},
     "output_type": "execute_result"
    }
   ],
   "source": [
    "X_train.columns"
   ]
  },
  {
   "cell_type": "code",
   "execution_count": 239,
   "metadata": {},
   "outputs": [
    {
     "data": {
      "text/plain": [
       "23"
      ]
     },
     "execution_count": 239,
     "metadata": {},
     "output_type": "execute_result"
    }
   ],
   "source": [
    "len(X_train.columns)"
   ]
  },
  {
   "cell_type": "code",
   "execution_count": 111,
   "metadata": {},
   "outputs": [
    {
     "data": {
      "text/plain": [
       "128"
      ]
     },
     "execution_count": 111,
     "metadata": {},
     "output_type": "execute_result"
    }
   ],
   "source": [
    "2**7"
   ]
  },
  {
   "cell_type": "code",
   "execution_count": 277,
   "metadata": {
    "scrolled": false
   },
   "outputs": [
    {
     "name": "stdout",
     "output_type": "stream",
     "text": [
      "[1]\tvalid_0's rmse: 1.12729\n",
      "Training until validation scores don't improve for 15 rounds\n",
      "[2]\tvalid_0's rmse: 1.11699\n",
      "[3]\tvalid_0's rmse: 1.10706\n",
      "[4]\tvalid_0's rmse: 1.09724\n",
      "[5]\tvalid_0's rmse: 1.08757\n",
      "[6]\tvalid_0's rmse: 1.08003\n",
      "[7]\tvalid_0's rmse: 1.07247\n",
      "[8]\tvalid_0's rmse: 1.06554\n",
      "[9]\tvalid_0's rmse: 1.05852\n",
      "[10]\tvalid_0's rmse: 1.05108\n",
      "[11]\tvalid_0's rmse: 1.04431\n",
      "[12]\tvalid_0's rmse: 1.03867\n",
      "[13]\tvalid_0's rmse: 1.03291\n",
      "[14]\tvalid_0's rmse: 1.02688\n",
      "[15]\tvalid_0's rmse: 1.02124\n",
      "[16]\tvalid_0's rmse: 1.01595\n",
      "[17]\tvalid_0's rmse: 1.01165\n",
      "[18]\tvalid_0's rmse: 1.00658\n",
      "[19]\tvalid_0's rmse: 1.00246\n",
      "[20]\tvalid_0's rmse: 0.998809\n",
      "[21]\tvalid_0's rmse: 0.994368\n",
      "[22]\tvalid_0's rmse: 0.990421\n",
      "[23]\tvalid_0's rmse: 0.98702\n",
      "[24]\tvalid_0's rmse: 0.984077\n",
      "[25]\tvalid_0's rmse: 0.981436\n",
      "[26]\tvalid_0's rmse: 0.97832\n",
      "[27]\tvalid_0's rmse: 0.975019\n",
      "[28]\tvalid_0's rmse: 0.972417\n",
      "[29]\tvalid_0's rmse: 0.969463\n",
      "[30]\tvalid_0's rmse: 0.966699\n",
      "[31]\tvalid_0's rmse: 0.964175\n",
      "[32]\tvalid_0's rmse: 0.96207\n",
      "[33]\tvalid_0's rmse: 0.960064\n",
      "[34]\tvalid_0's rmse: 0.958238\n",
      "[35]\tvalid_0's rmse: 0.956114\n",
      "[36]\tvalid_0's rmse: 0.954347\n",
      "[37]\tvalid_0's rmse: 0.952853\n",
      "[38]\tvalid_0's rmse: 0.951414\n",
      "[39]\tvalid_0's rmse: 0.949912\n",
      "[40]\tvalid_0's rmse: 0.948467\n",
      "[41]\tvalid_0's rmse: 0.946803\n",
      "[42]\tvalid_0's rmse: 0.945123\n",
      "[43]\tvalid_0's rmse: 0.943547\n",
      "[44]\tvalid_0's rmse: 0.940971\n",
      "[45]\tvalid_0's rmse: 0.939896\n",
      "[46]\tvalid_0's rmse: 0.938778\n",
      "[47]\tvalid_0's rmse: 0.937677\n",
      "[48]\tvalid_0's rmse: 0.936739\n",
      "[49]\tvalid_0's rmse: 0.935955\n",
      "[50]\tvalid_0's rmse: 0.935104\n",
      "[51]\tvalid_0's rmse: 0.934203\n",
      "[52]\tvalid_0's rmse: 0.933528\n",
      "[53]\tvalid_0's rmse: 0.932648\n",
      "[54]\tvalid_0's rmse: 0.931823\n",
      "[55]\tvalid_0's rmse: 0.931219\n",
      "[56]\tvalid_0's rmse: 0.930575\n",
      "[57]\tvalid_0's rmse: 0.929771\n",
      "[58]\tvalid_0's rmse: 0.92937\n",
      "[59]\tvalid_0's rmse: 0.92907\n",
      "[60]\tvalid_0's rmse: 0.928517\n",
      "[61]\tvalid_0's rmse: 0.928027\n",
      "[62]\tvalid_0's rmse: 0.927612\n",
      "[63]\tvalid_0's rmse: 0.927134\n",
      "[64]\tvalid_0's rmse: 0.926489\n",
      "[65]\tvalid_0's rmse: 0.925728\n",
      "[66]\tvalid_0's rmse: 0.925334\n",
      "[67]\tvalid_0's rmse: 0.924826\n",
      "[68]\tvalid_0's rmse: 0.924387\n",
      "[69]\tvalid_0's rmse: 0.924083\n",
      "[70]\tvalid_0's rmse: 0.923819\n",
      "[71]\tvalid_0's rmse: 0.923539\n",
      "[72]\tvalid_0's rmse: 0.923297\n",
      "[73]\tvalid_0's rmse: 0.922936\n",
      "[74]\tvalid_0's rmse: 0.922662\n",
      "[75]\tvalid_0's rmse: 0.922489\n",
      "[76]\tvalid_0's rmse: 0.922234\n",
      "[77]\tvalid_0's rmse: 0.921794\n",
      "[78]\tvalid_0's rmse: 0.921509\n",
      "[79]\tvalid_0's rmse: 0.921352\n",
      "[80]\tvalid_0's rmse: 0.921131\n",
      "[81]\tvalid_0's rmse: 0.920905\n",
      "[82]\tvalid_0's rmse: 0.920727\n",
      "[83]\tvalid_0's rmse: 0.920339\n",
      "[84]\tvalid_0's rmse: 0.92013\n",
      "[85]\tvalid_0's rmse: 0.920012\n",
      "[86]\tvalid_0's rmse: 0.919813\n",
      "[87]\tvalid_0's rmse: 0.919458\n",
      "[88]\tvalid_0's rmse: 0.919395\n",
      "[89]\tvalid_0's rmse: 0.91929\n",
      "[90]\tvalid_0's rmse: 0.919003\n",
      "[91]\tvalid_0's rmse: 0.918818\n",
      "[92]\tvalid_0's rmse: 0.91868\n",
      "[93]\tvalid_0's rmse: 0.91834\n",
      "[94]\tvalid_0's rmse: 0.917982\n",
      "[95]\tvalid_0's rmse: 0.917846\n",
      "[96]\tvalid_0's rmse: 0.917657\n",
      "[97]\tvalid_0's rmse: 0.917585\n",
      "[98]\tvalid_0's rmse: 0.917342\n",
      "[99]\tvalid_0's rmse: 0.917243\n",
      "[100]\tvalid_0's rmse: 0.917135\n",
      "[101]\tvalid_0's rmse: 0.917031\n",
      "[102]\tvalid_0's rmse: 0.916704\n",
      "[103]\tvalid_0's rmse: 0.916486\n",
      "[104]\tvalid_0's rmse: 0.916396\n",
      "[105]\tvalid_0's rmse: 0.916362\n",
      "[106]\tvalid_0's rmse: 0.916216\n",
      "[107]\tvalid_0's rmse: 0.91605\n",
      "[108]\tvalid_0's rmse: 0.916084\n",
      "[109]\tvalid_0's rmse: 0.915856\n",
      "[110]\tvalid_0's rmse: 0.915738\n",
      "[111]\tvalid_0's rmse: 0.915621\n",
      "[112]\tvalid_0's rmse: 0.915593\n",
      "[113]\tvalid_0's rmse: 0.915506\n",
      "[114]\tvalid_0's rmse: 0.915333\n",
      "[115]\tvalid_0's rmse: 0.915168\n",
      "[116]\tvalid_0's rmse: 0.915072\n",
      "[117]\tvalid_0's rmse: 0.914821\n",
      "[118]\tvalid_0's rmse: 0.914775\n",
      "[119]\tvalid_0's rmse: 0.914657\n",
      "[120]\tvalid_0's rmse: 0.914419\n",
      "[121]\tvalid_0's rmse: 0.914412\n",
      "[122]\tvalid_0's rmse: 0.914383\n",
      "[123]\tvalid_0's rmse: 0.914326\n",
      "[124]\tvalid_0's rmse: 0.91426\n",
      "[125]\tvalid_0's rmse: 0.914183\n",
      "[126]\tvalid_0's rmse: 0.914042\n",
      "[127]\tvalid_0's rmse: 0.913973\n",
      "[128]\tvalid_0's rmse: 0.913805\n",
      "[129]\tvalid_0's rmse: 0.913655\n",
      "[130]\tvalid_0's rmse: 0.913634\n",
      "[131]\tvalid_0's rmse: 0.913603\n",
      "[132]\tvalid_0's rmse: 0.913462\n",
      "[133]\tvalid_0's rmse: 0.91342\n",
      "[134]\tvalid_0's rmse: 0.913382\n",
      "[135]\tvalid_0's rmse: 0.913362\n",
      "[136]\tvalid_0's rmse: 0.913452\n",
      "[137]\tvalid_0's rmse: 0.913481\n",
      "[138]\tvalid_0's rmse: 0.913356\n",
      "[139]\tvalid_0's rmse: 0.913278\n",
      "[140]\tvalid_0's rmse: 0.913224\n",
      "[141]\tvalid_0's rmse: 0.913297\n",
      "[142]\tvalid_0's rmse: 0.913189\n",
      "[143]\tvalid_0's rmse: 0.913112\n",
      "[144]\tvalid_0's rmse: 0.913039\n",
      "[145]\tvalid_0's rmse: 0.913016\n",
      "[146]\tvalid_0's rmse: 0.912922\n",
      "[147]\tvalid_0's rmse: 0.912842\n",
      "[148]\tvalid_0's rmse: 0.912786\n",
      "[149]\tvalid_0's rmse: 0.912696\n",
      "[150]\tvalid_0's rmse: 0.912673\n",
      "[151]\tvalid_0's rmse: 0.912613\n",
      "[152]\tvalid_0's rmse: 0.912728\n",
      "[153]\tvalid_0's rmse: 0.912545\n",
      "[154]\tvalid_0's rmse: 0.912572\n",
      "[155]\tvalid_0's rmse: 0.912601\n",
      "[156]\tvalid_0's rmse: 0.912577\n",
      "[157]\tvalid_0's rmse: 0.912538\n",
      "[158]\tvalid_0's rmse: 0.912519\n",
      "[159]\tvalid_0's rmse: 0.912513\n",
      "[160]\tvalid_0's rmse: 0.912495\n",
      "[161]\tvalid_0's rmse: 0.912487\n",
      "[162]\tvalid_0's rmse: 0.912482\n",
      "[163]\tvalid_0's rmse: 0.912327\n",
      "[164]\tvalid_0's rmse: 0.912274\n",
      "[165]\tvalid_0's rmse: 0.912044\n",
      "[166]\tvalid_0's rmse: 0.912007\n",
      "[167]\tvalid_0's rmse: 0.911883\n",
      "[168]\tvalid_0's rmse: 0.911864\n",
      "[169]\tvalid_0's rmse: 0.911941\n",
      "[170]\tvalid_0's rmse: 0.91198\n",
      "[171]\tvalid_0's rmse: 0.911972\n",
      "[172]\tvalid_0's rmse: 0.91193\n",
      "[173]\tvalid_0's rmse: 0.9119\n",
      "[174]\tvalid_0's rmse: 0.911771\n",
      "[175]\tvalid_0's rmse: 0.91174\n",
      "[176]\tvalid_0's rmse: 0.911523\n",
      "[177]\tvalid_0's rmse: 0.91156\n",
      "[178]\tvalid_0's rmse: 0.911536\n",
      "[179]\tvalid_0's rmse: 0.911537\n",
      "[180]\tvalid_0's rmse: 0.911696\n",
      "[181]\tvalid_0's rmse: 0.911761\n",
      "[182]\tvalid_0's rmse: 0.911759\n",
      "[183]\tvalid_0's rmse: 0.911815\n",
      "[184]\tvalid_0's rmse: 0.911604\n",
      "[185]\tvalid_0's rmse: 0.911535\n",
      "[186]\tvalid_0's rmse: 0.911508\n",
      "[187]\tvalid_0's rmse: 0.911502\n",
      "[188]\tvalid_0's rmse: 0.91149\n",
      "[189]\tvalid_0's rmse: 0.911405\n",
      "[190]\tvalid_0's rmse: 0.911352\n",
      "[191]\tvalid_0's rmse: 0.911387\n",
      "[192]\tvalid_0's rmse: 0.911497\n",
      "[193]\tvalid_0's rmse: 0.911477\n",
      "[194]\tvalid_0's rmse: 0.911386\n",
      "[195]\tvalid_0's rmse: 0.91155\n",
      "[196]\tvalid_0's rmse: 0.911669\n",
      "[197]\tvalid_0's rmse: 0.911654\n",
      "[198]\tvalid_0's rmse: 0.911653\n",
      "[199]\tvalid_0's rmse: 0.911619\n",
      "[200]\tvalid_0's rmse: 0.911621\n",
      "[201]\tvalid_0's rmse: 0.911612\n",
      "[202]\tvalid_0's rmse: 0.911647\n",
      "[203]\tvalid_0's rmse: 0.911667\n",
      "[204]\tvalid_0's rmse: 0.911719\n",
      "[205]\tvalid_0's rmse: 0.911685\n",
      "Early stopping, best iteration is:\n",
      "[190]\tvalid_0's rmse: 0.911352\n"
     ]
    }
   ],
   "source": [
    "lgb_params = {\n",
    "               'feature_fraction': 0.75,\n",
    "               'metric': 'rmse',\n",
    "               'nthread':-1, \n",
    "               'min_data_in_leaf': 2**7, \n",
    "               'bagging_fraction': 0.75, \n",
    "               'learning_rate': 0.03, \n",
    "               'objective': 'mse', \n",
    "               'bagging_seed': 2**7, \n",
    "               'num_leaves': 2**7,\n",
    "               'bagging_freq':1,\n",
    "               'verbose':1,\n",
    "               'lambda_l1': 0.001,\n",
    "               'lambda_l2': 0.001\n",
    "              }\n",
    "\n",
    "model = lgb.train(lgb_params, \n",
    "                  lgb.Dataset(X_train,label=y_train), \n",
    "                  300 , #categorical_feature=cat_features, \n",
    "                  valid_sets=lgb.Dataset(X_valid,label=y_valid), verbose_eval=True,\n",
    "                 early_stopping_rounds=15)"
   ]
  },
  {
   "cell_type": "code",
   "execution_count": 278,
   "metadata": {},
   "outputs": [
    {
     "data": {
      "text/plain": [
       "<matplotlib.axes._subplots.AxesSubplot at 0x207b19ece08>"
      ]
     },
     "execution_count": 278,
     "metadata": {},
     "output_type": "execute_result"
    },
    {
     "data": {
      "image/png": "[encoded data removed]",
      "text/plain": [
       "<Figure size 1080x792 with 1 Axes>"
      ]
     },
     "metadata": {
      "needs_background": "light"
     },
     "output_type": "display_data"
    }
   ],
   "source": [
    "lgb.plot_importance(model, figsize=(15,11))"
   ]
  },
  {
   "cell_type": "code",
   "execution_count": 279,
   "metadata": {},
   "outputs": [],
   "source": [
    "pred_lgb = model.predict(X_test).clip(0,20)\n",
    "pred_lgb_valid = model.predict(X_valid).clip(0,20)"
   ]
  },
  {
   "cell_type": "code",
   "execution_count": 280,
   "metadata": {},
   "outputs": [
    {
     "data": {
      "text/plain": [
       "(20.0, 20.0)"
      ]
     },
     "execution_count": 280,
     "metadata": {},
     "output_type": "execute_result"
    }
   ],
   "source": [
    "pred_lgb_valid.max(), pred_lgb.max()"
   ]
  },
  {
   "cell_type": "code",
   "execution_count": 281,
   "metadata": {},
   "outputs": [],
   "source": [
    "df_test['item_cnt_month'] = pred_lgb\n",
    "df_submission= df_test[['ID','item_cnt_month']]\n",
    "df_submission.to_csv('28jul2020_lgb_all_feat_16.csv', index=False)\n",
    "#sales_util.save_submission('25jul2020_edx_lgb_2',df_submission)"
   ]
  },
  {
   "cell_type": "code",
   "execution_count": 282,
   "metadata": {},
   "outputs": [
    {
     "data": {
      "text/plain": [
       "<matplotlib.legend.Legend at 0x207af30abc8>"
      ]
     },
     "execution_count": 282,
     "metadata": {},
     "output_type": "execute_result"
    },
    {
     "data": {
      "image/png": "[encoded data removed]",
      "text/plain": [
       "<Figure size 1080x360 with 1 Axes>"
      ]
     },
     "metadata": {
      "needs_background": "light"
     },
     "output_type": "display_data"
    }
   ],
   "source": [
    "ytarget = y_valid[10:250]\n",
    "ypred = pred_lgb_valid[10:250]\n",
    "fig, ax = plt.subplots(figsize=(15,5))\n",
    "ax.plot(ytarget, label='target')\n",
    "ax.plot(ypred, label='pred')\n",
    "ax.legend(loc='upper right')"
   ]
  },
  {
   "cell_type": "code",
   "execution_count": 50,
   "metadata": {},
   "outputs": [],
   "source": [
    "from sklearn.metrics import r2_score\n",
    "from sklearn.metrics import mean_squared_error"
   ]
  },
  {
   "cell_type": "code",
   "execution_count": null,
   "metadata": {},
   "outputs": [],
   "source": []
  }
 ],
 "metadata": {
  "kernelspec": {
   "display_name": "Python 3",
   "language": "python",
   "name": "python3"
  },
  "language_info": {
   "codemirror_mode": {
    "name": "ipython",
    "version": 3
   },
   "file_extension": ".py",
   "mimetype": "text/x-python",
   "name": "python",
   "nbconvert_exporter": "python",
   "pygments_lexer": "ipython3",
   "version": "3.7.6"
  }
 },
 "nbformat": 4,
 "nbformat_minor": 4
}
