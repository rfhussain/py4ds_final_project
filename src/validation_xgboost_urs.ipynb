{
 "cells": [
  {
   "cell_type": "code",
   "execution_count": 1,
   "metadata": {},
   "outputs": [
    {
     "data": {
      "text/plain": [
       "sys.version_info(major=3, minor=7, micro=6, releaselevel='final', serial=0)"
      ]
     },
     "execution_count": 1,
     "metadata": {},
     "output_type": "execute_result"
    }
   ],
   "source": [
    "import numpy as np\n",
    "import pandas as pd\n",
    "pd.set_option('display.max_rows', 500)\n",
    "pd.set_option('display.max_columns', 100)\n",
    "\n",
    "from itertools import product\n",
    "from sklearn.preprocessing import LabelEncoder\n",
    "\n",
    "import seaborn as sns\n",
    "import matplotlib.pyplot as plt\n",
    "%matplotlib inline\n",
    "\n",
    "from xgboost import XGBRegressor\n",
    "from xgboost import plot_importance\n",
    "\n",
    "def plot_features(booster, figsize):    \n",
    "    fig, ax = plt.subplots(1,1,figsize=figsize)\n",
    "    return plot_importance(booster=booster, ax=ax)\n",
    "\n",
    "import time\n",
    "import sys\n",
    "import gc\n",
    "import pickle\n",
    "sys.version_info"
   ]
  },
  {
   "cell_type": "code",
   "execution_count": 3,
   "metadata": {},
   "outputs": [],
   "source": [
    "items = pd.read_csv('../data/items.csv')\n",
    "shops = pd.read_csv('../data/shops.csv')\n",
    "cats = pd.read_csv('../data/item_categories.csv')\n",
    "train = pd.read_csv('../data/sales_train.csv')\n",
    "# set index to ID to avoid droping it later\n",
    "test  = pd.read_csv('../data/test.csv').set_index('ID')"
   ]
  },
  {
   "cell_type": "code",
   "execution_count": 4,
   "metadata": {},
   "outputs": [
    {
     "name": "stdout",
     "output_type": "stream",
     "text": [
      "2\n",
      "12\n",
      "2935837\n"
     ]
    },
    {
     "data": {
      "image/png": "[encoded data removed]",
      "text/plain": [
       "<Figure size 720x288 with 1 Axes>"
      ]
     },
     "metadata": {
      "needs_background": "light"
     },
     "output_type": "display_data"
    },
    {
     "data": {
      "image/png": "[encoded data removed]",
      "text/plain": [
       "<Figure size 720x288 with 1 Axes>"
      ]
     },
     "metadata": {
      "needs_background": "light"
     },
     "output_type": "display_data"
    }
   ],
   "source": [
    "plt.figure(figsize=(10,4))\n",
    "plt.xlim(-100, 3000)\n",
    "sns.boxplot(x=train.item_cnt_day)\n",
    "\n",
    "plt.figure(figsize=(10,4))\n",
    "plt.xlim(train.item_price.min(), train.item_price.max()*1.1)\n",
    "sns.boxplot(x=train.item_price)\n",
    "\n",
    "print(len(train[train.item_cnt_day>999]))\n",
    "print(len(train[train.item_cnt_day>500]))\n",
    "print(len(train[train.item_cnt_day<501]))\n",
    "\n",
    "train = train[train.item_price<100000]\n",
    "train = train[train.item_cnt_day<1000]"
   ]
  },
  {
   "cell_type": "code",
   "execution_count": 5,
   "metadata": {},
   "outputs": [
    {
     "data": {
      "text/plain": [
       "<matplotlib.axes._subplots.AxesSubplot at 0x2684e72c308>"
      ]
     },
     "execution_count": 5,
     "metadata": {},
     "output_type": "execute_result"
    },
    {
     "data": {
      "image/png": "[encoded data removed]",
      "text/plain": [
       "<Figure size 720x288 with 1 Axes>"
      ]
     },
     "metadata": {
      "needs_background": "light"
     },
     "output_type": "display_data"
    },
    {
     "data": {
      "image/png": "[encoded data removed]",
      "text/plain": [
       "<Figure size 720x288 with 1 Axes>"
      ]
     },
     "metadata": {
      "needs_background": "light"
     },
     "output_type": "display_data"
    }
   ],
   "source": [
    "plt.figure(figsize=(10,4))\n",
    "plt.xlim(-100, 1000)\n",
    "sns.boxplot(x=train.item_cnt_day)\n",
    "\n",
    "plt.figure(figsize=(10,4))\n",
    "plt.xlim(train.item_price.min(), train.item_price.max()*1.1)\n",
    "sns.boxplot(x=train.item_price)"
   ]
  },
  {
   "cell_type": "code",
   "execution_count": 6,
   "metadata": {},
   "outputs": [],
   "source": [
    "train = train[train.item_price > 0].reset_index(drop=True)\n",
    "train[train.item_cnt_day <= 0].item_cnt_day.unique()\n",
    "train.loc[train.item_cnt_day < 1, 'item_cnt_day'] = 0"
   ]
  },
  {
   "cell_type": "code",
   "execution_count": 7,
   "metadata": {},
   "outputs": [],
   "source": [
    "# Якутск Орджоникидзе, 56\n",
    "train.loc[train.shop_id == 0, 'shop_id'] = 57\n",
    "test.loc[test.shop_id == 0, 'shop_id'] = 57\n",
    "# Якутск ТЦ \"Центральный\"\n",
    "train.loc[train.shop_id == 1, 'shop_id'] = 58\n",
    "test.loc[test.shop_id == 1, 'shop_id'] = 58\n",
    "# Жуковский ул. Чкалова 39м²\n",
    "train.loc[train.shop_id == 11, 'shop_id'] = 10\n",
    "test.loc[test.shop_id == 11, 'shop_id'] = 10\n",
    "\n",
    "train.loc[train.shop_id == 40, 'shop_id'] = 39\n",
    "test.loc[test.shop_id == 40, 'shop_id'] = 39"
   ]
  },
  {
   "cell_type": "code",
   "execution_count": 8,
   "metadata": {},
   "outputs": [
    {
     "data": {
      "text/plain": [
       "array(['Орджоникидзе,', 'ТЦ', 'ТРК', 'ТРЦ', 'etc', 'ул.', 'Магазин', 'ТК',\n",
       "       'склад'], dtype=object)"
      ]
     },
     "execution_count": 8,
     "metadata": {},
     "output_type": "execute_result"
    }
   ],
   "source": [
    "shops.loc[shops.shop_name == 'Сергиев Посад ТЦ \"7Я\"', 'shop_name'] = 'СергиевПосад ТЦ \"7Я\"'\n",
    "\n",
    "shops['city'] = shops['shop_name'].str.split(' ').map(lambda x: x[0])\n",
    "shops['category'] = shops['shop_name'].str.split(' ').map(lambda x:x[1]).astype(str)\n",
    "\n",
    "shops.loc[shops.city == '!Якутск', 'city'] = 'Якутск'\n",
    "\n",
    "category = ['Орджоникидзе,', 'ТЦ', 'ТРК', 'ТРЦ','ул.', 'Магазин', 'ТК', 'склад']\n",
    "shops.category = shops.category.apply(lambda x: x if (x in category) else 'etc')\n",
    "shops.category.unique()"
   ]
  },
  {
   "cell_type": "code",
   "execution_count": 9,
   "metadata": {},
   "outputs": [
    {
     "data": {
      "text/html": [
       "<div>\n",
       "<style scoped>\n",
       "    .dataframe tbody tr th:only-of-type {\n",
       "        vertical-align: middle;\n",
       "    }\n",
       "\n",
       "    .dataframe tbody tr th {\n",
       "        vertical-align: top;\n",
       "    }\n",
       "\n",
       "    .dataframe thead th {\n",
       "        text-align: right;\n",
       "    }\n",
       "</style>\n",
       "<table border=\"1\" class=\"dataframe\">\n",
       "  <thead>\n",
       "    <tr style=\"text-align: right;\">\n",
       "      <th></th>\n",
       "      <th>shop_id</th>\n",
       "    </tr>\n",
       "    <tr>\n",
       "      <th>category</th>\n",
       "      <th></th>\n",
       "    </tr>\n",
       "  </thead>\n",
       "  <tbody>\n",
       "    <tr>\n",
       "      <th>etc</th>\n",
       "      <td>68</td>\n",
       "    </tr>\n",
       "    <tr>\n",
       "      <th>Магазин</th>\n",
       "      <td>22</td>\n",
       "    </tr>\n",
       "    <tr>\n",
       "      <th>Орджоникидзе,</th>\n",
       "      <td>57</td>\n",
       "    </tr>\n",
       "    <tr>\n",
       "      <th>ТК</th>\n",
       "      <td>184</td>\n",
       "    </tr>\n",
       "    <tr>\n",
       "      <th>ТРК</th>\n",
       "      <td>140</td>\n",
       "    </tr>\n",
       "    <tr>\n",
       "      <th>ТРЦ</th>\n",
       "      <td>340</td>\n",
       "    </tr>\n",
       "    <tr>\n",
       "      <th>ТЦ</th>\n",
       "      <td>883</td>\n",
       "    </tr>\n",
       "    <tr>\n",
       "      <th>склад</th>\n",
       "      <td>55</td>\n",
       "    </tr>\n",
       "    <tr>\n",
       "      <th>ул.</th>\n",
       "      <td>21</td>\n",
       "    </tr>\n",
       "  </tbody>\n",
       "</table>\n",
       "</div>"
      ],
      "text/plain": [
       "               shop_id\n",
       "category              \n",
       "etc                 68\n",
       "Магазин             22\n",
       "Орджоникидзе,       57\n",
       "ТК                 184\n",
       "ТРК                140\n",
       "ТРЦ                340\n",
       "ТЦ                 883\n",
       "склад               55\n",
       "ул.                 21"
      ]
     },
     "execution_count": 9,
     "metadata": {},
     "output_type": "execute_result"
    }
   ],
   "source": [
    "shops.groupby(['category']).sum()"
   ]
  },
  {
   "cell_type": "code",
   "execution_count": 10,
   "metadata": {},
   "outputs": [
    {
     "name": "stdout",
     "output_type": "stream",
     "text": [
      "Category Distribution           shop_id\n",
      "category         \n",
      "etc           223\n",
      "ТК            184\n",
      "ТРК           140\n",
      "ТРЦ           340\n",
      "ТЦ            883\n"
     ]
    }
   ],
   "source": [
    "category = ['ТЦ', 'ТРК', 'ТРЦ', 'ТК']\n",
    "shops.category = shops.category.apply(lambda x: x if (x in category) else 'etc')\n",
    "print('Category Distribution', shops.groupby(['category']).sum())"
   ]
  },
  {
   "cell_type": "code",
   "execution_count": 11,
   "metadata": {},
   "outputs": [
    {
     "data": {
      "text/html": [
       "<div>\n",
       "<style scoped>\n",
       "    .dataframe tbody tr th:only-of-type {\n",
       "        vertical-align: middle;\n",
       "    }\n",
       "\n",
       "    .dataframe tbody tr th {\n",
       "        vertical-align: top;\n",
       "    }\n",
       "\n",
       "    .dataframe thead th {\n",
       "        text-align: right;\n",
       "    }\n",
       "</style>\n",
       "<table border=\"1\" class=\"dataframe\">\n",
       "  <thead>\n",
       "    <tr style=\"text-align: right;\">\n",
       "      <th></th>\n",
       "      <th>shop_id</th>\n",
       "      <th>shop_city</th>\n",
       "      <th>shop_category</th>\n",
       "    </tr>\n",
       "  </thead>\n",
       "  <tbody>\n",
       "    <tr>\n",
       "      <th>0</th>\n",
       "      <td>0</td>\n",
       "      <td>29</td>\n",
       "      <td>0</td>\n",
       "    </tr>\n",
       "    <tr>\n",
       "      <th>1</th>\n",
       "      <td>1</td>\n",
       "      <td>29</td>\n",
       "      <td>4</td>\n",
       "    </tr>\n",
       "    <tr>\n",
       "      <th>2</th>\n",
       "      <td>2</td>\n",
       "      <td>0</td>\n",
       "      <td>4</td>\n",
       "    </tr>\n",
       "    <tr>\n",
       "      <th>3</th>\n",
       "      <td>3</td>\n",
       "      <td>1</td>\n",
       "      <td>2</td>\n",
       "    </tr>\n",
       "    <tr>\n",
       "      <th>4</th>\n",
       "      <td>4</td>\n",
       "      <td>2</td>\n",
       "      <td>4</td>\n",
       "    </tr>\n",
       "  </tbody>\n",
       "</table>\n",
       "</div>"
      ],
      "text/plain": [
       "   shop_id  shop_city  shop_category\n",
       "0        0         29              0\n",
       "1        1         29              4\n",
       "2        2          0              4\n",
       "3        3          1              2\n",
       "4        4          2              4"
      ]
     },
     "execution_count": 11,
     "metadata": {},
     "output_type": "execute_result"
    }
   ],
   "source": [
    "shops['shop_city'] = shops.city\n",
    "shops['shop_category'] = shops.category\n",
    "\n",
    "shops['shop_city'] = LabelEncoder().fit_transform(shops['shop_city'])\n",
    "shops['shop_category'] = LabelEncoder().fit_transform(shops['shop_category'])\n",
    "\n",
    "shops = shops[['shop_id','shop_city', 'shop_category']]\n",
    "shops.head()"
   ]
  },
  {
   "cell_type": "code",
   "execution_count": 12,
   "metadata": {},
   "outputs": [
    {
     "name": "stdout",
     "output_type": "stream",
     "text": [
      "           item_category_id\n",
      "type_code                  \n",
      "etc                     236\n",
      "Игры                    343\n",
      "Карты                   170\n",
      "Кино                    195\n",
      "Книги                   624\n",
      "Музыка                  345\n",
      "Подарки                 798\n",
      "Программы               453\n",
      "Служебные               159\n",
      "Чистые                  163\n"
     ]
    }
   ],
   "source": [
    "cats['type_code'] = cats.item_category_name.apply(lambda x: x.split(' ')[0]).astype(str)\n",
    "cats.loc[(cats.type_code == 'Игровые') | (cats.type_code == 'Аксессуары'), 'category'] = 'Игры'\n",
    "cats.loc[cats.type_code == 'PC', 'category'] = 'Музыка'\n",
    "\n",
    "category = ['Игры', 'Карты', 'Кино', 'Книги','Музыка', 'Подарки', 'Программы', 'Служебные', 'Чистые']\n",
    "\n",
    "cats['type_code'] = cats.type_code.apply(lambda x: x if (x in category) else 'etc')\n",
    "\n",
    "print(cats.groupby(['type_code']).sum())\n",
    "cats['type_code'] = LabelEncoder().fit_transform(cats['type_code'])\n",
    "\n",
    "cats['split'] = cats.item_category_name.apply(lambda x: x.split('-'))\n",
    "cats['subtype'] = cats['split'].map(lambda x: x[1].strip() if len(x) > 1 else x[0].strip())\n",
    "cats['subtype_code'] = LabelEncoder().fit_transform(cats['subtype'])\n",
    "cats = cats[['item_category_id','type_code', 'subtype_code']]"
   ]
  },
  {
   "cell_type": "code",
   "execution_count": 14,
   "metadata": {},
   "outputs": [
    {
     "name": "stderr",
     "output_type": "stream",
     "text": [
      "C:\\ProgramData\\Anaconda3\\lib\\site-packages\\ipykernel_launcher.py:7: FutureWarning: Columnar iteration over characters will be deprecated in future releases.\n",
      "  import sys\n",
      "C:\\ProgramData\\Anaconda3\\lib\\site-packages\\ipykernel_launcher.py:8: FutureWarning: Columnar iteration over characters will be deprecated in future releases.\n",
      "  \n"
     ]
    },
    {
     "name": "stdout",
     "output_type": "stream",
     "text": [
      "Most common aditional features:          feature  count\n",
      "0   документация    284\n",
      "1     английская    340\n",
      "2        русские    399\n",
      "3       субтитры    400\n",
      "4            360    465\n",
      "5          jewel    552\n",
      "6           xbox    589\n",
      "7            ps3    611\n",
      "8        русская   1428\n",
      "9       цифровая   1995\n",
      "10            pc   2585\n",
      "11        версия   3427\n",
      "12           box    246\n",
      "13            3d    409\n",
      "14           dvd    503\n",
      "15      digipack    541\n",
      "16          фирм    757\n",
      "17           mp3    854\n",
      "18            cd    871\n",
      "19        регион   1849\n",
      "20            bd   2320\n"
     ]
    }
   ],
   "source": [
    "import re\n",
    "from collections import Counter\n",
    "from operator import itemgetter\n",
    "\n",
    "items = pd.read_csv('../data/items.csv')\n",
    "\n",
    "items['name_1'], items['name_2'] = items['item_name'].str.split('[', 1).str\n",
    "items['name_1'], items['name_3'] = items['item_name'].str.split('(', 1).str\n",
    "\n",
    "items['name_2'] = items['name_2'].str.replace('[^A-Za-z0-9А-Яа-я]+', ' ').str.lower()\n",
    "items['name_3'] = items['name_3'].str.replace('[^A-Za-z0-9А-Яа-я]+', ' ').str.lower()\n",
    "items = items.fillna('0')\n",
    "\n",
    "result_1 = Counter(' '.join(items['name_2'].values.tolist()).split(' ')).items()\n",
    "result_1 = sorted(result_1, key=itemgetter(1))\n",
    "result_1 = pd.DataFrame(result_1, columns=['feature', 'count'])\n",
    "result_1 = result_1[(result_1['feature'].str.len() > 1) & (result_1['count'] > 200)]\n",
    "\n",
    "result_2 = Counter(' '.join(items['name_3'].values.tolist()).split(\" \")).items()\n",
    "result_2 = sorted(result_2, key=itemgetter(1))\n",
    "result_2 = pd.DataFrame(result_2, columns=['feature', 'count'])\n",
    "result_2 = result_2[(result_2['feature'].str.len() > 1) & (result_2['count'] > 200)]\n",
    "\n",
    "result = pd.concat([result_1, result_2])\n",
    "result = result.drop_duplicates(subset=['feature']).reset_index(drop=True)\n",
    "\n",
    "print('Most common aditional features:', result)\n",
    "\n",
    "def name_correction(x):\n",
    "    x = x.lower()\n",
    "    x = x.partition('[')[0]\n",
    "    x = x.partition('(')[0]\n",
    "    x = re.sub('[^A-Za-z0-9А-Яа-я]+', ' ', x)\n",
    "    x = x.replace('  ', ' ')\n",
    "    x = x.strip()\n",
    "    return x\n",
    "\n",
    "items['item_name'] = items['item_name'].apply(lambda x: name_correction(x))\n",
    "items.name_2 = items.name_2.apply(lambda x: x[:-1] if x != '0' else '0')"
   ]
  },
  {
   "cell_type": "code",
   "execution_count": 15,
   "metadata": {},
   "outputs": [
    {
     "data": {
      "text/html": [
       "<div>\n",
       "<style scoped>\n",
       "    .dataframe tbody tr th:only-of-type {\n",
       "        vertical-align: middle;\n",
       "    }\n",
       "\n",
       "    .dataframe tbody tr th {\n",
       "        vertical-align: top;\n",
       "    }\n",
       "\n",
       "    .dataframe thead th {\n",
       "        text-align: right;\n",
       "    }\n",
       "</style>\n",
       "<table border=\"1\" class=\"dataframe\">\n",
       "  <thead>\n",
       "    <tr style=\"text-align: right;\">\n",
       "      <th></th>\n",
       "      <th>item_id</th>\n",
       "      <th>item_category_id</th>\n",
       "    </tr>\n",
       "    <tr>\n",
       "      <th>type</th>\n",
       "      <th></th>\n",
       "      <th></th>\n",
       "    </tr>\n",
       "  </thead>\n",
       "  <tbody>\n",
       "    <tr>\n",
       "      <th>5c5</th>\n",
       "      <td>12118</td>\n",
       "      <td>16</td>\n",
       "    </tr>\n",
       "    <tr>\n",
       "      <th>5c7</th>\n",
       "      <td>26808</td>\n",
       "      <td>32</td>\n",
       "    </tr>\n",
       "    <tr>\n",
       "      <th>5f4</th>\n",
       "      <td>7936</td>\n",
       "      <td>7</td>\n",
       "    </tr>\n",
       "    <tr>\n",
       "      <th>6dv</th>\n",
       "      <td>7934</td>\n",
       "      <td>7</td>\n",
       "    </tr>\n",
       "    <tr>\n",
       "      <th>6jv</th>\n",
       "      <td>7924</td>\n",
       "      <td>7</td>\n",
       "    </tr>\n",
       "    <tr>\n",
       "      <th>6l6</th>\n",
       "      <td>7935</td>\n",
       "      <td>7</td>\n",
       "    </tr>\n",
       "    <tr>\n",
       "      <th>android</th>\n",
       "      <td>12994</td>\n",
       "      <td>78</td>\n",
       "    </tr>\n",
       "    <tr>\n",
       "      <th>hm3</th>\n",
       "      <td>7926</td>\n",
       "      <td>7</td>\n",
       "    </tr>\n",
       "    <tr>\n",
       "      <th>j72</th>\n",
       "      <td>31709</td>\n",
       "      <td>28</td>\n",
       "    </tr>\n",
       "    <tr>\n",
       "      <th>kf6</th>\n",
       "      <td>13403</td>\n",
       "      <td>16</td>\n",
       "    </tr>\n",
       "    <tr>\n",
       "      <th>kf7</th>\n",
       "      <td>13402</td>\n",
       "      <td>16</td>\n",
       "    </tr>\n",
       "    <tr>\n",
       "      <th>kg4</th>\n",
       "      <td>12117</td>\n",
       "      <td>16</td>\n",
       "    </tr>\n",
       "    <tr>\n",
       "      <th>ps2</th>\n",
       "      <td>7076</td>\n",
       "      <td>36</td>\n",
       "    </tr>\n",
       "    <tr>\n",
       "      <th>s3v</th>\n",
       "      <td>7933</td>\n",
       "      <td>7</td>\n",
       "    </tr>\n",
       "    <tr>\n",
       "      <th>s4v</th>\n",
       "      <td>7937</td>\n",
       "      <td>7</td>\n",
       "    </tr>\n",
       "    <tr>\n",
       "      <th>англ</th>\n",
       "      <td>2821</td>\n",
       "      <td>28</td>\n",
       "    </tr>\n",
       "    <tr>\n",
       "      <th>русская</th>\n",
       "      <td>1547</td>\n",
       "      <td>25</td>\n",
       "    </tr>\n",
       "    <tr>\n",
       "      <th>только</th>\n",
       "      <td>60074</td>\n",
       "      <td>156</td>\n",
       "    </tr>\n",
       "    <tr>\n",
       "      <th>цифро</th>\n",
       "      <td>3864</td>\n",
       "      <td>54</td>\n",
       "    </tr>\n",
       "  </tbody>\n",
       "</table>\n",
       "</div>"
      ],
      "text/plain": [
       "         item_id  item_category_id\n",
       "type                              \n",
       "5c5        12118                16\n",
       "5c7        26808                32\n",
       "5f4         7936                 7\n",
       "6dv         7934                 7\n",
       "6jv         7924                 7\n",
       "6l6         7935                 7\n",
       "android    12994                78\n",
       "hm3         7926                 7\n",
       "j72        31709                28\n",
       "kf6        13403                16\n",
       "kf7        13402                16\n",
       "kg4        12117                16\n",
       "ps2         7076                36\n",
       "s3v         7933                 7\n",
       "s4v         7937                 7\n",
       "англ        2821                28\n",
       "русская     1547                25\n",
       "только     60074               156\n",
       "цифро       3864                54"
      ]
     },
     "execution_count": 15,
     "metadata": {},
     "output_type": "execute_result"
    }
   ],
   "source": [
    "items['type'] = items.name_2.apply(lambda x: x[0:8] if x.split(' ')[0] == 'xbox' else x.split(' ')[0])\n",
    "items.loc[(items.type == 'x360') | (items.type == 'xbox360'), 'type'] = 'xbox 360'\n",
    "items.loc[items.type == '', 'type'] = 'mac'\n",
    "items.type = items.type.apply(lambda x: x.replace(' ',''))\n",
    "items.loc[(items.type == 'pc') | (items.type == 'pс') | (items.type == 'рс'), 'type'] = 'pc'\n",
    "items.loc[(items.type == 'рs3'), 'type'] = 'ps3'\n",
    "\n",
    "group_sum = items.groupby('type').sum()\n",
    "group_sum.loc[group_sum.item_category_id < 200]"
   ]
  },
  {
   "cell_type": "code",
   "execution_count": 17,
   "metadata": {},
   "outputs": [
    {
     "data": {
      "text/html": [
       "<div>\n",
       "<style scoped>\n",
       "    .dataframe tbody tr th:only-of-type {\n",
       "        vertical-align: middle;\n",
       "    }\n",
       "\n",
       "    .dataframe tbody tr th {\n",
       "        vertical-align: top;\n",
       "    }\n",
       "\n",
       "    .dataframe thead th {\n",
       "        text-align: right;\n",
       "    }\n",
       "</style>\n",
       "<table border=\"1\" class=\"dataframe\">\n",
       "  <thead>\n",
       "    <tr style=\"text-align: right;\">\n",
       "      <th></th>\n",
       "      <th>item_id</th>\n",
       "      <th>item_category_id</th>\n",
       "    </tr>\n",
       "    <tr>\n",
       "      <th>name_2</th>\n",
       "      <th></th>\n",
       "      <th></th>\n",
       "    </tr>\n",
       "  </thead>\n",
       "  <tbody>\n",
       "    <tr>\n",
       "      <th>0</th>\n",
       "      <td>218310960</td>\n",
       "      <td>872182</td>\n",
       "    </tr>\n",
       "    <tr>\n",
       "      <th>etc</th>\n",
       "      <td>253458</td>\n",
       "      <td>550</td>\n",
       "    </tr>\n",
       "    <tr>\n",
       "      <th>mac</th>\n",
       "      <td>148743</td>\n",
       "      <td>2323</td>\n",
       "    </tr>\n",
       "    <tr>\n",
       "      <th>pc</th>\n",
       "      <td>16991083</td>\n",
       "      <td>106924</td>\n",
       "    </tr>\n",
       "    <tr>\n",
       "      <th>ps</th>\n",
       "      <td>431537</td>\n",
       "      <td>1738</td>\n",
       "    </tr>\n",
       "    <tr>\n",
       "      <th>ps3</th>\n",
       "      <td>3531772</td>\n",
       "      <td>11422</td>\n",
       "    </tr>\n",
       "    <tr>\n",
       "      <th>ps4</th>\n",
       "      <td>895981</td>\n",
       "      <td>3489</td>\n",
       "    </tr>\n",
       "    <tr>\n",
       "      <th>psp</th>\n",
       "      <td>692947</td>\n",
       "      <td>2415</td>\n",
       "    </tr>\n",
       "    <tr>\n",
       "      <th>xbox360</th>\n",
       "      <td>2362398</td>\n",
       "      <td>10718</td>\n",
       "    </tr>\n",
       "    <tr>\n",
       "      <th>xboxone</th>\n",
       "      <td>566890</td>\n",
       "      <td>2952</td>\n",
       "    </tr>\n",
       "    <tr>\n",
       "      <th>цифровая</th>\n",
       "      <td>1557596</td>\n",
       "      <td>11553</td>\n",
       "    </tr>\n",
       "  </tbody>\n",
       "</table>\n",
       "</div>"
      ],
      "text/plain": [
       "            item_id  item_category_id\n",
       "name_2                               \n",
       "0         218310960            872182\n",
       "etc          253458               550\n",
       "mac          148743              2323\n",
       "pc         16991083            106924\n",
       "ps           431537              1738\n",
       "ps3         3531772             11422\n",
       "ps4          895981              3489\n",
       "psp          692947              2415\n",
       "xbox360     2362398             10718\n",
       "xboxone      566890              2952\n",
       "цифровая    1557596             11553"
      ]
     },
     "execution_count": 17,
     "metadata": {},
     "output_type": "execute_result"
    }
   ],
   "source": [
    "drop_list = ['5c5', '5c7', '5f4', '6dv', '6jv', '6l6', 'android', 'hm3', 'j72', 'kf6', 'kf7','kg4',\n",
    "            'ps2', 's3v', 's4v'\t,'англ', 'русская', 'только', 'цифро']\n",
    "\n",
    "items.name_2 = items.type.apply(lambda x: 'etc' if x in drop_list else x)\n",
    "items = items.drop(['type'], axis=1)\n",
    "items.groupby('name_2').sum()"
   ]
  },
  {
   "cell_type": "code",
   "execution_count": 18,
   "metadata": {},
   "outputs": [
    {
     "data": {
      "text/html": [
       "<div>\n",
       "<style scoped>\n",
       "    .dataframe tbody tr th:only-of-type {\n",
       "        vertical-align: middle;\n",
       "    }\n",
       "\n",
       "    .dataframe tbody tr th {\n",
       "        vertical-align: top;\n",
       "    }\n",
       "\n",
       "    .dataframe thead th {\n",
       "        text-align: right;\n",
       "    }\n",
       "</style>\n",
       "<table border=\"1\" class=\"dataframe\">\n",
       "  <thead>\n",
       "    <tr style=\"text-align: right;\">\n",
       "      <th></th>\n",
       "      <th>item_id</th>\n",
       "      <th>item_category_id</th>\n",
       "      <th>name_2</th>\n",
       "      <th>name_3</th>\n",
       "    </tr>\n",
       "  </thead>\n",
       "  <tbody>\n",
       "    <tr>\n",
       "      <th>0</th>\n",
       "      <td>0</td>\n",
       "      <td>40</td>\n",
       "      <td>0</td>\n",
       "      <td>1331</td>\n",
       "    </tr>\n",
       "    <tr>\n",
       "      <th>1</th>\n",
       "      <td>1</td>\n",
       "      <td>76</td>\n",
       "      <td>3</td>\n",
       "      <td>42</td>\n",
       "    </tr>\n",
       "    <tr>\n",
       "      <th>2</th>\n",
       "      <td>2</td>\n",
       "      <td>40</td>\n",
       "      <td>0</td>\n",
       "      <td>1011</td>\n",
       "    </tr>\n",
       "    <tr>\n",
       "      <th>3</th>\n",
       "      <td>3</td>\n",
       "      <td>40</td>\n",
       "      <td>0</td>\n",
       "      <td>1010</td>\n",
       "    </tr>\n",
       "    <tr>\n",
       "      <th>4</th>\n",
       "      <td>4</td>\n",
       "      <td>40</td>\n",
       "      <td>0</td>\n",
       "      <td>1572</td>\n",
       "    </tr>\n",
       "  </tbody>\n",
       "</table>\n",
       "</div>"
      ],
      "text/plain": [
       "   item_id  item_category_id  name_2  name_3\n",
       "0        0                40       0    1331\n",
       "1        1                76       3      42\n",
       "2        2                40       0    1011\n",
       "3        3                40       0    1010\n",
       "4        4                40       0    1572"
      ]
     },
     "execution_count": 18,
     "metadata": {},
     "output_type": "execute_result"
    }
   ],
   "source": [
    "items['name_2'] = LabelEncoder().fit_transform(items['name_2'])\n",
    "items['name_3'] = LabelEncoder().fit_transform(items['name_3'])\n",
    "items.drop(['item_name', 'name_1'], axis=1, inplace=True)\n",
    "items.head()"
   ]
  },
  {
   "cell_type": "code",
   "execution_count": 19,
   "metadata": {},
   "outputs": [
    {
     "data": {
      "text/plain": [
       "23.04243779182434"
      ]
     },
     "execution_count": 19,
     "metadata": {},
     "output_type": "execute_result"
    }
   ],
   "source": [
    "ts = time.time()\n",
    "matrix = []\n",
    "cols = ['date_block_num','shop_id','item_id']\n",
    "for i in range(34):\n",
    "    sales = train[train.date_block_num==i]\n",
    "    matrix.append(np.array(list(product([i], sales.shop_id.unique(), sales.item_id.unique())), dtype='int16'))\n",
    "    \n",
    "matrix = pd.DataFrame(np.vstack(matrix), columns=cols)\n",
    "matrix['date_block_num'] = matrix['date_block_num'].astype(np.int8)\n",
    "matrix['shop_id'] = matrix['shop_id'].astype(np.int8)\n",
    "matrix['item_id'] = matrix['item_id'].astype(np.int16)\n",
    "matrix.sort_values(cols,inplace=True)\n",
    "time.time() - ts"
   ]
  },
  {
   "cell_type": "code",
   "execution_count": 20,
   "metadata": {},
   "outputs": [
    {
     "data": {
      "text/plain": [
       "12.069120407104492"
      ]
     },
     "execution_count": 20,
     "metadata": {},
     "output_type": "execute_result"
    }
   ],
   "source": [
    "train['revenue'] = train['item_price'] *  train['item_cnt_day']\n",
    "ts = time.time()\n",
    "group = train.groupby(['date_block_num','shop_id','item_id']).agg({'item_cnt_day': ['sum']})\n",
    "\n",
    "group.columns = ['item_cnt_month']\n",
    "group.reset_index(inplace=True)\n",
    "matrix = pd.merge(matrix, group, on=cols, how='left')\n",
    "matrix['item_cnt_month'] = (matrix['item_cnt_month']\n",
    "                                .fillna(0)#.astype(np.float16))\n",
    "                                .clip(0,20) # NB clip target here\n",
    "                                .astype(np.float16))\n",
    "time.time() - ts"
   ]
  },
  {
   "cell_type": "code",
   "execution_count": 21,
   "metadata": {},
   "outputs": [],
   "source": [
    "test['date_block_num'] = 34\n",
    "test['date_block_num'] = test['date_block_num'].astype(np.int8)\n",
    "test['shop_id'] = test['shop_id'].astype(np.int8)\n",
    "test['item_id'] = test['item_id'].astype(np.int16)"
   ]
  },
  {
   "cell_type": "code",
   "execution_count": 22,
   "metadata": {},
   "outputs": [
    {
     "data": {
      "text/plain": [
       "0.16204595565795898"
      ]
     },
     "execution_count": 22,
     "metadata": {},
     "output_type": "execute_result"
    }
   ],
   "source": [
    "ts = time.time()\n",
    "matrix = pd.concat([matrix, test], ignore_index=True, sort=False, keys=cols)\n",
    "matrix.fillna(0, inplace=True) # 34 month\n",
    "time.time() - ts"
   ]
  },
  {
   "cell_type": "code",
   "execution_count": 23,
   "metadata": {},
   "outputs": [
    {
     "data": {
      "text/plain": [
       "12.238600730895996"
      ]
     },
     "execution_count": 23,
     "metadata": {},
     "output_type": "execute_result"
    }
   ],
   "source": [
    "ts = time.time()\n",
    "matrix = pd.merge(matrix, shops, on=['shop_id'], how='left')\n",
    "matrix = pd.merge(matrix, items, on=['item_id'], how='left')\n",
    "matrix = pd.merge(matrix, cats, on=['item_category_id'], how='left')\n",
    "matrix['shop_city'] = matrix['shop_city'].astype(np.int8)\n",
    "matrix['shop_category'] = matrix['shop_category'].astype(np.int8)\n",
    "matrix['item_category_id'] = matrix['item_category_id'].astype(np.int8)\n",
    "matrix['type_code'] = matrix['type_code'].astype(np.int8)\n",
    "matrix['subtype_code'] = matrix['subtype_code'].astype(np.int8)\n",
    "time.time() - ts"
   ]
  },
  {
   "cell_type": "code",
   "execution_count": 24,
   "metadata": {},
   "outputs": [],
   "source": [
    "def lag_feature(df, lags, col):\n",
    "    tmp = df[['date_block_num','shop_id','item_id',col]]\n",
    "    for i in lags:\n",
    "        shifted = tmp.copy()\n",
    "        shifted.columns = ['date_block_num','shop_id','item_id', col+'_lag_'+str(i)]\n",
    "        shifted['date_block_num'] += i\n",
    "        df = pd.merge(df, shifted, on=['date_block_num','shop_id','item_id'], how='left')\n",
    "    return df"
   ]
  },
  {
   "cell_type": "code",
   "execution_count": 25,
   "metadata": {},
   "outputs": [
    {
     "data": {
      "text/plain": [
       "47.94282817840576"
      ]
     },
     "execution_count": 25,
     "metadata": {},
     "output_type": "execute_result"
    }
   ],
   "source": [
    "ts = time.time()\n",
    "matrix = lag_feature(matrix, [1,2,3], 'item_cnt_month')\n",
    "time.time() - ts"
   ]
  },
  {
   "cell_type": "code",
   "execution_count": 26,
   "metadata": {},
   "outputs": [
    {
     "data": {
      "text/plain": [
       "26.937419414520264"
      ]
     },
     "execution_count": 26,
     "metadata": {},
     "output_type": "execute_result"
    }
   ],
   "source": [
    "ts = time.time()\n",
    "group = matrix.groupby(['date_block_num']).agg({'item_cnt_month': ['mean']})\n",
    "group.columns = [ 'date_avg_item_cnt' ]\n",
    "group.reset_index(inplace=True)\n",
    "\n",
    "matrix = pd.merge(matrix, group, on=['date_block_num'], how='left')\n",
    "matrix['date_avg_item_cnt'] = matrix['date_avg_item_cnt'].astype(np.float16)\n",
    "matrix = lag_feature(matrix, [1], 'date_avg_item_cnt')\n",
    "matrix.drop(['date_avg_item_cnt'], axis=1, inplace=True)\n",
    "time.time() - ts"
   ]
  },
  {
   "cell_type": "code",
   "execution_count": 27,
   "metadata": {},
   "outputs": [
    {
     "data": {
      "text/plain": [
       "65.37973189353943"
      ]
     },
     "execution_count": 27,
     "metadata": {},
     "output_type": "execute_result"
    }
   ],
   "source": [
    "ts = time.time()\n",
    "group = matrix.groupby(['date_block_num', 'item_id']).agg({'item_cnt_month': ['mean']})\n",
    "group.columns = [ 'date_item_avg_item_cnt' ]\n",
    "group.reset_index(inplace=True)\n",
    "\n",
    "matrix = pd.merge(matrix, group, on=['date_block_num','item_id'], how='left')\n",
    "matrix['date_item_avg_item_cnt'] = matrix['date_item_avg_item_cnt'].astype(np.float16)\n",
    "matrix = lag_feature(matrix, [1,2,3], 'date_item_avg_item_cnt')\n",
    "matrix.drop(['date_item_avg_item_cnt'], axis=1, inplace=True)\n",
    "time.time() - ts"
   ]
  },
  {
   "cell_type": "code",
   "execution_count": 28,
   "metadata": {},
   "outputs": [
    {
     "data": {
      "text/plain": [
       "65.60008883476257"
      ]
     },
     "execution_count": 28,
     "metadata": {},
     "output_type": "execute_result"
    }
   ],
   "source": [
    "ts = time.time()\n",
    "group = matrix.groupby(['date_block_num', 'shop_id']).agg({'item_cnt_month': ['mean']})\n",
    "group.columns = [ 'date_shop_avg_item_cnt' ]\n",
    "group.reset_index(inplace=True)\n",
    "\n",
    "matrix = pd.merge(matrix, group, on=['date_block_num','shop_id'], how='left')\n",
    "matrix['date_shop_avg_item_cnt'] = matrix['date_shop_avg_item_cnt'].astype(np.float16)\n",
    "matrix = lag_feature(matrix, [1,2,3], 'date_shop_avg_item_cnt')\n",
    "matrix.drop(['date_shop_avg_item_cnt'], axis=1, inplace=True)\n",
    "time.time() - ts"
   ]
  },
  {
   "cell_type": "code",
   "execution_count": 29,
   "metadata": {},
   "outputs": [
    {
     "data": {
      "text/plain": [
       "32.36535620689392"
      ]
     },
     "execution_count": 29,
     "metadata": {},
     "output_type": "execute_result"
    }
   ],
   "source": [
    "ts = time.time()\n",
    "group = matrix.groupby(['date_block_num', 'item_category_id']).agg({'item_cnt_month': ['mean']})\n",
    "group.columns = [ 'date_cat_avg_item_cnt' ]\n",
    "group.reset_index(inplace=True)\n",
    "\n",
    "matrix = pd.merge(matrix, group, on=['date_block_num','item_category_id'], how='left')\n",
    "matrix['date_cat_avg_item_cnt'] = matrix['date_cat_avg_item_cnt'].astype(np.float16)\n",
    "matrix = lag_feature(matrix, [1], 'date_cat_avg_item_cnt')\n",
    "matrix.drop(['date_cat_avg_item_cnt'], axis=1, inplace=True)\n",
    "time.time() - ts"
   ]
  },
  {
   "cell_type": "code",
   "execution_count": 30,
   "metadata": {},
   "outputs": [
    {
     "data": {
      "text/plain": [
       "34.60765838623047"
      ]
     },
     "execution_count": 30,
     "metadata": {},
     "output_type": "execute_result"
    }
   ],
   "source": [
    "ts = time.time()\n",
    "group = matrix.groupby(['date_block_num', 'shop_id', 'item_category_id']).agg({'item_cnt_month': ['mean']})\n",
    "group.columns = ['date_shop_cat_avg_item_cnt']\n",
    "group.reset_index(inplace=True)\n",
    "\n",
    "matrix = pd.merge(matrix, group, on=['date_block_num', 'shop_id', 'item_category_id'], how='left')\n",
    "matrix['date_shop_cat_avg_item_cnt'] = matrix['date_shop_cat_avg_item_cnt'].astype(np.float16)\n",
    "matrix = lag_feature(matrix, [1], 'date_shop_cat_avg_item_cnt')\n",
    "matrix.drop(['date_shop_cat_avg_item_cnt'], axis=1, inplace=True)\n",
    "time.time() - ts"
   ]
  },
  {
   "cell_type": "code",
   "execution_count": 34,
   "metadata": {},
   "outputs": [
    {
     "data": {
      "text/plain": [
       "(Index(['date_block_num', 'shop_id', 'item_id', 'item_cnt_month', 'shop_city',\n",
       "        'shop_category', 'item_category_id', 'name_2', 'name_3', 'type_code',\n",
       "        'subtype_code', 'item_cnt_month_lag_1', 'item_cnt_month_lag_2',\n",
       "        'item_cnt_month_lag_3', 'date_avg_item_cnt_lag_1',\n",
       "        'date_item_avg_item_cnt_lag_1', 'date_item_avg_item_cnt_lag_2',\n",
       "        'date_item_avg_item_cnt_lag_3', 'date_shop_avg_item_cnt_lag_1',\n",
       "        'date_shop_avg_item_cnt_lag_2', 'date_shop_avg_item_cnt_lag_3',\n",
       "        'date_cat_avg_item_cnt_lag_1', 'date_shop_cat_avg_item_cnt_lag_1'],\n",
       "       dtype='object'),\n",
       " Index(['date_block_num', 'shop_id', 'item_category_id',\n",
       "        'date_shop_cat_avg_item_cnt'],\n",
       "       dtype='object'))"
      ]
     },
     "execution_count": 34,
     "metadata": {},
     "output_type": "execute_result"
    }
   ],
   "source": [
    "matrix.columns, group.columns"
   ]
  },
  {
   "cell_type": "code",
   "execution_count": 37,
   "metadata": {},
   "outputs": [
    {
     "data": {
      "text/plain": [
       "33.94299602508545"
      ]
     },
     "execution_count": 37,
     "metadata": {},
     "output_type": "execute_result"
    }
   ],
   "source": [
    "ts = time.time()\n",
    "group = matrix.groupby(['date_block_num', 'shop_id', 'item_category_id']).agg({'item_cnt_month': ['mean']})\n",
    "group.columns = ['date_shop_item_avg_item_cnt']\n",
    "group.reset_index(inplace=True)\n",
    "\n",
    "matrix = pd.merge(matrix, group, on=['date_block_num', 'shop_id', 'item_category_id'], how='left')\n",
    "matrix['date_shop_item_avg_item_cnt'] = matrix['date_shop_item_avg_item_cnt'].astype(np.float16)\n",
    "matrix = lag_feature(matrix, [1], 'date_shop_item_avg_item_cnt')\n",
    "matrix.drop(['date_shop_item_avg_item_cnt'], axis=1, inplace=True)\n",
    "time.time() - ts"
   ]
  },
  {
   "cell_type": "code",
   "execution_count": 38,
   "metadata": {},
   "outputs": [
    {
     "data": {
      "text/plain": [
       "36.70240926742554"
      ]
     },
     "execution_count": 38,
     "metadata": {},
     "output_type": "execute_result"
    }
   ],
   "source": [
    "ts = time.time()\n",
    "group = matrix.groupby(['date_block_num', 'shop_id', 'subtype_code']).agg({'item_cnt_month': ['mean']})\n",
    "group.columns = ['date_shop_subtype_avg_item_cnt']\n",
    "group.reset_index(inplace=True)\n",
    "\n",
    "matrix = pd.merge(matrix, group, on=['date_block_num', 'shop_id', 'subtype_code'], how='left')\n",
    "matrix['date_shop_subtype_avg_item_cnt'] = matrix['date_shop_subtype_avg_item_cnt'].astype(np.float16)\n",
    "matrix = lag_feature(matrix, [1], 'date_shop_subtype_avg_item_cnt')\n",
    "matrix.drop(['date_shop_subtype_avg_item_cnt'], axis=1, inplace=True)\n",
    "time.time() - ts"
   ]
  },
  {
   "cell_type": "code",
   "execution_count": 39,
   "metadata": {},
   "outputs": [
    {
     "data": {
      "text/plain": [
       "35.25491428375244"
      ]
     },
     "execution_count": 39,
     "metadata": {},
     "output_type": "execute_result"
    }
   ],
   "source": [
    "ts = time.time()\n",
    "group = matrix.groupby(['date_block_num', 'shop_city']).agg({'item_cnt_month': ['mean']})\n",
    "group.columns = [ 'date_city_avg_item_cnt' ]\n",
    "group.reset_index(inplace=True)\n",
    "\n",
    "matrix = pd.merge(matrix, group, on=['date_block_num', 'shop_city'], how='left')\n",
    "matrix['date_city_avg_item_cnt'] = matrix['date_city_avg_item_cnt'].astype(np.float16)\n",
    "matrix = lag_feature(matrix, [1], 'date_city_avg_item_cnt')\n",
    "matrix.drop(['date_city_avg_item_cnt'], axis=1, inplace=True)\n",
    "time.time() - ts"
   ]
  },
  {
   "cell_type": "code",
   "execution_count": 40,
   "metadata": {},
   "outputs": [
    {
     "data": {
      "text/plain": [
       "52.86228704452515"
      ]
     },
     "execution_count": 40,
     "metadata": {},
     "output_type": "execute_result"
    }
   ],
   "source": [
    "ts = time.time()\n",
    "group = matrix.groupby(['date_block_num', 'item_id', 'shop_city']).agg({'item_cnt_month': ['mean']})\n",
    "group.columns = [ 'date_item_city_avg_item_cnt' ]\n",
    "group.reset_index(inplace=True)\n",
    "\n",
    "matrix = pd.merge(matrix, group, on=['date_block_num', 'item_id', 'shop_city'], how='left')\n",
    "matrix['date_item_city_avg_item_cnt'] = matrix['date_item_city_avg_item_cnt'].astype(np.float16)\n",
    "matrix = lag_feature(matrix, [1], 'date_item_city_avg_item_cnt')\n",
    "matrix.drop(['date_item_city_avg_item_cnt'], axis=1, inplace=True)\n",
    "time.time() - ts"
   ]
  },
  {
   "cell_type": "code",
   "execution_count": 41,
   "metadata": {},
   "outputs": [
    {
     "data": {
      "text/plain": [
       "58.84231925010681"
      ]
     },
     "execution_count": 41,
     "metadata": {},
     "output_type": "execute_result"
    }
   ],
   "source": [
    "ts = time.time()\n",
    "group = matrix.groupby(['date_block_num','shop_id' ,'item_id']).agg({'item_cnt_month': ['mean']})\n",
    "group.columns = [ 'date_shop_item_avg_item_cnt' ]\n",
    "group.reset_index(inplace=True)\n",
    "\n",
    "matrix = pd.merge(matrix, group, on=['date_block_num','shop_id' ,'item_id'], how='left')\n",
    "matrix['date_shop_item_avg_item_cnt'] = matrix['date_shop_item_avg_item_cnt'].astype(np.float16)\n",
    "matrix = lag_feature(matrix, [1], 'date_shop_item_avg_item_cnt')\n",
    "matrix.drop(['date_shop_item_avg_item_cnt'], axis=1, inplace=True)\n",
    "time.time() - ts"
   ]
  },
  {
   "cell_type": "code",
   "execution_count": 42,
   "metadata": {},
   "outputs": [
    {
     "data": {
      "text/plain": [
       "758.4249832630157"
      ]
     },
     "execution_count": 42,
     "metadata": {},
     "output_type": "execute_result"
    }
   ],
   "source": [
    "ts = time.time()\n",
    "group = train.groupby(['item_id']).agg({'item_price': ['mean']})\n",
    "group.columns = ['item_avg_item_price']\n",
    "group.reset_index(inplace=True)\n",
    "\n",
    "matrix = pd.merge(matrix, group, on=['item_id'], how='left')\n",
    "matrix['item_avg_item_price'] = matrix['item_avg_item_price'].astype(np.float16)\n",
    "\n",
    "group = train.groupby(['date_block_num','item_id']).agg({'item_price': ['mean']})\n",
    "group.columns = ['date_item_avg_item_price']\n",
    "group.reset_index(inplace=True)\n",
    "\n",
    "matrix = pd.merge(matrix, group, on=['date_block_num','item_id'], how='left')\n",
    "matrix['date_item_avg_item_price'] = matrix['date_item_avg_item_price'].astype(np.float16)\n",
    "\n",
    "lags = [1,2,3]\n",
    "matrix = lag_feature(matrix, lags, 'date_item_avg_item_price')\n",
    "\n",
    "for i in lags:\n",
    "    matrix['delta_price_lag_'+str(i)] = \\\n",
    "        (matrix['date_item_avg_item_price_lag_'+str(i)] - matrix['item_avg_item_price']) / matrix['item_avg_item_price']\n",
    "\n",
    "def select_trend(row):\n",
    "    for i in lags:\n",
    "        if row['delta_price_lag_'+str(i)]:\n",
    "            return row['delta_price_lag_'+str(i)]\n",
    "    return 0\n",
    "    \n",
    "matrix['delta_price_lag'] = matrix.apply(select_trend, axis=1)\n",
    "matrix['delta_price_lag'] = matrix['delta_price_lag'].astype(np.float16)\n",
    "matrix['delta_price_lag'].fillna(0, inplace=True)\n",
    "\n",
    "fetures_to_drop = ['item_avg_item_price', 'date_item_avg_item_price']\n",
    "for i in lags:\n",
    "    fetures_to_drop += ['date_item_avg_item_price_lag_'+str(i)]\n",
    "    fetures_to_drop += ['delta_price_lag_'+str(i)]\n",
    "\n",
    "matrix.drop(fetures_to_drop, axis=1, inplace=True)\n",
    "\n",
    "time.time() - ts"
   ]
  },
  {
   "cell_type": "code",
   "execution_count": 43,
   "metadata": {},
   "outputs": [
    {
     "data": {
      "text/plain": [
       "43.05640125274658"
      ]
     },
     "execution_count": 43,
     "metadata": {},
     "output_type": "execute_result"
    }
   ],
   "source": [
    "ts = time.time()\n",
    "group = train.groupby(['date_block_num','shop_id']).agg({'revenue': ['sum']})\n",
    "group.columns = ['date_shop_revenue']\n",
    "group.reset_index(inplace=True)\n",
    "\n",
    "matrix = pd.merge(matrix, group, on=['date_block_num','shop_id'], how='left')\n",
    "matrix['date_shop_revenue'] = matrix['date_shop_revenue'].astype(np.float32)\n",
    "\n",
    "group = group.groupby(['shop_id']).agg({'date_shop_revenue': ['mean']})\n",
    "group.columns = ['shop_avg_revenue']\n",
    "group.reset_index(inplace=True)\n",
    "\n",
    "matrix = pd.merge(matrix, group, on=['shop_id'], how='left')\n",
    "matrix['shop_avg_revenue'] = matrix['shop_avg_revenue'].astype(np.float32)\n",
    "\n",
    "matrix['delta_revenue'] = (matrix['date_shop_revenue'] - matrix['shop_avg_revenue']) / matrix['shop_avg_revenue']\n",
    "matrix['delta_revenue'] = matrix['delta_revenue'].astype(np.float16)\n",
    "\n",
    "matrix = lag_feature(matrix, [1], 'delta_revenue')\n",
    "\n",
    "matrix.drop(['date_shop_revenue','shop_avg_revenue','delta_revenue'], axis=1, inplace=True)\n",
    "time.time() - ts"
   ]
  },
  {
   "cell_type": "code",
   "execution_count": 44,
   "metadata": {},
   "outputs": [],
   "source": [
    "matrix['month'] = matrix['date_block_num'] % 12\n",
    "\n",
    "days = pd.Series([31,28,31,30,31,30,31,31,30,31,30,31])\n",
    "matrix['days'] = matrix['month'].map(days).astype(np.int8)"
   ]
  },
  {
   "cell_type": "code",
   "execution_count": 45,
   "metadata": {},
   "outputs": [
    {
     "data": {
      "text/plain": [
       "6.0649802684783936"
      ]
     },
     "execution_count": 45,
     "metadata": {},
     "output_type": "execute_result"
    }
   ],
   "source": [
    "ts = time.time()\n",
    "matrix['item_shop_first_sale'] = matrix['date_block_num'] - matrix.groupby(['item_id','shop_id'])['date_block_num'].transform('min')\n",
    "matrix['item_first_sale'] = matrix['date_block_num'] - matrix.groupby('item_id')['date_block_num'].transform('min')\n",
    "time.time() - ts"
   ]
  },
  {
   "cell_type": "code",
   "execution_count": 46,
   "metadata": {},
   "outputs": [
    {
     "data": {
      "text/plain": [
       "2.8299825191497803"
      ]
     },
     "execution_count": 46,
     "metadata": {},
     "output_type": "execute_result"
    }
   ],
   "source": [
    "ts = time.time()\n",
    "matrix = matrix[matrix.date_block_num > 3]\n",
    "time.time() - ts"
   ]
  },
  {
   "cell_type": "code",
   "execution_count": 47,
   "metadata": {},
   "outputs": [
    {
     "data": {
      "text/plain": [
       "1.74995756149292"
      ]
     },
     "execution_count": 47,
     "metadata": {},
     "output_type": "execute_result"
    }
   ],
   "source": [
    "ts = time.time()\n",
    "def fill_na(df):\n",
    "    for col in df.columns:\n",
    "        if ('_lag_' in col) & (df[col].isnull().any()):\n",
    "            if ('item_cnt' in col):\n",
    "                df[col].fillna(0, inplace=True)         \n",
    "    return df\n",
    "\n",
    "matrix = fill_na(matrix)\n",
    "time.time() - ts"
   ]
  },
  {
   "cell_type": "code",
   "execution_count": 48,
   "metadata": {},
   "outputs": [
    {
     "name": "stdout",
     "output_type": "stream",
     "text": [
      "<class 'pandas.core.frame.DataFrame'>\n",
      "Int64Index: 9558812 entries, 1497465 to 11056276\n",
      "Data columns (total 34 columns):\n",
      " #   Column                                Dtype  \n",
      "---  ------                                -----  \n",
      " 0   date_block_num                        int8   \n",
      " 1   shop_id                               int8   \n",
      " 2   item_id                               int16  \n",
      " 3   item_cnt_month                        float16\n",
      " 4   shop_city                             int8   \n",
      " 5   shop_category                         int8   \n",
      " 6   item_category_id                      int8   \n",
      " 7   name_2                                int32  \n",
      " 8   name_3                                int32  \n",
      " 9   type_code                             int8   \n",
      " 10  subtype_code                          int8   \n",
      " 11  item_cnt_month_lag_1                  float16\n",
      " 12  item_cnt_month_lag_2                  float16\n",
      " 13  item_cnt_month_lag_3                  float16\n",
      " 14  date_avg_item_cnt_lag_1               float16\n",
      " 15  date_item_avg_item_cnt_lag_1          float16\n",
      " 16  date_item_avg_item_cnt_lag_2          float16\n",
      " 17  date_item_avg_item_cnt_lag_3          float16\n",
      " 18  date_shop_avg_item_cnt_lag_1          float16\n",
      " 19  date_shop_avg_item_cnt_lag_2          float16\n",
      " 20  date_shop_avg_item_cnt_lag_3          float16\n",
      " 21  date_cat_avg_item_cnt_lag_1           float16\n",
      " 22  date_shop_cat_avg_item_cnt_lag_1      float16\n",
      " 23  date_shop_item_avg_item_cnt_lag_1_x   float16\n",
      " 24  date_shop_subtype_avg_item_cnt_lag_1  float16\n",
      " 25  date_city_avg_item_cnt_lag_1          float16\n",
      " 26  date_item_city_avg_item_cnt_lag_1     float16\n",
      " 27  date_shop_item_avg_item_cnt_lag_1_y   float16\n",
      " 28  delta_price_lag                       float16\n",
      " 29  delta_revenue_lag_1                   float16\n",
      " 30  month                                 int8   \n",
      " 31  days                                  int8   \n",
      " 32  item_shop_first_sale                  int8   \n",
      " 33  item_first_sale                       int8   \n",
      "dtypes: float16(20), int16(1), int32(2), int8(11)\n",
      "memory usage: 629.0 MB\n"
     ]
    }
   ],
   "source": [
    "matrix.info()\n",
    "\n",
    "del group\n",
    "del items\n",
    "del shops\n",
    "del cats\n",
    "del train\n",
    "# leave test for submission\n",
    "gc.collect();"
   ]
  },
  {
   "cell_type": "code",
   "execution_count": 49,
   "metadata": {},
   "outputs": [],
   "source": [
    "matrix.to_pickle('../data/data.pkl')\n",
    "del matrix\n",
    "gc.collect();"
   ]
  },
  {
   "cell_type": "code",
   "execution_count": 50,
   "metadata": {},
   "outputs": [],
   "source": [
    "import os\n",
    "import gc\n",
    "import pickle\n",
    "import time\n",
    "import pandas as pd\n",
    "import numpy as np\n",
    "from xgboost import XGBRegressor\n",
    "import matplotlib.pylab as plt\n",
    "from matplotlib.pylab import rcParams\n",
    "rcParams['figure.figsize'] = 12, 4"
   ]
  },
  {
   "cell_type": "code",
   "execution_count": 52,
   "metadata": {},
   "outputs": [
    {
     "name": "stdout",
     "output_type": "stream",
     "text": [
      "34\n"
     ]
    },
    {
     "data": {
      "text/plain": [
       "Index(['date_block_num', 'shop_id', 'item_id', 'item_cnt_month', 'shop_city',\n",
       "       'shop_category', 'item_category_id', 'name_2', 'name_3', 'type_code',\n",
       "       'subtype_code', 'item_cnt_month_lag_1', 'item_cnt_month_lag_2',\n",
       "       'item_cnt_month_lag_3', 'date_avg_item_cnt_lag_1',\n",
       "       'date_item_avg_item_cnt_lag_1', 'date_item_avg_item_cnt_lag_2',\n",
       "       'date_item_avg_item_cnt_lag_3', 'date_shop_avg_item_cnt_lag_1',\n",
       "       'date_shop_avg_item_cnt_lag_2', 'date_shop_avg_item_cnt_lag_3',\n",
       "       'date_cat_avg_item_cnt_lag_1', 'date_shop_cat_avg_item_cnt_lag_1',\n",
       "       'date_shop_item_avg_item_cnt_lag_1_x',\n",
       "       'date_shop_subtype_avg_item_cnt_lag_1', 'date_city_avg_item_cnt_lag_1',\n",
       "       'date_item_city_avg_item_cnt_lag_1',\n",
       "       'date_shop_item_avg_item_cnt_lag_1_y', 'delta_price_lag',\n",
       "       'delta_revenue_lag_1', 'month', 'days', 'item_shop_first_sale',\n",
       "       'item_first_sale'],\n",
       "      dtype='object')"
      ]
     },
     "execution_count": 52,
     "metadata": {},
     "output_type": "execute_result"
    }
   ],
   "source": [
    "data = pd.read_pickle('../data/data.pkl')\n",
    "test  = pd.read_csv('../data/test.csv').set_index('ID')\n",
    "\n",
    "print(len(data.columns))\n",
    "data.columns"
   ]
  },
  {
   "cell_type": "code",
   "execution_count": 54,
   "metadata": {},
   "outputs": [
    {
     "data": {
      "text/plain": [
       "32"
      ]
     },
     "execution_count": 54,
     "metadata": {},
     "output_type": "execute_result"
    }
   ],
   "source": [
    "data = data[[\n",
    "   'date_block_num', 'shop_id', 'item_id', 'item_cnt_month', 'shop_city',\n",
    "       'shop_category', 'item_category_id', 'name_2', 'name_3', 'type_code',\n",
    "       'subtype_code', 'item_cnt_month_lag_1', 'item_cnt_month_lag_2',\n",
    "       'item_cnt_month_lag_3', 'date_avg_item_cnt_lag_1',\n",
    "       'date_item_avg_item_cnt_lag_1', 'date_item_avg_item_cnt_lag_2',\n",
    "       'date_item_avg_item_cnt_lag_3', 'date_shop_avg_item_cnt_lag_1',\n",
    "       'date_shop_avg_item_cnt_lag_2', 'date_shop_avg_item_cnt_lag_3',\n",
    "       'date_cat_avg_item_cnt_lag_1', 'date_shop_cat_avg_item_cnt_lag_1',\n",
    "       'date_shop_subtype_avg_item_cnt_lag_1', 'date_city_avg_item_cnt_lag_1',\n",
    "       'date_item_city_avg_item_cnt_lag_1', \n",
    "#     'date_type_avg_item_cnt_lag_1',\n",
    "#        'date_subtype_avg_item_cnt_lag_1', \n",
    "    #'date_shop_item_avg_item_cnt_lag_1',\n",
    "    'delta_price_lag',\n",
    "       'delta_revenue_lag_1', 'month', 'days', \n",
    "#     'item_shop_last_sale',\n",
    "#        'item_last_sale', \n",
    "    'item_shop_first_sale', \n",
    "    'item_first_sale'\n",
    "]]\n",
    "\n",
    "len(data.columns)"
   ]
  },
  {
   "cell_type": "code",
   "execution_count": 55,
   "metadata": {},
   "outputs": [],
   "source": [
    "X_train = data[data.date_block_num < 33].drop(['item_cnt_month'], axis=1)\n",
    "Y_train = data[data.date_block_num < 33]['item_cnt_month']\n",
    "X_valid = data[data.date_block_num == 33].drop(['item_cnt_month'], axis=1)\n",
    "Y_valid = data[data.date_block_num == 33]['item_cnt_month']\n",
    "X_test = data[data.date_block_num == 34].drop(['item_cnt_month'], axis=1)"
   ]
  },
  {
   "cell_type": "code",
   "execution_count": 56,
   "metadata": {},
   "outputs": [],
   "source": [
    "del data\n",
    "gc.collect();"
   ]
  },
  {
   "cell_type": "code",
   "execution_count": 72,
   "metadata": {},
   "outputs": [
    {
     "name": "stdout",
     "output_type": "stream",
     "text": [
      "[0]\tvalidation_0-rmse:1.18049\tvalidation_1-rmse:1.11603\n",
      "Multiple eval metrics have been passed: 'validation_1-rmse' will be used for early stopping.\n",
      "\n",
      "Will train until validation_1-rmse hasn't improved in 20 rounds.\n",
      "[1]\tvalidation_0-rmse:1.13036\tvalidation_1-rmse:1.08031\n",
      "[2]\tvalidation_0-rmse:1.08659\tvalidation_1-rmse:1.04992\n",
      "[3]\tvalidation_0-rmse:1.04823\tvalidation_1-rmse:1.02345\n",
      "[4]\tvalidation_0-rmse:1.01584\tvalidation_1-rmse:1.00136\n",
      "[5]\tvalidation_0-rmse:0.99040\tvalidation_1-rmse:0.98445\n",
      "[6]\tvalidation_0-rmse:0.96661\tvalidation_1-rmse:0.96988\n",
      "[7]\tvalidation_0-rmse:0.94675\tvalidation_1-rmse:0.95700\n",
      "[8]\tvalidation_0-rmse:0.93087\tvalidation_1-rmse:0.94848\n",
      "[9]\tvalidation_0-rmse:0.91521\tvalidation_1-rmse:0.94160\n",
      "[10]\tvalidation_0-rmse:0.90171\tvalidation_1-rmse:0.93668\n",
      "[11]\tvalidation_0-rmse:0.89019\tvalidation_1-rmse:0.93116\n",
      "[12]\tvalidation_0-rmse:0.88054\tvalidation_1-rmse:0.92759\n",
      "[13]\tvalidation_0-rmse:0.87166\tvalidation_1-rmse:0.92430\n",
      "[14]\tvalidation_0-rmse:0.86379\tvalidation_1-rmse:0.92200\n",
      "[15]\tvalidation_0-rmse:0.85742\tvalidation_1-rmse:0.92018\n",
      "[16]\tvalidation_0-rmse:0.85174\tvalidation_1-rmse:0.91973\n",
      "[17]\tvalidation_0-rmse:0.84667\tvalidation_1-rmse:0.91863\n",
      "[18]\tvalidation_0-rmse:0.84147\tvalidation_1-rmse:0.91881\n",
      "[19]\tvalidation_0-rmse:0.83682\tvalidation_1-rmse:0.91828\n",
      "[20]\tvalidation_0-rmse:0.83307\tvalidation_1-rmse:0.91780\n",
      "[21]\tvalidation_0-rmse:0.82918\tvalidation_1-rmse:0.91651\n",
      "[22]\tvalidation_0-rmse:0.82583\tvalidation_1-rmse:0.91589\n",
      "[23]\tvalidation_0-rmse:0.82257\tvalidation_1-rmse:0.91616\n",
      "[24]\tvalidation_0-rmse:0.81959\tvalidation_1-rmse:0.91549\n",
      "[25]\tvalidation_0-rmse:0.81681\tvalidation_1-rmse:0.91482\n",
      "[26]\tvalidation_0-rmse:0.81419\tvalidation_1-rmse:0.91480\n",
      "[27]\tvalidation_0-rmse:0.81189\tvalidation_1-rmse:0.91379\n",
      "[28]\tvalidation_0-rmse:0.80963\tvalidation_1-rmse:0.91368\n",
      "[29]\tvalidation_0-rmse:0.80738\tvalidation_1-rmse:0.91375\n",
      "[30]\tvalidation_0-rmse:0.80515\tvalidation_1-rmse:0.91335\n",
      "[31]\tvalidation_0-rmse:0.80323\tvalidation_1-rmse:0.91408\n",
      "[32]\tvalidation_0-rmse:0.80146\tvalidation_1-rmse:0.91462\n",
      "[33]\tvalidation_0-rmse:0.79946\tvalidation_1-rmse:0.91418\n",
      "[34]\tvalidation_0-rmse:0.79802\tvalidation_1-rmse:0.91485\n",
      "[35]\tvalidation_0-rmse:0.79624\tvalidation_1-rmse:0.91477\n",
      "[36]\tvalidation_0-rmse:0.79496\tvalidation_1-rmse:0.91553\n",
      "[37]\tvalidation_0-rmse:0.79343\tvalidation_1-rmse:0.91581\n",
      "[38]\tvalidation_0-rmse:0.79195\tvalidation_1-rmse:0.91656\n",
      "[39]\tvalidation_0-rmse:0.79067\tvalidation_1-rmse:0.91694\n",
      "[40]\tvalidation_0-rmse:0.78971\tvalidation_1-rmse:0.91714\n",
      "[41]\tvalidation_0-rmse:0.78843\tvalidation_1-rmse:0.91676\n",
      "[42]\tvalidation_0-rmse:0.78744\tvalidation_1-rmse:0.91719\n",
      "[43]\tvalidation_0-rmse:0.78644\tvalidation_1-rmse:0.91741\n",
      "[44]\tvalidation_0-rmse:0.78552\tvalidation_1-rmse:0.91782\n",
      "[45]\tvalidation_0-rmse:0.78444\tvalidation_1-rmse:0.91774\n",
      "[46]\tvalidation_0-rmse:0.78334\tvalidation_1-rmse:0.91811\n",
      "[47]\tvalidation_0-rmse:0.78266\tvalidation_1-rmse:0.91811\n",
      "[48]\tvalidation_0-rmse:0.78169\tvalidation_1-rmse:0.91871\n",
      "[49]\tvalidation_0-rmse:0.78053\tvalidation_1-rmse:0.91871\n",
      "[50]\tvalidation_0-rmse:0.77902\tvalidation_1-rmse:0.91839\n",
      "Stopping. Best iteration:\n",
      "[30]\tvalidation_0-rmse:0.80515\tvalidation_1-rmse:0.91335\n",
      "\n"
     ]
    },
    {
     "data": {
      "text/plain": [
       "84.05519366264343"
      ]
     },
     "execution_count": 72,
     "metadata": {},
     "output_type": "execute_result"
    }
   ],
   "source": [
    "ts = time.time()\n",
    "\n",
    "model = XGBRegressor(\n",
    "    max_depth=10,\n",
    "    n_estimators=1000,\n",
    "    min_child_weight=0.5, \n",
    "    colsample_bytree=0.8, \n",
    "    subsample=0.8, \n",
    "    eta=0.1,\n",
    "    tree_method='gpu_hist',\n",
    "    seed=42)\n",
    "\n",
    "model.fit(\n",
    "    X_train, \n",
    "    Y_train, \n",
    "    eval_metric=\"rmse\", \n",
    "    eval_set=[(X_train, Y_train), (X_valid, Y_valid)], \n",
    "    verbose=True, \n",
    "    early_stopping_rounds = 20)\n",
    "\n",
    "time.time() - ts"
   ]
  },
  {
   "cell_type": "code",
   "execution_count": 73,
   "metadata": {},
   "outputs": [],
   "source": [
    "Y_pred = model.predict(X_valid).clip(0, 20)\n",
    "Y_test = model.predict(X_test).clip(0, 20)\n",
    "\n",
    "submission = pd.DataFrame({\n",
    "    \"ID\": test.index, \n",
    "    \"item_cnt_month\": Y_test\n",
    "})\n",
    "submission.to_csv('xgb_submission.csv', index=False)\n",
    "\n",
    "# save predictions for an ensemble\n",
    "pickle.dump(Y_pred, open('xgb_train.pickle', 'wb'))\n",
    "pickle.dump(Y_test, open('xgb_test.pickle', 'wb'))"
   ]
  },
  {
   "cell_type": "code",
   "execution_count": 74,
   "metadata": {},
   "outputs": [
    {
     "data": {
      "text/plain": [
       "<matplotlib.axes._subplots.AxesSubplot at 0x2684ffb0948>"
      ]
     },
     "execution_count": 74,
     "metadata": {},
     "output_type": "execute_result"
    },
    {
     "data": {
      "image/png": "[encoded data removed]",
      "text/plain": [
       "<Figure size 720x1008 with 1 Axes>"
      ]
     },
     "metadata": {
      "needs_background": "light"
     },
     "output_type": "display_data"
    }
   ],
   "source": [
    "from xgboost import plot_importance\n",
    "\n",
    "def plot_features(booster, figsize):    \n",
    "    fig, ax = plt.subplots(1,1,figsize=figsize)\n",
    "    return plot_importance(booster=booster, ax=ax)\n",
    "\n",
    "plot_features(model, (10,14))"
   ]
  },
  {
   "cell_type": "code",
   "execution_count": 63,
   "metadata": {},
   "outputs": [
    {
     "name": "stdout",
     "output_type": "stream",
     "text": [
      "[1]\tvalid_0's rmse: 1.12593\n",
      "Training until validation scores don't improve for 15 rounds\n",
      "[2]\tvalid_0's rmse: 1.11535\n",
      "[3]\tvalid_0's rmse: 1.10549\n",
      "[4]\tvalid_0's rmse: 1.09485\n",
      "[5]\tvalid_0's rmse: 1.08501\n",
      "[6]\tvalid_0's rmse: 1.07547\n",
      "[7]\tvalid_0's rmse: 1.06737\n",
      "[8]\tvalid_0's rmse: 1.05928\n",
      "[9]\tvalid_0's rmse: 1.05158\n",
      "[10]\tvalid_0's rmse: 1.04424\n",
      "[11]\tvalid_0's rmse: 1.03766\n",
      "[12]\tvalid_0's rmse: 1.03171\n",
      "[13]\tvalid_0's rmse: 1.0257\n",
      "[14]\tvalid_0's rmse: 1.02048\n",
      "[15]\tvalid_0's rmse: 1.01433\n",
      "[16]\tvalid_0's rmse: 1.00949\n",
      "[17]\tvalid_0's rmse: 1.00554\n",
      "[18]\tvalid_0's rmse: 1.00067\n",
      "[19]\tvalid_0's rmse: 0.996208\n",
      "[20]\tvalid_0's rmse: 0.992247\n",
      "[21]\tvalid_0's rmse: 0.988154\n",
      "[22]\tvalid_0's rmse: 0.98501\n",
      "[23]\tvalid_0's rmse: 0.981746\n",
      "[24]\tvalid_0's rmse: 0.978238\n",
      "[25]\tvalid_0's rmse: 0.975719\n",
      "[26]\tvalid_0's rmse: 0.972116\n",
      "[27]\tvalid_0's rmse: 0.969811\n",
      "[28]\tvalid_0's rmse: 0.967039\n",
      "[29]\tvalid_0's rmse: 0.965052\n",
      "[30]\tvalid_0's rmse: 0.963174\n",
      "[31]\tvalid_0's rmse: 0.961329\n",
      "[32]\tvalid_0's rmse: 0.959321\n",
      "[33]\tvalid_0's rmse: 0.957294\n",
      "[34]\tvalid_0's rmse: 0.955269\n",
      "[35]\tvalid_0's rmse: 0.953427\n",
      "[36]\tvalid_0's rmse: 0.951227\n",
      "[37]\tvalid_0's rmse: 0.949838\n",
      "[38]\tvalid_0's rmse: 0.948347\n",
      "[39]\tvalid_0's rmse: 0.947106\n",
      "[40]\tvalid_0's rmse: 0.946726\n",
      "[41]\tvalid_0's rmse: 0.945873\n",
      "[42]\tvalid_0's rmse: 0.944502\n",
      "[43]\tvalid_0's rmse: 0.944093\n",
      "[44]\tvalid_0's rmse: 0.942872\n",
      "[45]\tvalid_0's rmse: 0.94229\n",
      "[46]\tvalid_0's rmse: 0.941251\n",
      "[47]\tvalid_0's rmse: 0.940961\n",
      "[48]\tvalid_0's rmse: 0.940163\n",
      "[49]\tvalid_0's rmse: 0.939461\n",
      "[50]\tvalid_0's rmse: 0.939035\n",
      "[51]\tvalid_0's rmse: 0.938234\n",
      "[52]\tvalid_0's rmse: 0.937829\n",
      "[53]\tvalid_0's rmse: 0.93745\n",
      "[54]\tvalid_0's rmse: 0.936921\n",
      "[55]\tvalid_0's rmse: 0.936576\n",
      "[56]\tvalid_0's rmse: 0.936067\n",
      "[57]\tvalid_0's rmse: 0.935614\n",
      "[58]\tvalid_0's rmse: 0.93501\n",
      "[59]\tvalid_0's rmse: 0.934524\n",
      "[60]\tvalid_0's rmse: 0.934528\n",
      "[61]\tvalid_0's rmse: 0.934056\n",
      "[62]\tvalid_0's rmse: 0.933518\n",
      "[63]\tvalid_0's rmse: 0.933174\n",
      "[64]\tvalid_0's rmse: 0.932703\n",
      "[65]\tvalid_0's rmse: 0.93231\n",
      "[66]\tvalid_0's rmse: 0.932031\n",
      "[67]\tvalid_0's rmse: 0.931784\n",
      "[68]\tvalid_0's rmse: 0.931811\n",
      "[69]\tvalid_0's rmse: 0.931524\n",
      "[70]\tvalid_0's rmse: 0.932043\n",
      "[71]\tvalid_0's rmse: 0.931479\n",
      "[72]\tvalid_0's rmse: 0.931236\n",
      "[73]\tvalid_0's rmse: 0.93177\n",
      "[74]\tvalid_0's rmse: 0.932233\n",
      "[75]\tvalid_0's rmse: 0.931989\n",
      "[76]\tvalid_0's rmse: 0.932593\n",
      "[77]\tvalid_0's rmse: 0.933136\n",
      "[78]\tvalid_0's rmse: 0.932811\n",
      "[79]\tvalid_0's rmse: 0.932757\n",
      "[80]\tvalid_0's rmse: 0.93293\n",
      "[81]\tvalid_0's rmse: 0.932678\n",
      "[82]\tvalid_0's rmse: 0.932522\n",
      "[83]\tvalid_0's rmse: 0.932573\n",
      "[84]\tvalid_0's rmse: 0.932591\n",
      "[85]\tvalid_0's rmse: 0.932297\n",
      "[86]\tvalid_0's rmse: 0.932224\n",
      "[87]\tvalid_0's rmse: 0.931766\n",
      "Early stopping, best iteration is:\n",
      "[72]\tvalid_0's rmse: 0.931236\n"
     ]
    }
   ],
   "source": [
    "import lightgbm as lgb\n",
    "\n",
    "lgb_params = {\n",
    "               'feature_fraction': 0.75,\n",
    "               'metric': 'rmse',\n",
    "               'nthread':-1, \n",
    "               'min_data_in_leaf': 2**7, \n",
    "               'bagging_fraction': 0.75, \n",
    "               'learning_rate': 0.03, \n",
    "               'objective': 'mse', \n",
    "               'bagging_seed': 2**7, \n",
    "               'num_leaves': 2**7,\n",
    "               'bagging_freq':1,\n",
    "               'verbose':0\n",
    "              }\n",
    "\n",
    "model = lgb.train(lgb_params, \n",
    "                  lgb.Dataset(X_train,label=Y_train), \n",
    "                  150, #categorical_feature=cat_features, \n",
    "                  valid_sets=lgb.Dataset(X_valid,label=Y_valid), verbose_eval=True,\n",
    "                 early_stopping_rounds=15)\n",
    "\n",
    "pred_lgb = model.predict(X_test)"
   ]
  },
  {
   "cell_type": "code",
   "execution_count": 64,
   "metadata": {},
   "outputs": [
    {
     "data": {
      "text/plain": [
       "<matplotlib.axes._subplots.AxesSubplot at 0x2684db88888>"
      ]
     },
     "execution_count": 64,
     "metadata": {},
     "output_type": "execute_result"
    },
    {
     "data": {
      "image/png": "[encoded data removed]",
      "text/plain": [
       "<Figure size 1080x792 with 1 Axes>"
      ]
     },
     "metadata": {
      "needs_background": "light"
     },
     "output_type": "display_data"
    }
   ],
   "source": [
    "lgb.plot_importance(model, figsize=(15,11))"
   ]
  },
  {
   "cell_type": "code",
   "execution_count": 70,
   "metadata": {},
   "outputs": [
    {
     "name": "stderr",
     "output_type": "stream",
     "text": [
      "C:\\ProgramData\\Anaconda3\\lib\\site-packages\\fuzzywuzzy\\fuzz.py:11: UserWarning: Using slow pure-python SequenceMatcher. Install python-Levenshtein to remove this warning\n",
      "  warnings.warn('Using slow pure-python SequenceMatcher. Install python-Levenshtein to remove this warning')\n"
     ]
    },
    {
     "name": "stdout",
     "output_type": "stream",
     "text": [
      "Submission file saved as ../submissions\\sub_val_xgb_but_lgb_1_2020-07-26.csv\n"
     ]
    }
   ],
   "source": [
    "import utils\n",
    "sales_util = utils.SalesUtils('../submissions')\n",
    "submission = pd.DataFrame({\n",
    "    \"ID\": test.index, \n",
    "    \"item_cnt_month\": pred_lgb.clip(0,20)\n",
    "})\n",
    "sales_util.save_submission('val_xgb_but_lgb_1',submission)"
   ]
  },
  {
   "cell_type": "code",
   "execution_count": null,
   "metadata": {},
   "outputs": [],
   "source": []
  }
 ],
 "metadata": {
  "kernelspec": {
   "display_name": "Python 3",
   "language": "python",
   "name": "python3"
  },
  "language_info": {
   "codemirror_mode": {
    "name": "ipython",
    "version": 3
   },
   "file_extension": ".py",
   "mimetype": "text/x-python",
   "name": "python",
   "nbconvert_exporter": "python",
   "pygments_lexer": "ipython3",
   "version": "3.7.6"
  }
 },
 "nbformat": 4,
 "nbformat_minor": 4
}
